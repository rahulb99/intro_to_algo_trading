{
 "cells": [
  {
   "cell_type": "markdown",
   "metadata": {},
   "source": [
    "# Quantitative Momentum Strategy\n",
    "\n",
    "\"Momentum investing\" means investing in the stocks that have increased in price the most.\n",
    "\n",
    "For this project, we're going to build an investing strategy that selects the 50 stocks with the highest price momentum. From there, we will calculate recommended trades for an equal-weight portfolio of these 50 stocks.\n",
    "\n",
    "\n",
    "## Library Imports\n",
    "\n",
    "The first thing we need to do is import the open-source software libraries that we'll be using in this tutorial."
   ]
  },
  {
   "cell_type": "code",
   "execution_count": 1,
   "metadata": {},
   "outputs": [],
   "source": [
    "import numpy as np\n",
    "import pandas as pd \n",
    "import requests\n",
    "import xlsxwriter\n",
    "import math\n",
    "from scipy import stats"
   ]
  },
  {
   "cell_type": "markdown",
   "metadata": {},
   "source": [
    "## Importing Our List of Stocks\n",
    "\n",
    "As before, we'll need to import our list of stocks and our API token before proceeding. Make sure the `.csv` file is still in your working directory and import it with the following command:"
   ]
  },
  {
   "cell_type": "code",
   "execution_count": 2,
   "metadata": {},
   "outputs": [],
   "source": [
    "from secrets import IEX_CLOUD_API_TOKEN\n",
    "stocks = pd.read_csv('sp_500_stocks.csv')"
   ]
  },
  {
   "cell_type": "markdown",
   "metadata": {},
   "source": [
    "## Making Our First API Call\n",
    "\n",
    "It's now time to make the first version of our momentum screener!\n",
    "\n",
    "We need to get one-year price returns for each stock in the universe. Here's how."
   ]
  },
  {
   "cell_type": "code",
   "execution_count": 3,
   "metadata": {},
   "outputs": [
    {
     "output_type": "execute_result",
     "data": {
      "text/plain": [
       "{'companyName': 'Apple Inc',\n",
       " 'marketcap': 2354754622177,\n",
       " 'week52high': 136.9,\n",
       " 'week52low': 55.9,\n",
       " 'week52change': 0.790117092473812,\n",
       " 'sharesOutstanding': 17775642157,\n",
       " 'float': 0,\n",
       " 'avg10Volume': 99935012,\n",
       " 'avg30Volume': 106505169,\n",
       " 'day200MovingAvg': 114.72,\n",
       " 'day50MovingAvg': 127.19,\n",
       " 'employees': 0,\n",
       " 'ttmEPS': 3.38,\n",
       " 'ttmDividendRate': 0.8354186517683627,\n",
       " 'dividendYield': 0.006345068247841052,\n",
       " 'nextDividendDate': '0',\n",
       " 'exDividendDate': '2020-10-29',\n",
       " 'nextEarningsDate': '0',\n",
       " 'peRatio': 39.736973315108195,\n",
       " 'beta': 1.211301541864665,\n",
       " 'maxChangePercent': 51.894307653521665,\n",
       " 'year5ChangePercent': 4.479139903197893,\n",
       " 'year2ChangePercent': 2.508399042102535,\n",
       " 'year1ChangePercent': 0.8354666516752962,\n",
       " 'ytdChangePercent': 0,\n",
       " 'month6ChangePercent': 0.4620831274860813,\n",
       " 'month3ChangePercent': 0.1488230120440675,\n",
       " 'month1ChangePercent': 0.1177673425995632,\n",
       " 'day30ChangePercent': 0.08242442679860304,\n",
       " 'day5ChangePercent': 0.005604349707061035}"
      ]
     },
     "metadata": {},
     "execution_count": 3
    }
   ],
   "source": [
    "symbol = \"AAPL\"\n",
    "api_url = f\"https://sandbox.iexapis.com//stable/stock/{symbol}/stats/?token={IEX_CLOUD_API_TOKEN}\"\n",
    "data = requests.get(api_url).json()\n",
    "data"
   ]
  },
  {
   "cell_type": "markdown",
   "metadata": {},
   "source": [
    "## Parsing Our API Call\n",
    "\n",
    "This API call has all the information we need. We can parse it using the same square-bracket notation as in the first project of this course. Here is an example."
   ]
  },
  {
   "cell_type": "code",
   "execution_count": 4,
   "metadata": {},
   "outputs": [
    {
     "output_type": "execute_result",
     "data": {
      "text/plain": [
       "0.8354666516752962"
      ]
     },
     "metadata": {},
     "execution_count": 4
    }
   ],
   "source": [
    "data['year1ChangePercent']"
   ]
  },
  {
   "cell_type": "markdown",
   "metadata": {},
   "source": [
    "## Executing A Batch API Call & Building Our DataFrame\n",
    "\n",
    "Just like in our first project, it's now time to execute several batch API calls and add the information we need to our DataFrame.\n",
    "\n",
    "We'll start by running the following code cell, which contains some code we already built last time that we can re-use for this project. More specifically, it contains a function called `chunks` that we can use to divide our list of securities into groups of 100."
   ]
  },
  {
   "cell_type": "code",
   "execution_count": 5,
   "metadata": {},
   "outputs": [],
   "source": [
    "# Function sourced from \n",
    "# https://stackoverflow.com/questions/312443/how-do-you-split-a-list-into-evenly-sized-chunks\n",
    "def chunks(lst, n):\n",
    "    \"\"\"Yield successive n-sized chunks from lst.\"\"\"\n",
    "    for i in range(0, len(lst), n):\n",
    "        yield lst[i:i + n]   \n",
    "        \n",
    "symbol_groups = list(chunks(stocks['Ticker'], 100))\n",
    "symbol_strings = []\n",
    "for i in range(0, len(symbol_groups)):\n",
    "    symbol_strings.append(','.join(symbol_groups[i]))\n",
    "#     print(symbol_strings[i])\n",
    "\n",
    "my_columns = ['Ticker', 'Price', 'One-Year Price Return', 'Number of Shares to Buy']"
   ]
  },
  {
   "cell_type": "markdown",
   "metadata": {},
   "source": [
    "Now we need to create a blank DataFrame and add our data to the data frame one-by-one."
   ]
  },
  {
   "cell_type": "code",
   "execution_count": 17,
   "metadata": {},
   "outputs": [
    {
     "output_type": "execute_result",
     "data": {
      "text/plain": [
       "    Ticker   Price One-Year Price Return Number of Shares to Buy\n",
       "0        A  120.91               0.40645                     N/A\n",
       "1      AAL   16.28             -0.465675                     N/A\n",
       "2      AAP  161.93           -0.00905499                     N/A\n",
       "3     AAPL  133.36              0.861114                     N/A\n",
       "4     ABBV  112.15              0.279991                     N/A\n",
       "..     ...     ...                   ...                     ...\n",
       "500    YUM  113.34              0.103263                     N/A\n",
       "501    ZBH  156.86              0.038256                     N/A\n",
       "502   ZBRA  388.82              0.521831                     N/A\n",
       "503   ZION   43.62             -0.132346                     N/A\n",
       "504    ZTS  167.30              0.269585                     N/A\n",
       "\n",
       "[505 rows x 4 columns]"
      ],
      "text/html": "<div>\n<style scoped>\n    .dataframe tbody tr th:only-of-type {\n        vertical-align: middle;\n    }\n\n    .dataframe tbody tr th {\n        vertical-align: top;\n    }\n\n    .dataframe thead th {\n        text-align: right;\n    }\n</style>\n<table border=\"1\" class=\"dataframe\">\n  <thead>\n    <tr style=\"text-align: right;\">\n      <th></th>\n      <th>Ticker</th>\n      <th>Price</th>\n      <th>One-Year Price Return</th>\n      <th>Number of Shares to Buy</th>\n    </tr>\n  </thead>\n  <tbody>\n    <tr>\n      <th>0</th>\n      <td>A</td>\n      <td>120.91</td>\n      <td>0.40645</td>\n      <td>N/A</td>\n    </tr>\n    <tr>\n      <th>1</th>\n      <td>AAL</td>\n      <td>16.28</td>\n      <td>-0.465675</td>\n      <td>N/A</td>\n    </tr>\n    <tr>\n      <th>2</th>\n      <td>AAP</td>\n      <td>161.93</td>\n      <td>-0.00905499</td>\n      <td>N/A</td>\n    </tr>\n    <tr>\n      <th>3</th>\n      <td>AAPL</td>\n      <td>133.36</td>\n      <td>0.861114</td>\n      <td>N/A</td>\n    </tr>\n    <tr>\n      <th>4</th>\n      <td>ABBV</td>\n      <td>112.15</td>\n      <td>0.279991</td>\n      <td>N/A</td>\n    </tr>\n    <tr>\n      <th>...</th>\n      <td>...</td>\n      <td>...</td>\n      <td>...</td>\n      <td>...</td>\n    </tr>\n    <tr>\n      <th>500</th>\n      <td>YUM</td>\n      <td>113.34</td>\n      <td>0.103263</td>\n      <td>N/A</td>\n    </tr>\n    <tr>\n      <th>501</th>\n      <td>ZBH</td>\n      <td>156.86</td>\n      <td>0.038256</td>\n      <td>N/A</td>\n    </tr>\n    <tr>\n      <th>502</th>\n      <td>ZBRA</td>\n      <td>388.82</td>\n      <td>0.521831</td>\n      <td>N/A</td>\n    </tr>\n    <tr>\n      <th>503</th>\n      <td>ZION</td>\n      <td>43.62</td>\n      <td>-0.132346</td>\n      <td>N/A</td>\n    </tr>\n    <tr>\n      <th>504</th>\n      <td>ZTS</td>\n      <td>167.30</td>\n      <td>0.269585</td>\n      <td>N/A</td>\n    </tr>\n  </tbody>\n</table>\n<p>505 rows × 4 columns</p>\n</div>"
     },
     "metadata": {},
     "execution_count": 17
    }
   ],
   "source": [
    "final_dataframe = pd.DataFrame(columns=my_columns)\n",
    "\n",
    "for symbol_string in symbol_strings:\n",
    "    batch_api_call_url = f\"https://sandbox.iexapis.com/stable/stock/market/batch/stats?symbols={symbol_string}&types=price,stats&token={IEX_CLOUD_API_TOKEN}\"\n",
    "    data = requests.get(batch_api_call_url).json()\n",
    "    for symbol in symbol_string.split(','):\n",
    "        final_dataframe = final_dataframe.append(pd.Series([symbol,data[symbol]['price'],data[symbol]['stats']['year1ChangePercent'], 'N/A'], index=my_columns), ignore_index=True)\n",
    "\n",
    "final_dataframe"
   ]
  },
  {
   "cell_type": "markdown",
   "metadata": {},
   "source": [
    "## Removing Low-Momentum Stocks\n",
    "\n",
    "The investment strategy that we're building seeks to identify the 50 highest-momentum stocks in the S&P 500.\n",
    "\n",
    "Because of this, the next thing we need to do is remove all the stocks in our DataFrame that fall below this momentum threshold. We'll sort the DataFrame by the stocks' one-year price return, and drop all stocks outside the top 50.\n"
   ]
  },
  {
   "cell_type": "code",
   "execution_count": 18,
   "metadata": {},
   "outputs": [
    {
     "output_type": "execute_result",
     "data": {
      "text/plain": [
       "    index Ticker    Price One-Year Price Return Number of Shares to Buy\n",
       "0      78   CARR    38.09                2.1612                     N/A\n",
       "1     345   NVDA   525.20               1.25211                     N/A\n",
       "2     387   PYPL   238.20               1.18947                     N/A\n",
       "3     275     LB    38.94               1.11128                     N/A\n",
       "4      23    ALB   150.68               1.08076                     N/A\n",
       "5      31    AMD    92.46               1.02294                     N/A\n",
       "6     179    FCX    26.63              0.998526                     N/A\n",
       "7      85   CDNS   138.64              0.980741                     N/A\n",
       "8     339    NOW   564.55              0.963938                     N/A\n",
       "9     236   IDXX   502.41              0.950181                     N/A\n",
       "10      6   ABMD   338.00              0.918918                     N/A\n",
       "11     24   ALGN   560.47              0.915442                     N/A\n",
       "12    490    WST   286.62              0.911821                     N/A\n",
       "13    415   SNPS   266.04              0.869001                     N/A\n",
       "14      3   AAPL   133.36              0.861114                     N/A\n",
       "15    388   QCOM   154.55              0.788331                     N/A\n",
       "16    400    ROL    40.84              0.782749                     N/A\n",
       "17    385    PWR    74.52              0.779029                     N/A\n",
       "18    440   TMUS   139.48              0.775239                     N/A\n",
       "19     36   AMZN  3282.64               0.76897                     N/A\n",
       "20    180    FDX   269.25              0.765906                     N/A\n",
       "21    319   MSCI   454.26              0.750769                     N/A\n",
       "22    150   DXCM   376.30              0.722505                     N/A\n",
       "23    448   TWTR    56.14              0.718696                     N/A\n",
       "24    358   PAYC   469.34              0.709083                     N/A\n",
       "25    447   TTWO   210.23              0.698482                     N/A\n",
       "26     13   ADSK   316.47              0.690318                     N/A\n",
       "27    332   NFLX   563.96              0.680928                     N/A\n",
       "28    101    CMG  1401.70              0.668323                     N/A\n",
       "29    288   LRCX   495.25               0.65273                     N/A\n",
       "30     48   ATVI    96.53              0.597738                     N/A\n",
       "31     63    BIO   597.89              0.589139                     N/A\n",
       "32    128     DE   274.68              0.585871                     N/A\n",
       "33    147    DVA   122.90               0.57533                     N/A\n",
       "34    410   SIVB   389.00               0.57188                     N/A\n",
       "35    351   ODFL   201.57              0.551217                     N/A\n",
       "36    246   IPGP   224.61              0.546677                     N/A\n",
       "37    444   TSCO   144.26              0.527998                     N/A\n",
       "38      9   ADBE   516.81              0.522142                     N/A\n",
       "39    502   ZBRA   388.82              0.521831                     N/A\n",
       "40    308   MKTX   597.85              0.516101                     N/A\n",
       "41    356   OTIS    69.66              0.509487                     N/A\n",
       "42    461    UPS   174.40              0.505858                     N/A\n",
       "43    325   MXIM    89.53                0.4961                     N/A\n",
       "44    372    PKI   150.60              0.494476                     N/A\n",
       "45    495   XLNX   145.91              0.485353                     N/A\n",
       "46    266   KLAC   264.54              0.485271                     N/A\n",
       "47    312   MNST    95.44              0.473919                     N/A\n",
       "48     67    BLK   731.06              0.473844                     N/A\n",
       "49     68    BLL    95.34              0.469739                     N/A"
      ],
      "text/html": "<div>\n<style scoped>\n    .dataframe tbody tr th:only-of-type {\n        vertical-align: middle;\n    }\n\n    .dataframe tbody tr th {\n        vertical-align: top;\n    }\n\n    .dataframe thead th {\n        text-align: right;\n    }\n</style>\n<table border=\"1\" class=\"dataframe\">\n  <thead>\n    <tr style=\"text-align: right;\">\n      <th></th>\n      <th>index</th>\n      <th>Ticker</th>\n      <th>Price</th>\n      <th>One-Year Price Return</th>\n      <th>Number of Shares to Buy</th>\n    </tr>\n  </thead>\n  <tbody>\n    <tr>\n      <th>0</th>\n      <td>78</td>\n      <td>CARR</td>\n      <td>38.09</td>\n      <td>2.1612</td>\n      <td>N/A</td>\n    </tr>\n    <tr>\n      <th>1</th>\n      <td>345</td>\n      <td>NVDA</td>\n      <td>525.20</td>\n      <td>1.25211</td>\n      <td>N/A</td>\n    </tr>\n    <tr>\n      <th>2</th>\n      <td>387</td>\n      <td>PYPL</td>\n      <td>238.20</td>\n      <td>1.18947</td>\n      <td>N/A</td>\n    </tr>\n    <tr>\n      <th>3</th>\n      <td>275</td>\n      <td>LB</td>\n      <td>38.94</td>\n      <td>1.11128</td>\n      <td>N/A</td>\n    </tr>\n    <tr>\n      <th>4</th>\n      <td>23</td>\n      <td>ALB</td>\n      <td>150.68</td>\n      <td>1.08076</td>\n      <td>N/A</td>\n    </tr>\n    <tr>\n      <th>5</th>\n      <td>31</td>\n      <td>AMD</td>\n      <td>92.46</td>\n      <td>1.02294</td>\n      <td>N/A</td>\n    </tr>\n    <tr>\n      <th>6</th>\n      <td>179</td>\n      <td>FCX</td>\n      <td>26.63</td>\n      <td>0.998526</td>\n      <td>N/A</td>\n    </tr>\n    <tr>\n      <th>7</th>\n      <td>85</td>\n      <td>CDNS</td>\n      <td>138.64</td>\n      <td>0.980741</td>\n      <td>N/A</td>\n    </tr>\n    <tr>\n      <th>8</th>\n      <td>339</td>\n      <td>NOW</td>\n      <td>564.55</td>\n      <td>0.963938</td>\n      <td>N/A</td>\n    </tr>\n    <tr>\n      <th>9</th>\n      <td>236</td>\n      <td>IDXX</td>\n      <td>502.41</td>\n      <td>0.950181</td>\n      <td>N/A</td>\n    </tr>\n    <tr>\n      <th>10</th>\n      <td>6</td>\n      <td>ABMD</td>\n      <td>338.00</td>\n      <td>0.918918</td>\n      <td>N/A</td>\n    </tr>\n    <tr>\n      <th>11</th>\n      <td>24</td>\n      <td>ALGN</td>\n      <td>560.47</td>\n      <td>0.915442</td>\n      <td>N/A</td>\n    </tr>\n    <tr>\n      <th>12</th>\n      <td>490</td>\n      <td>WST</td>\n      <td>286.62</td>\n      <td>0.911821</td>\n      <td>N/A</td>\n    </tr>\n    <tr>\n      <th>13</th>\n      <td>415</td>\n      <td>SNPS</td>\n      <td>266.04</td>\n      <td>0.869001</td>\n      <td>N/A</td>\n    </tr>\n    <tr>\n      <th>14</th>\n      <td>3</td>\n      <td>AAPL</td>\n      <td>133.36</td>\n      <td>0.861114</td>\n      <td>N/A</td>\n    </tr>\n    <tr>\n      <th>15</th>\n      <td>388</td>\n      <td>QCOM</td>\n      <td>154.55</td>\n      <td>0.788331</td>\n      <td>N/A</td>\n    </tr>\n    <tr>\n      <th>16</th>\n      <td>400</td>\n      <td>ROL</td>\n      <td>40.84</td>\n      <td>0.782749</td>\n      <td>N/A</td>\n    </tr>\n    <tr>\n      <th>17</th>\n      <td>385</td>\n      <td>PWR</td>\n      <td>74.52</td>\n      <td>0.779029</td>\n      <td>N/A</td>\n    </tr>\n    <tr>\n      <th>18</th>\n      <td>440</td>\n      <td>TMUS</td>\n      <td>139.48</td>\n      <td>0.775239</td>\n      <td>N/A</td>\n    </tr>\n    <tr>\n      <th>19</th>\n      <td>36</td>\n      <td>AMZN</td>\n      <td>3282.64</td>\n      <td>0.76897</td>\n      <td>N/A</td>\n    </tr>\n    <tr>\n      <th>20</th>\n      <td>180</td>\n      <td>FDX</td>\n      <td>269.25</td>\n      <td>0.765906</td>\n      <td>N/A</td>\n    </tr>\n    <tr>\n      <th>21</th>\n      <td>319</td>\n      <td>MSCI</td>\n      <td>454.26</td>\n      <td>0.750769</td>\n      <td>N/A</td>\n    </tr>\n    <tr>\n      <th>22</th>\n      <td>150</td>\n      <td>DXCM</td>\n      <td>376.30</td>\n      <td>0.722505</td>\n      <td>N/A</td>\n    </tr>\n    <tr>\n      <th>23</th>\n      <td>448</td>\n      <td>TWTR</td>\n      <td>56.14</td>\n      <td>0.718696</td>\n      <td>N/A</td>\n    </tr>\n    <tr>\n      <th>24</th>\n      <td>358</td>\n      <td>PAYC</td>\n      <td>469.34</td>\n      <td>0.709083</td>\n      <td>N/A</td>\n    </tr>\n    <tr>\n      <th>25</th>\n      <td>447</td>\n      <td>TTWO</td>\n      <td>210.23</td>\n      <td>0.698482</td>\n      <td>N/A</td>\n    </tr>\n    <tr>\n      <th>26</th>\n      <td>13</td>\n      <td>ADSK</td>\n      <td>316.47</td>\n      <td>0.690318</td>\n      <td>N/A</td>\n    </tr>\n    <tr>\n      <th>27</th>\n      <td>332</td>\n      <td>NFLX</td>\n      <td>563.96</td>\n      <td>0.680928</td>\n      <td>N/A</td>\n    </tr>\n    <tr>\n      <th>28</th>\n      <td>101</td>\n      <td>CMG</td>\n      <td>1401.70</td>\n      <td>0.668323</td>\n      <td>N/A</td>\n    </tr>\n    <tr>\n      <th>29</th>\n      <td>288</td>\n      <td>LRCX</td>\n      <td>495.25</td>\n      <td>0.65273</td>\n      <td>N/A</td>\n    </tr>\n    <tr>\n      <th>30</th>\n      <td>48</td>\n      <td>ATVI</td>\n      <td>96.53</td>\n      <td>0.597738</td>\n      <td>N/A</td>\n    </tr>\n    <tr>\n      <th>31</th>\n      <td>63</td>\n      <td>BIO</td>\n      <td>597.89</td>\n      <td>0.589139</td>\n      <td>N/A</td>\n    </tr>\n    <tr>\n      <th>32</th>\n      <td>128</td>\n      <td>DE</td>\n      <td>274.68</td>\n      <td>0.585871</td>\n      <td>N/A</td>\n    </tr>\n    <tr>\n      <th>33</th>\n      <td>147</td>\n      <td>DVA</td>\n      <td>122.90</td>\n      <td>0.57533</td>\n      <td>N/A</td>\n    </tr>\n    <tr>\n      <th>34</th>\n      <td>410</td>\n      <td>SIVB</td>\n      <td>389.00</td>\n      <td>0.57188</td>\n      <td>N/A</td>\n    </tr>\n    <tr>\n      <th>35</th>\n      <td>351</td>\n      <td>ODFL</td>\n      <td>201.57</td>\n      <td>0.551217</td>\n      <td>N/A</td>\n    </tr>\n    <tr>\n      <th>36</th>\n      <td>246</td>\n      <td>IPGP</td>\n      <td>224.61</td>\n      <td>0.546677</td>\n      <td>N/A</td>\n    </tr>\n    <tr>\n      <th>37</th>\n      <td>444</td>\n      <td>TSCO</td>\n      <td>144.26</td>\n      <td>0.527998</td>\n      <td>N/A</td>\n    </tr>\n    <tr>\n      <th>38</th>\n      <td>9</td>\n      <td>ADBE</td>\n      <td>516.81</td>\n      <td>0.522142</td>\n      <td>N/A</td>\n    </tr>\n    <tr>\n      <th>39</th>\n      <td>502</td>\n      <td>ZBRA</td>\n      <td>388.82</td>\n      <td>0.521831</td>\n      <td>N/A</td>\n    </tr>\n    <tr>\n      <th>40</th>\n      <td>308</td>\n      <td>MKTX</td>\n      <td>597.85</td>\n      <td>0.516101</td>\n      <td>N/A</td>\n    </tr>\n    <tr>\n      <th>41</th>\n      <td>356</td>\n      <td>OTIS</td>\n      <td>69.66</td>\n      <td>0.509487</td>\n      <td>N/A</td>\n    </tr>\n    <tr>\n      <th>42</th>\n      <td>461</td>\n      <td>UPS</td>\n      <td>174.40</td>\n      <td>0.505858</td>\n      <td>N/A</td>\n    </tr>\n    <tr>\n      <th>43</th>\n      <td>325</td>\n      <td>MXIM</td>\n      <td>89.53</td>\n      <td>0.4961</td>\n      <td>N/A</td>\n    </tr>\n    <tr>\n      <th>44</th>\n      <td>372</td>\n      <td>PKI</td>\n      <td>150.60</td>\n      <td>0.494476</td>\n      <td>N/A</td>\n    </tr>\n    <tr>\n      <th>45</th>\n      <td>495</td>\n      <td>XLNX</td>\n      <td>145.91</td>\n      <td>0.485353</td>\n      <td>N/A</td>\n    </tr>\n    <tr>\n      <th>46</th>\n      <td>266</td>\n      <td>KLAC</td>\n      <td>264.54</td>\n      <td>0.485271</td>\n      <td>N/A</td>\n    </tr>\n    <tr>\n      <th>47</th>\n      <td>312</td>\n      <td>MNST</td>\n      <td>95.44</td>\n      <td>0.473919</td>\n      <td>N/A</td>\n    </tr>\n    <tr>\n      <th>48</th>\n      <td>67</td>\n      <td>BLK</td>\n      <td>731.06</td>\n      <td>0.473844</td>\n      <td>N/A</td>\n    </tr>\n    <tr>\n      <th>49</th>\n      <td>68</td>\n      <td>BLL</td>\n      <td>95.34</td>\n      <td>0.469739</td>\n      <td>N/A</td>\n    </tr>\n  </tbody>\n</table>\n</div>"
     },
     "metadata": {},
     "execution_count": 18
    }
   ],
   "source": [
    "final_dataframe.sort_values('One-Year Price Return', ascending=False, inplace=True)\n",
    "final_dataframe = final_dataframe[:50]\n",
    "final_dataframe.reset_index(inplace=True)\n",
    "final_dataframe"
   ]
  },
  {
   "cell_type": "markdown",
   "metadata": {},
   "source": [
    "## Calculating the Number of Shares to Buy\n",
    "\n",
    "Just like in the last project, we now need to calculate the number of shares we need to buy. The one change we're going to make is wrapping this functionality inside a function, since we'll be using it again later in this Jupyter Notebook.\n",
    "\n",
    "Since we've already done most of the work on this, try to complete the following two code cells without watching me do it first!"
   ]
  },
  {
   "cell_type": "code",
   "execution_count": 21,
   "metadata": {},
   "outputs": [],
   "source": [
    "def portfolio_input():\n",
    "    global portfolio_size\n",
    "    portfolio_size = input('Enter size of your portfolio')\n",
    "\n",
    "    try:\n",
    "        float(portfolio_size)\n",
    "    except ValueError:\n",
    "        print('Not a number :( \\nPlease try again!')\n",
    "        portfolio_size = input('Enter value of your portfolio')"
   ]
  },
  {
   "cell_type": "code",
   "execution_count": 23,
   "metadata": {},
   "outputs": [
    {
     "output_type": "execute_result",
     "data": {
      "text/plain": [
       "200000.0"
      ]
     },
     "metadata": {},
     "execution_count": 23
    }
   ],
   "source": [
    "portfolio_input()"
   ]
  },
  {
   "cell_type": "code",
   "execution_count": null,
   "metadata": {},
   "outputs": [],
   "source": [
    "position_size = float(portfolio_size)/len(final_dataframe.index)\n",
    "position_size"
   ]
  },
  {
   "cell_type": "code",
   "execution_count": 25,
   "metadata": {},
   "outputs": [
    {
     "output_type": "execute_result",
     "data": {
      "text/plain": [
       "    index Ticker    Price One-Year Price Return  Number of Shares to Buy\n",
       "0      78   CARR    38.09                2.1612                     5250\n",
       "1     345   NVDA   525.20               1.25211                      380\n",
       "2     387   PYPL   238.20               1.18947                      839\n",
       "3     275     LB    38.94               1.11128                     5136\n",
       "4      23    ALB   150.68               1.08076                     1327\n",
       "5      31    AMD    92.46               1.02294                     2163\n",
       "6     179    FCX    26.63              0.998526                     7510\n",
       "7      85   CDNS   138.64              0.980741                     1442\n",
       "8     339    NOW   564.55              0.963938                      354\n",
       "9     236   IDXX   502.41              0.950181                      398\n",
       "10      6   ABMD   338.00              0.918918                      591\n",
       "11     24   ALGN   560.47              0.915442                      356\n",
       "12    490    WST   286.62              0.911821                      697\n",
       "13    415   SNPS   266.04              0.869001                      751\n",
       "14      3   AAPL   133.36              0.861114                     1499\n",
       "15    388   QCOM   154.55              0.788331                     1294\n",
       "16    400    ROL    40.84              0.782749                     4897\n",
       "17    385    PWR    74.52              0.779029                     2683\n",
       "18    440   TMUS   139.48              0.775239                     1433\n",
       "19     36   AMZN  3282.64               0.76897                       60\n",
       "20    180    FDX   269.25              0.765906                      742\n",
       "21    319   MSCI   454.26              0.750769                      440\n",
       "22    150   DXCM   376.30              0.722505                      531\n",
       "23    448   TWTR    56.14              0.718696                     3562\n",
       "24    358   PAYC   469.34              0.709083                      426\n",
       "25    447   TTWO   210.23              0.698482                      951\n",
       "26     13   ADSK   316.47              0.690318                      631\n",
       "27    332   NFLX   563.96              0.680928                      354\n",
       "28    101    CMG  1401.70              0.668323                      142\n",
       "29    288   LRCX   495.25               0.65273                      403\n",
       "30     48   ATVI    96.53              0.597738                     2071\n",
       "31     63    BIO   597.89              0.589139                      334\n",
       "32    128     DE   274.68              0.585871                      728\n",
       "33    147    DVA   122.90               0.57533                     1627\n",
       "34    410   SIVB   389.00               0.57188                      514\n",
       "35    351   ODFL   201.57              0.551217                      992\n",
       "36    246   IPGP   224.61              0.546677                      890\n",
       "37    444   TSCO   144.26              0.527998                     1386\n",
       "38      9   ADBE   516.81              0.522142                      386\n",
       "39    502   ZBRA   388.82              0.521831                      514\n",
       "40    308   MKTX   597.85              0.516101                      334\n",
       "41    356   OTIS    69.66              0.509487                     2871\n",
       "42    461    UPS   174.40              0.505858                     1146\n",
       "43    325   MXIM    89.53                0.4961                     2233\n",
       "44    372    PKI   150.60              0.494476                     1328\n",
       "45    495   XLNX   145.91              0.485353                     1370\n",
       "46    266   KLAC   264.54              0.485271                      756\n",
       "47    312   MNST    95.44              0.473919                     2095\n",
       "48     67    BLK   731.06              0.473844                      273\n",
       "49     68    BLL    95.34              0.469739                     2097"
      ],
      "text/html": "<div>\n<style scoped>\n    .dataframe tbody tr th:only-of-type {\n        vertical-align: middle;\n    }\n\n    .dataframe tbody tr th {\n        vertical-align: top;\n    }\n\n    .dataframe thead th {\n        text-align: right;\n    }\n</style>\n<table border=\"1\" class=\"dataframe\">\n  <thead>\n    <tr style=\"text-align: right;\">\n      <th></th>\n      <th>index</th>\n      <th>Ticker</th>\n      <th>Price</th>\n      <th>One-Year Price Return</th>\n      <th>Number of Shares to Buy</th>\n    </tr>\n  </thead>\n  <tbody>\n    <tr>\n      <th>0</th>\n      <td>78</td>\n      <td>CARR</td>\n      <td>38.09</td>\n      <td>2.1612</td>\n      <td>5250</td>\n    </tr>\n    <tr>\n      <th>1</th>\n      <td>345</td>\n      <td>NVDA</td>\n      <td>525.20</td>\n      <td>1.25211</td>\n      <td>380</td>\n    </tr>\n    <tr>\n      <th>2</th>\n      <td>387</td>\n      <td>PYPL</td>\n      <td>238.20</td>\n      <td>1.18947</td>\n      <td>839</td>\n    </tr>\n    <tr>\n      <th>3</th>\n      <td>275</td>\n      <td>LB</td>\n      <td>38.94</td>\n      <td>1.11128</td>\n      <td>5136</td>\n    </tr>\n    <tr>\n      <th>4</th>\n      <td>23</td>\n      <td>ALB</td>\n      <td>150.68</td>\n      <td>1.08076</td>\n      <td>1327</td>\n    </tr>\n    <tr>\n      <th>5</th>\n      <td>31</td>\n      <td>AMD</td>\n      <td>92.46</td>\n      <td>1.02294</td>\n      <td>2163</td>\n    </tr>\n    <tr>\n      <th>6</th>\n      <td>179</td>\n      <td>FCX</td>\n      <td>26.63</td>\n      <td>0.998526</td>\n      <td>7510</td>\n    </tr>\n    <tr>\n      <th>7</th>\n      <td>85</td>\n      <td>CDNS</td>\n      <td>138.64</td>\n      <td>0.980741</td>\n      <td>1442</td>\n    </tr>\n    <tr>\n      <th>8</th>\n      <td>339</td>\n      <td>NOW</td>\n      <td>564.55</td>\n      <td>0.963938</td>\n      <td>354</td>\n    </tr>\n    <tr>\n      <th>9</th>\n      <td>236</td>\n      <td>IDXX</td>\n      <td>502.41</td>\n      <td>0.950181</td>\n      <td>398</td>\n    </tr>\n    <tr>\n      <th>10</th>\n      <td>6</td>\n      <td>ABMD</td>\n      <td>338.00</td>\n      <td>0.918918</td>\n      <td>591</td>\n    </tr>\n    <tr>\n      <th>11</th>\n      <td>24</td>\n      <td>ALGN</td>\n      <td>560.47</td>\n      <td>0.915442</td>\n      <td>356</td>\n    </tr>\n    <tr>\n      <th>12</th>\n      <td>490</td>\n      <td>WST</td>\n      <td>286.62</td>\n      <td>0.911821</td>\n      <td>697</td>\n    </tr>\n    <tr>\n      <th>13</th>\n      <td>415</td>\n      <td>SNPS</td>\n      <td>266.04</td>\n      <td>0.869001</td>\n      <td>751</td>\n    </tr>\n    <tr>\n      <th>14</th>\n      <td>3</td>\n      <td>AAPL</td>\n      <td>133.36</td>\n      <td>0.861114</td>\n      <td>1499</td>\n    </tr>\n    <tr>\n      <th>15</th>\n      <td>388</td>\n      <td>QCOM</td>\n      <td>154.55</td>\n      <td>0.788331</td>\n      <td>1294</td>\n    </tr>\n    <tr>\n      <th>16</th>\n      <td>400</td>\n      <td>ROL</td>\n      <td>40.84</td>\n      <td>0.782749</td>\n      <td>4897</td>\n    </tr>\n    <tr>\n      <th>17</th>\n      <td>385</td>\n      <td>PWR</td>\n      <td>74.52</td>\n      <td>0.779029</td>\n      <td>2683</td>\n    </tr>\n    <tr>\n      <th>18</th>\n      <td>440</td>\n      <td>TMUS</td>\n      <td>139.48</td>\n      <td>0.775239</td>\n      <td>1433</td>\n    </tr>\n    <tr>\n      <th>19</th>\n      <td>36</td>\n      <td>AMZN</td>\n      <td>3282.64</td>\n      <td>0.76897</td>\n      <td>60</td>\n    </tr>\n    <tr>\n      <th>20</th>\n      <td>180</td>\n      <td>FDX</td>\n      <td>269.25</td>\n      <td>0.765906</td>\n      <td>742</td>\n    </tr>\n    <tr>\n      <th>21</th>\n      <td>319</td>\n      <td>MSCI</td>\n      <td>454.26</td>\n      <td>0.750769</td>\n      <td>440</td>\n    </tr>\n    <tr>\n      <th>22</th>\n      <td>150</td>\n      <td>DXCM</td>\n      <td>376.30</td>\n      <td>0.722505</td>\n      <td>531</td>\n    </tr>\n    <tr>\n      <th>23</th>\n      <td>448</td>\n      <td>TWTR</td>\n      <td>56.14</td>\n      <td>0.718696</td>\n      <td>3562</td>\n    </tr>\n    <tr>\n      <th>24</th>\n      <td>358</td>\n      <td>PAYC</td>\n      <td>469.34</td>\n      <td>0.709083</td>\n      <td>426</td>\n    </tr>\n    <tr>\n      <th>25</th>\n      <td>447</td>\n      <td>TTWO</td>\n      <td>210.23</td>\n      <td>0.698482</td>\n      <td>951</td>\n    </tr>\n    <tr>\n      <th>26</th>\n      <td>13</td>\n      <td>ADSK</td>\n      <td>316.47</td>\n      <td>0.690318</td>\n      <td>631</td>\n    </tr>\n    <tr>\n      <th>27</th>\n      <td>332</td>\n      <td>NFLX</td>\n      <td>563.96</td>\n      <td>0.680928</td>\n      <td>354</td>\n    </tr>\n    <tr>\n      <th>28</th>\n      <td>101</td>\n      <td>CMG</td>\n      <td>1401.70</td>\n      <td>0.668323</td>\n      <td>142</td>\n    </tr>\n    <tr>\n      <th>29</th>\n      <td>288</td>\n      <td>LRCX</td>\n      <td>495.25</td>\n      <td>0.65273</td>\n      <td>403</td>\n    </tr>\n    <tr>\n      <th>30</th>\n      <td>48</td>\n      <td>ATVI</td>\n      <td>96.53</td>\n      <td>0.597738</td>\n      <td>2071</td>\n    </tr>\n    <tr>\n      <th>31</th>\n      <td>63</td>\n      <td>BIO</td>\n      <td>597.89</td>\n      <td>0.589139</td>\n      <td>334</td>\n    </tr>\n    <tr>\n      <th>32</th>\n      <td>128</td>\n      <td>DE</td>\n      <td>274.68</td>\n      <td>0.585871</td>\n      <td>728</td>\n    </tr>\n    <tr>\n      <th>33</th>\n      <td>147</td>\n      <td>DVA</td>\n      <td>122.90</td>\n      <td>0.57533</td>\n      <td>1627</td>\n    </tr>\n    <tr>\n      <th>34</th>\n      <td>410</td>\n      <td>SIVB</td>\n      <td>389.00</td>\n      <td>0.57188</td>\n      <td>514</td>\n    </tr>\n    <tr>\n      <th>35</th>\n      <td>351</td>\n      <td>ODFL</td>\n      <td>201.57</td>\n      <td>0.551217</td>\n      <td>992</td>\n    </tr>\n    <tr>\n      <th>36</th>\n      <td>246</td>\n      <td>IPGP</td>\n      <td>224.61</td>\n      <td>0.546677</td>\n      <td>890</td>\n    </tr>\n    <tr>\n      <th>37</th>\n      <td>444</td>\n      <td>TSCO</td>\n      <td>144.26</td>\n      <td>0.527998</td>\n      <td>1386</td>\n    </tr>\n    <tr>\n      <th>38</th>\n      <td>9</td>\n      <td>ADBE</td>\n      <td>516.81</td>\n      <td>0.522142</td>\n      <td>386</td>\n    </tr>\n    <tr>\n      <th>39</th>\n      <td>502</td>\n      <td>ZBRA</td>\n      <td>388.82</td>\n      <td>0.521831</td>\n      <td>514</td>\n    </tr>\n    <tr>\n      <th>40</th>\n      <td>308</td>\n      <td>MKTX</td>\n      <td>597.85</td>\n      <td>0.516101</td>\n      <td>334</td>\n    </tr>\n    <tr>\n      <th>41</th>\n      <td>356</td>\n      <td>OTIS</td>\n      <td>69.66</td>\n      <td>0.509487</td>\n      <td>2871</td>\n    </tr>\n    <tr>\n      <th>42</th>\n      <td>461</td>\n      <td>UPS</td>\n      <td>174.40</td>\n      <td>0.505858</td>\n      <td>1146</td>\n    </tr>\n    <tr>\n      <th>43</th>\n      <td>325</td>\n      <td>MXIM</td>\n      <td>89.53</td>\n      <td>0.4961</td>\n      <td>2233</td>\n    </tr>\n    <tr>\n      <th>44</th>\n      <td>372</td>\n      <td>PKI</td>\n      <td>150.60</td>\n      <td>0.494476</td>\n      <td>1328</td>\n    </tr>\n    <tr>\n      <th>45</th>\n      <td>495</td>\n      <td>XLNX</td>\n      <td>145.91</td>\n      <td>0.485353</td>\n      <td>1370</td>\n    </tr>\n    <tr>\n      <th>46</th>\n      <td>266</td>\n      <td>KLAC</td>\n      <td>264.54</td>\n      <td>0.485271</td>\n      <td>756</td>\n    </tr>\n    <tr>\n      <th>47</th>\n      <td>312</td>\n      <td>MNST</td>\n      <td>95.44</td>\n      <td>0.473919</td>\n      <td>2095</td>\n    </tr>\n    <tr>\n      <th>48</th>\n      <td>67</td>\n      <td>BLK</td>\n      <td>731.06</td>\n      <td>0.473844</td>\n      <td>273</td>\n    </tr>\n    <tr>\n      <th>49</th>\n      <td>68</td>\n      <td>BLL</td>\n      <td>95.34</td>\n      <td>0.469739</td>\n      <td>2097</td>\n    </tr>\n  </tbody>\n</table>\n</div>"
     },
     "metadata": {},
     "execution_count": 25
    }
   ],
   "source": [
    "final_dataframe['Number of Shares to Buy'] = (position_size/final_dataframe['Price']).apply(math.floor)\n",
    "final_dataframe"
   ]
  },
  {
   "cell_type": "markdown",
   "metadata": {},
   "source": [
    "## Building a Better (and More Realistic) Momentum Strategy\n",
    "\n",
    "Real-world quantitative investment firms differentiate between \"high quality\" and \"low quality\" momentum stocks:\n",
    "\n",
    "* High-quality momentum stocks show \"slow and steady\" outperformance over long periods of time\n",
    "* Low-quality momentum stocks might not show any momentum for a long time, and then surge upwards.\n",
    "\n",
    "The reason why high-quality momentum stocks are preferred is because low-quality momentum can often be cause by short-term news that is unlikely to be repeated in the future (such as an FDA approval for a biotechnology company).\n",
    "\n",
    "To identify high-quality momentum, we're going to build a strategy that selects stocks from the highest percentiles of: \n",
    "\n",
    "* 1-month price returns\n",
    "* 3-month price returns\n",
    "* 6-month price returns\n",
    "* 1-year price returns\n",
    "\n",
    "Let's start by building our DataFrame. You'll notice that I use the abbreviation `hqm` often. It stands for `high-quality momentum`."
   ]
  },
  {
   "cell_type": "code",
   "execution_count": 33,
   "metadata": {},
   "outputs": [
    {
     "output_type": "execute_result",
     "data": {
      "text/plain": [
       "    Ticker   Price Number of Shares to Buy One-Year Price Return  \\\n",
       "0        A  124.40                     N/A              0.409757   \n",
       "1      AAL   16.00                     N/A             -0.464505   \n",
       "2      AAP  160.47                     N/A            -0.0088786   \n",
       "3     AAPL  135.76                     N/A              0.830891   \n",
       "4     ABBV  109.68                     N/A              0.278976   \n",
       "..     ...     ...                     ...                   ...   \n",
       "500    YUM  110.89                     N/A             0.0990458   \n",
       "501    ZBH  155.05                     N/A             0.0382469   \n",
       "502   ZBRA  397.86                     N/A              0.523775   \n",
       "503   ZION   44.79                     N/A             -0.132666   \n",
       "504    ZTS  172.20                     N/A              0.258482   \n",
       "\n",
       "    One-Year Percentile Six-Month Price Return Six-Month Percentile  \\\n",
       "0                   N/A               0.352903                  N/A   \n",
       "1                   N/A                0.20991                  N/A   \n",
       "2                   N/A               0.114015                  N/A   \n",
       "3                   N/A                0.47093                  N/A   \n",
       "4                   N/A                0.12041                  N/A   \n",
       "..                  ...                    ...                  ...   \n",
       "500                 N/A               0.263694                  N/A   \n",
       "501                 N/A               0.304883                  N/A   \n",
       "502                 N/A               0.518121                  N/A   \n",
       "503                 N/A               0.315339                  N/A   \n",
       "504                 N/A               0.213124                  N/A   \n",
       "\n",
       "    Three-Month Price Return Three-Month Percentile One-Month Price Return  \\\n",
       "0                   0.180561                    N/A               0.014258   \n",
       "1                   0.284546                    N/A               0.116562   \n",
       "2                  0.0281208                    N/A               0.068358   \n",
       "3                   0.154682                    N/A                0.11625   \n",
       "4                   0.250738                    N/A              0.0252438   \n",
       "..                       ...                    ...                    ...   \n",
       "500                 0.196498                    N/A              0.0268583   \n",
       "501                 0.136673                    N/A              0.0361937   \n",
       "502                 0.548099                    N/A              0.0159362   \n",
       "503                  0.52213                    N/A               0.128617   \n",
       "504                0.0020966                    N/A              0.0332161   \n",
       "\n",
       "    One-Month Percentile  \n",
       "0                    N/A  \n",
       "1                    N/A  \n",
       "2                    N/A  \n",
       "3                    N/A  \n",
       "4                    N/A  \n",
       "..                   ...  \n",
       "500                  N/A  \n",
       "501                  N/A  \n",
       "502                  N/A  \n",
       "503                  N/A  \n",
       "504                  N/A  \n",
       "\n",
       "[505 rows x 11 columns]"
      ],
      "text/html": "<div>\n<style scoped>\n    .dataframe tbody tr th:only-of-type {\n        vertical-align: middle;\n    }\n\n    .dataframe tbody tr th {\n        vertical-align: top;\n    }\n\n    .dataframe thead th {\n        text-align: right;\n    }\n</style>\n<table border=\"1\" class=\"dataframe\">\n  <thead>\n    <tr style=\"text-align: right;\">\n      <th></th>\n      <th>Ticker</th>\n      <th>Price</th>\n      <th>Number of Shares to Buy</th>\n      <th>One-Year Price Return</th>\n      <th>One-Year Percentile</th>\n      <th>Six-Month Price Return</th>\n      <th>Six-Month Percentile</th>\n      <th>Three-Month Price Return</th>\n      <th>Three-Month Percentile</th>\n      <th>One-Month Price Return</th>\n      <th>One-Month Percentile</th>\n    </tr>\n  </thead>\n  <tbody>\n    <tr>\n      <th>0</th>\n      <td>A</td>\n      <td>124.40</td>\n      <td>N/A</td>\n      <td>0.409757</td>\n      <td>N/A</td>\n      <td>0.352903</td>\n      <td>N/A</td>\n      <td>0.180561</td>\n      <td>N/A</td>\n      <td>0.014258</td>\n      <td>N/A</td>\n    </tr>\n    <tr>\n      <th>1</th>\n      <td>AAL</td>\n      <td>16.00</td>\n      <td>N/A</td>\n      <td>-0.464505</td>\n      <td>N/A</td>\n      <td>0.20991</td>\n      <td>N/A</td>\n      <td>0.284546</td>\n      <td>N/A</td>\n      <td>0.116562</td>\n      <td>N/A</td>\n    </tr>\n    <tr>\n      <th>2</th>\n      <td>AAP</td>\n      <td>160.47</td>\n      <td>N/A</td>\n      <td>-0.0088786</td>\n      <td>N/A</td>\n      <td>0.114015</td>\n      <td>N/A</td>\n      <td>0.0281208</td>\n      <td>N/A</td>\n      <td>0.068358</td>\n      <td>N/A</td>\n    </tr>\n    <tr>\n      <th>3</th>\n      <td>AAPL</td>\n      <td>135.76</td>\n      <td>N/A</td>\n      <td>0.830891</td>\n      <td>N/A</td>\n      <td>0.47093</td>\n      <td>N/A</td>\n      <td>0.154682</td>\n      <td>N/A</td>\n      <td>0.11625</td>\n      <td>N/A</td>\n    </tr>\n    <tr>\n      <th>4</th>\n      <td>ABBV</td>\n      <td>109.68</td>\n      <td>N/A</td>\n      <td>0.278976</td>\n      <td>N/A</td>\n      <td>0.12041</td>\n      <td>N/A</td>\n      <td>0.250738</td>\n      <td>N/A</td>\n      <td>0.0252438</td>\n      <td>N/A</td>\n    </tr>\n    <tr>\n      <th>...</th>\n      <td>...</td>\n      <td>...</td>\n      <td>...</td>\n      <td>...</td>\n      <td>...</td>\n      <td>...</td>\n      <td>...</td>\n      <td>...</td>\n      <td>...</td>\n      <td>...</td>\n      <td>...</td>\n    </tr>\n    <tr>\n      <th>500</th>\n      <td>YUM</td>\n      <td>110.89</td>\n      <td>N/A</td>\n      <td>0.0990458</td>\n      <td>N/A</td>\n      <td>0.263694</td>\n      <td>N/A</td>\n      <td>0.196498</td>\n      <td>N/A</td>\n      <td>0.0268583</td>\n      <td>N/A</td>\n    </tr>\n    <tr>\n      <th>501</th>\n      <td>ZBH</td>\n      <td>155.05</td>\n      <td>N/A</td>\n      <td>0.0382469</td>\n      <td>N/A</td>\n      <td>0.304883</td>\n      <td>N/A</td>\n      <td>0.136673</td>\n      <td>N/A</td>\n      <td>0.0361937</td>\n      <td>N/A</td>\n    </tr>\n    <tr>\n      <th>502</th>\n      <td>ZBRA</td>\n      <td>397.86</td>\n      <td>N/A</td>\n      <td>0.523775</td>\n      <td>N/A</td>\n      <td>0.518121</td>\n      <td>N/A</td>\n      <td>0.548099</td>\n      <td>N/A</td>\n      <td>0.0159362</td>\n      <td>N/A</td>\n    </tr>\n    <tr>\n      <th>503</th>\n      <td>ZION</td>\n      <td>44.79</td>\n      <td>N/A</td>\n      <td>-0.132666</td>\n      <td>N/A</td>\n      <td>0.315339</td>\n      <td>N/A</td>\n      <td>0.52213</td>\n      <td>N/A</td>\n      <td>0.128617</td>\n      <td>N/A</td>\n    </tr>\n    <tr>\n      <th>504</th>\n      <td>ZTS</td>\n      <td>172.20</td>\n      <td>N/A</td>\n      <td>0.258482</td>\n      <td>N/A</td>\n      <td>0.213124</td>\n      <td>N/A</td>\n      <td>0.0020966</td>\n      <td>N/A</td>\n      <td>0.0332161</td>\n      <td>N/A</td>\n    </tr>\n  </tbody>\n</table>\n<p>505 rows × 11 columns</p>\n</div>"
     },
     "metadata": {},
     "execution_count": 33
    }
   ],
   "source": [
    "hqm_cols = [\n",
    "    'Ticker',\n",
    "    'Price',\n",
    "    'Number of Shares to Buy',\n",
    "    'One-Year Price Return',\n",
    "    'One-Year Percentile',\n",
    "    'Six-Month Price Return',\n",
    "    'Six-Month Percentile',\n",
    "    'Three-Month Price Return',\n",
    "    'Three-Month Percentile',\n",
    "    'One-Month Price Return',\n",
    "    'One-Month Percentile'\n",
    "]\n",
    "\n",
    "hqm_df = pd.DataFrame(columns=hqm_cols)\n",
    "\n",
    "for symbol_string in symbol_strings:\n",
    "    batch_api_call_url = f\"https://sandbox.iexapis.com/stable/stock/market/batch/stats?symbols={symbol_string}&types=price,stats&token={IEX_CLOUD_API_TOKEN}\"\n",
    "    data = requests.get(batch_api_call_url).json()\n",
    "    for symbol in symbol_string.split(','):\n",
    "        hqm_df = hqm_df.append(pd.Series(\n",
    "            [symbol, \n",
    "            data[symbol]['price'], \n",
    "            'N/A',\n",
    "            data[symbol]['stats']['year1ChangePercent'], 'N/A', \n",
    "            data[symbol]['stats']['month6ChangePercent'], 'N/A', \n",
    "            data[symbol]['stats']['month3ChangePercent'], 'N/A', \n",
    "            data[symbol]['stats']['month1ChangePercent'], 'N/A'], \n",
    "            index=hqm_cols), ignore_index=True)\n",
    "\n",
    "hqm_df\n"
   ]
  },
  {
   "cell_type": "markdown",
   "metadata": {},
   "source": [
    "## Calculating Momentum Percentiles\n",
    "\n",
    "We now need to calculate momentum percentile scores for every stock in the universe. More specifically, we need to calculate percentile scores for the following metrics for every stock:\n",
    "\n",
    "* `One-Year Price Return`\n",
    "* `Six-Month Price Return`\n",
    "* `Three-Month Price Return`\n",
    "* `One-Month Price Return`\n",
    "\n",
    "Here's how we'll do this:"
   ]
  },
  {
   "cell_type": "code",
   "execution_count": 40,
   "metadata": {},
   "outputs": [
    {
     "output_type": "error",
     "ename": "TypeError",
     "evalue": "'<' not supported between instances of 'NoneType' and 'float'",
     "traceback": [
      "\u001b[0;31m---------------------------------------------------------------------------\u001b[0m",
      "\u001b[0;31mTypeError\u001b[0m                                 Traceback (most recent call last)",
      "\u001b[0;32m<ipython-input-40-62a5384b4366>\u001b[0m in \u001b[0;36m<module>\u001b[0;34m\u001b[0m\n\u001b[1;32m      2\u001b[0m \u001b[0;32mfor\u001b[0m \u001b[0mi\u001b[0m \u001b[0;32min\u001b[0m \u001b[0mrange\u001b[0m\u001b[0;34m(\u001b[0m\u001b[0mlen\u001b[0m\u001b[0;34m(\u001b[0m\u001b[0mhqm_df\u001b[0m\u001b[0;34m.\u001b[0m\u001b[0mindex\u001b[0m\u001b[0;34m)\u001b[0m\u001b[0;34m)\u001b[0m\u001b[0;34m:\u001b[0m\u001b[0;34m\u001b[0m\u001b[0;34m\u001b[0m\u001b[0m\n\u001b[1;32m      3\u001b[0m     \u001b[0;32mfor\u001b[0m \u001b[0mperiod\u001b[0m \u001b[0;32min\u001b[0m \u001b[0mtime_periods\u001b[0m\u001b[0;34m:\u001b[0m\u001b[0;34m\u001b[0m\u001b[0;34m\u001b[0m\u001b[0m\n\u001b[0;32m----> 4\u001b[0;31m         \u001b[0mhqm_df\u001b[0m\u001b[0;34m.\u001b[0m\u001b[0mloc\u001b[0m\u001b[0;34m[\u001b[0m\u001b[0mi\u001b[0m\u001b[0;34m,\u001b[0m \u001b[0;34mf'{period} Percentile'\u001b[0m\u001b[0;34m]\u001b[0m \u001b[0;34m=\u001b[0m \u001b[0mstats\u001b[0m\u001b[0;34m.\u001b[0m\u001b[0mpercentileofscore\u001b[0m\u001b[0;34m(\u001b[0m\u001b[0mhqm_df\u001b[0m\u001b[0;34m[\u001b[0m\u001b[0;34mf'{period} Price Return'\u001b[0m\u001b[0;34m]\u001b[0m\u001b[0;34m,\u001b[0m \u001b[0mhqm_df\u001b[0m\u001b[0;34m.\u001b[0m\u001b[0mloc\u001b[0m\u001b[0;34m[\u001b[0m\u001b[0mi\u001b[0m\u001b[0;34m,\u001b[0m \u001b[0;34mf'{period} Price Return'\u001b[0m\u001b[0;34m]\u001b[0m\u001b[0;34m)\u001b[0m\u001b[0;34m\u001b[0m\u001b[0;34m\u001b[0m\u001b[0m\n\u001b[0m\u001b[1;32m      5\u001b[0m \u001b[0mhqm_df\u001b[0m\u001b[0;34m\u001b[0m\u001b[0;34m\u001b[0m\u001b[0m\n",
      "\u001b[0;32m/Library/Frameworks/Python.framework/Versions/3.8/lib/python3.8/site-packages/scipy/stats/stats.py\u001b[0m in \u001b[0;36mpercentileofscore\u001b[0;34m(a, score, kind)\u001b[0m\n\u001b[1;32m   2015\u001b[0m \u001b[0;34m\u001b[0m\u001b[0m\n\u001b[1;32m   2016\u001b[0m     \u001b[0;32mif\u001b[0m \u001b[0mkind\u001b[0m \u001b[0;34m==\u001b[0m \u001b[0;34m'rank'\u001b[0m\u001b[0;34m:\u001b[0m\u001b[0;34m\u001b[0m\u001b[0;34m\u001b[0m\u001b[0m\n\u001b[0;32m-> 2017\u001b[0;31m         \u001b[0mleft\u001b[0m \u001b[0;34m=\u001b[0m \u001b[0mnp\u001b[0m\u001b[0;34m.\u001b[0m\u001b[0mcount_nonzero\u001b[0m\u001b[0;34m(\u001b[0m\u001b[0ma\u001b[0m \u001b[0;34m<\u001b[0m \u001b[0mscore\u001b[0m\u001b[0;34m)\u001b[0m\u001b[0;34m\u001b[0m\u001b[0;34m\u001b[0m\u001b[0m\n\u001b[0m\u001b[1;32m   2018\u001b[0m         \u001b[0mright\u001b[0m \u001b[0;34m=\u001b[0m \u001b[0mnp\u001b[0m\u001b[0;34m.\u001b[0m\u001b[0mcount_nonzero\u001b[0m\u001b[0;34m(\u001b[0m\u001b[0ma\u001b[0m \u001b[0;34m<=\u001b[0m \u001b[0mscore\u001b[0m\u001b[0;34m)\u001b[0m\u001b[0;34m\u001b[0m\u001b[0;34m\u001b[0m\u001b[0m\n\u001b[1;32m   2019\u001b[0m         \u001b[0mpct\u001b[0m \u001b[0;34m=\u001b[0m \u001b[0;34m(\u001b[0m\u001b[0mright\u001b[0m \u001b[0;34m+\u001b[0m \u001b[0mleft\u001b[0m \u001b[0;34m+\u001b[0m \u001b[0;34m(\u001b[0m\u001b[0;36m1\u001b[0m \u001b[0;32mif\u001b[0m \u001b[0mright\u001b[0m \u001b[0;34m>\u001b[0m \u001b[0mleft\u001b[0m \u001b[0;32melse\u001b[0m \u001b[0;36m0\u001b[0m\u001b[0;34m)\u001b[0m\u001b[0;34m)\u001b[0m \u001b[0;34m*\u001b[0m \u001b[0;36m50.0\u001b[0m\u001b[0;34m/\u001b[0m\u001b[0mn\u001b[0m\u001b[0;34m\u001b[0m\u001b[0;34m\u001b[0m\u001b[0m\n",
      "\u001b[0;31mTypeError\u001b[0m: '<' not supported between instances of 'NoneType' and 'float'"
     ]
    }
   ],
   "source": [
    "time_periods = ['One-Year','Six-Month','Three-Month' ,'One-Month']\n",
    "for i in range(len(hqm_df.index)):\n",
    "    for period in time_periods:\n",
    "        hqm_df.loc[i, f'{period} Percentile'] = stats.percentileofscore(hqm_df[f'{period} Price Return'], hqm_df.loc[i, f'{period} Price Return'])\n",
    "hqm_df"
   ]
  },
  {
   "cell_type": "markdown",
   "metadata": {},
   "source": [
    "## Calculating the HQM Score\n",
    "\n",
    "We'll now calculate our `HQM Score`, which is the high-quality momentum score that we'll use to filter for stocks in this investing strategy.\n",
    "\n",
    "The `HQM Score` will be the arithmetic mean of the 4 momentum percentile scores that we calculated in the last section.\n",
    "\n",
    "To calculate arithmetic mean, we will use the `mean` function from Python's built-in `statistics` module."
   ]
  },
  {
   "cell_type": "code",
   "execution_count": null,
   "metadata": {},
   "outputs": [],
   "source": []
  },
  {
   "cell_type": "markdown",
   "metadata": {},
   "source": [
    "## Selecting the 50 Best Momentum Stocks\n",
    "\n",
    "As before, we can identify the 50 best momentum stocks in our universe by sorting the DataFrame on the `HQM Score` column and dropping all but the top 50 entries."
   ]
  },
  {
   "cell_type": "code",
   "execution_count": null,
   "metadata": {},
   "outputs": [],
   "source": []
  },
  {
   "cell_type": "markdown",
   "metadata": {},
   "source": [
    "## Calculating the Number of Shares to Buy\n",
    "\n",
    "We'll use the `portfolio_input` function that we created earlier to accept our portfolio size. Then we will use similar logic in a `for` loop to calculate the number of shares to buy for each stock in our investment universe."
   ]
  },
  {
   "cell_type": "code",
   "execution_count": null,
   "metadata": {},
   "outputs": [],
   "source": []
  },
  {
   "cell_type": "code",
   "execution_count": null,
   "metadata": {},
   "outputs": [],
   "source": []
  },
  {
   "cell_type": "markdown",
   "metadata": {},
   "source": [
    "## Formatting Our Excel Output\n",
    "\n",
    "We will be using the XlsxWriter library for Python to create nicely-formatted Excel files.\n",
    "\n",
    "XlsxWriter is an excellent package and offers tons of customization. However, the tradeoff for this is that the library can seem very complicated to new users. Accordingly, this section will be fairly long because I want to do a good job of explaining how XlsxWriter works."
   ]
  },
  {
   "cell_type": "code",
   "execution_count": null,
   "metadata": {},
   "outputs": [],
   "source": []
  },
  {
   "cell_type": "markdown",
   "metadata": {},
   "source": [
    "## Creating the Formats We'll Need For Our .xlsx File\n",
    "\n",
    "You'll recall from our first project that formats include colors, fonts, and also symbols like % and $. We'll need four main formats for our Excel document:\n",
    "\n",
    "* String format for tickers\n",
    "* \\$XX.XX format for stock prices\n",
    "* \\$XX,XXX format for market capitalization\n",
    "* Integer format for the number of shares to purchase\n",
    "\n",
    "Since we already built our formats in the last section of this course, I've included them below for you. Run this code cell before proceeding."
   ]
  },
  {
   "cell_type": "code",
   "execution_count": null,
   "metadata": {},
   "outputs": [],
   "source": [
    "background_color = '#0a0a23'\n",
    "font_color = '#ffffff'\n",
    "\n",
    "string_template = writer.book.add_format(\n",
    "        {\n",
    "            'font_color': font_color,\n",
    "            'bg_color': background_color,\n",
    "            'border': 1\n",
    "        }\n",
    "    )\n",
    "\n",
    "dollar_template = writer.book.add_format(\n",
    "        {\n",
    "            'num_format':'$0.00',\n",
    "            'font_color': font_color,\n",
    "            'bg_color': background_color,\n",
    "            'border': 1\n",
    "        }\n",
    "    )\n",
    "\n",
    "integer_template = writer.book.add_format(\n",
    "        {\n",
    "            'num_format':'0',\n",
    "            'font_color': font_color,\n",
    "            'bg_color': background_color,\n",
    "            'border': 1\n",
    "        }\n",
    "    )\n",
    "\n",
    "percent_template = writer.book.add_format(\n",
    "        {\n",
    "            'num_format':'0.0%',\n",
    "            'font_color': font_color,\n",
    "            'bg_color': background_color,\n",
    "            'border': 1\n",
    "        }\n",
    "    )"
   ]
  },
  {
   "cell_type": "code",
   "execution_count": null,
   "metadata": {},
   "outputs": [],
   "source": []
  },
  {
   "cell_type": "markdown",
   "metadata": {},
   "source": [
    "## Saving Our Excel Output\n",
    "\n",
    "As before, saving our Excel output is very easy:"
   ]
  },
  {
   "cell_type": "code",
   "execution_count": null,
   "metadata": {},
   "outputs": [],
   "source": []
  }
 ],
 "metadata": {
  "kernelspec": {
   "name": "python3",
   "display_name": "Python 3.8.6 64-bit",
   "metadata": {
    "interpreter": {
     "hash": "082e9a3bcad0a290d0001e938aa60b99250c6c2ef33a923c00b70f9826caf4b7"
    }
   }
  },
  "language_info": {
   "codemirror_mode": {
    "name": "ipython",
    "version": 3
   },
   "file_extension": ".py",
   "mimetype": "text/x-python",
   "name": "python",
   "nbconvert_exporter": "python",
   "pygments_lexer": "ipython3",
   "version": "3.8.6-final"
  }
 },
 "nbformat": 4,
 "nbformat_minor": 4
}