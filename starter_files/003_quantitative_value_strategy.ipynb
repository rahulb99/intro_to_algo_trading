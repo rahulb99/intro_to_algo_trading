{
 "cells": [
  {
   "cell_type": "markdown",
   "metadata": {},
   "source": [
    "# Quantitative Value Strategy\n",
    "\"Value investing\" means investing in the stocks that are cheapest relative to common measures of business value (like earnings or assets).\n",
    "\n",
    "For this project, we're going to build an investing strategy that selects the 50 stocks with the best value metrics. From there, we will calculate recommended trades for an equal-weight portfolio of these 50 stocks.\n",
    "\n",
    "## Library Imports\n",
    "The first thing we need to do is import the open-source software libraries that we'll be using in this tutorial."
   ]
  },
  {
   "cell_type": "code",
   "execution_count": 1,
   "metadata": {},
   "outputs": [],
   "source": [
    "import numpy as np \n",
    "import pandas as pd \n",
    "import xlsxwriter\n",
    "import requests\n",
    "from scipy import stats\n",
    "import math"
   ]
  },
  {
   "cell_type": "markdown",
   "metadata": {},
   "source": [
    "## Importing Our List of Stocks & API Token\n",
    "As before, we'll need to import our list of stocks and our API token before proceeding. Make sure the .csv file is still in your working directory and import it with the following command:"
   ]
  },
  {
   "cell_type": "code",
   "execution_count": 3,
   "metadata": {},
   "outputs": [],
   "source": [
    "stocks = pd.read_csv('sp_500_stocks.csv')\n",
    "from secrets import IEX_CLOUD_API_TOKEN"
   ]
  },
  {
   "cell_type": "markdown",
   "metadata": {},
   "source": [
    "## Making Our First API Call\n",
    "It's now time to make the first version of our value screener!\n",
    "\n",
    "We'll start by building a simple value screener that ranks securities based on a single metric (the price-to-earnings ratio)."
   ]
  },
  {
   "cell_type": "code",
   "execution_count": 4,
   "metadata": {},
   "outputs": [
    {
     "output_type": "execute_result",
     "data": {
      "text/plain": [
       "{'symbol': 'AAPL',\n",
       " 'companyName': 'Apple Inc',\n",
       " 'primaryExchange': 'GQGE(A)NTKM/T C EBALE LRASANDLSOS',\n",
       " 'calculationPrice': 'close',\n",
       " 'open': 139,\n",
       " 'openTime': 1626309883929,\n",
       " 'openSource': 'lficaofi',\n",
       " 'close': 135.13,\n",
       " 'closeTime': 1646531749252,\n",
       " 'closeSource': 'oifcailf',\n",
       " 'high': 136.44,\n",
       " 'highTime': 1632504693544,\n",
       " 'highSource': 'ey5t iad1 mp unecdereil',\n",
       " 'low': 136.55,\n",
       " 'lowTime': 1686851226191,\n",
       " 'lowSource': 'inramledtu5cpi1y   deee',\n",
       " 'latestPrice': 132.97,\n",
       " 'latestSource': 'Close',\n",
       " 'latestTime': 'December 31, 2020',\n",
       " 'latestUpdate': 1619425866038,\n",
       " 'latestVolume': 101571430,\n",
       " 'iexRealtimePrice': None,\n",
       " 'iexRealtimeSize': None,\n",
       " 'iexLastUpdated': None,\n",
       " 'delayedPrice': 138.92,\n",
       " 'delayedPriceTime': 1611200227261,\n",
       " 'oddLotDelayedPrice': 135.37,\n",
       " 'oddLotDelayedPriceTime': 1685981823648,\n",
       " 'extendedPrice': 135.34,\n",
       " 'extendedChange': 0.05,\n",
       " 'extendedChangePercent': 0.00039,\n",
       " 'extendedPriceTime': 1668243324886,\n",
       " 'previousClose': 138.09,\n",
       " 'previousVolume': 97736615,\n",
       " 'change': -1.05,\n",
       " 'changePercent': -0.0078,\n",
       " 'volume': 101635028,\n",
       " 'iexMarketPercent': None,\n",
       " 'iexVolume': None,\n",
       " 'avgTotalVolume': 111639431,\n",
       " 'iexBidPrice': None,\n",
       " 'iexBidSize': None,\n",
       " 'iexAskPrice': None,\n",
       " 'iexAskSize': None,\n",
       " 'iexOpen': 134.19,\n",
       " 'iexOpenTime': 1636060291520,\n",
       " 'iexClose': 139.01,\n",
       " 'iexCloseTime': 1615096607461,\n",
       " 'marketCap': 2348225857732,\n",
       " 'peRatio': 40.59,\n",
       " 'week52High': 137.34,\n",
       " 'week52Low': 56.22,\n",
       " 'ytdChange': -0.0078,\n",
       " 'lastTradeTime': 1689578832207,\n",
       " 'isUSMarketOpen': False}"
      ]
     },
     "metadata": {},
     "execution_count": 4
    }
   ],
   "source": [
    "symbol = \"AAPL\"\n",
    "api_url = f\"https://sandbox.iexapis.com/stable/stock/{symbol}/quote?token={IEX_CLOUD_API_TOKEN}\"\n",
    "data = requests.get(api_url).json()\n",
    "data"
   ]
  },
  {
   "cell_type": "markdown",
   "metadata": {},
   "source": [
    "## Parsing Our API Call\n",
    "This API call has the metric we need - the price-to-earnings ratio.\n",
    "\n",
    "Here is an example of how to parse the metric from our API call:"
   ]
  },
  {
   "cell_type": "code",
   "execution_count": 5,
   "metadata": {},
   "outputs": [
    {
     "output_type": "stream",
     "name": "stdout",
     "text": [
      "132.97 40.59\n"
     ]
    }
   ],
   "source": [
    "price = data['latestPrice']\n",
    "pe_ratio = data[\"peRatio\"]\n",
    "print(price, pe_ratio)"
   ]
  },
  {
   "cell_type": "markdown",
   "metadata": {},
   "source": [
    "## Executing A Batch API Call & Building Our DataFrame\n",
    "\n",
    "Just like in our first project, it's now time to execute several batch API calls and add the information we need to our DataFrame.\n",
    "\n",
    "We'll start by running the following code cell, which contains some code we already built last time that we can re-use for this project. More specifically, it contains a function called chunks that we can use to divide our list of securities into groups of 100."
   ]
  },
  {
   "cell_type": "code",
   "execution_count": 6,
   "metadata": {},
   "outputs": [],
   "source": [
    "# Function sourced from \n",
    "# https://stackoverflow.com/questions/312443/how-do-you-split-a-list-into-evenly-sized-chunks\n",
    "def chunks(lst, n):\n",
    "    \"\"\"Yield successive n-sized chunks from lst.\"\"\"\n",
    "    for i in range(0, len(lst), n):\n",
    "        yield lst[i:i + n]   \n",
    "        \n",
    "symbol_groups = list(chunks(stocks['Ticker'], 100))\n",
    "symbol_strings = []\n",
    "for i in range(0, len(symbol_groups)):\n",
    "    symbol_strings.append(','.join(symbol_groups[i]))\n",
    "#     print(symbol_strings[i])\n",
    "\n",
    "my_columns = ['Ticker', 'Price', 'Price-to-Earnings Ratio', 'Number of Shares to Buy']"
   ]
  },
  {
   "cell_type": "markdown",
   "metadata": {},
   "source": [
    "Now we need to create a blank DataFrame and add our data to the data frame one-by-one."
   ]
  },
  {
   "cell_type": "code",
   "execution_count": 15,
   "metadata": {},
   "outputs": [
    {
     "output_type": "execute_result",
     "data": {
      "text/plain": [
       "    Ticker   Price Price-to-Earnings Ratio Number of Shares to Buy\n",
       "0        A  120.35                   54.63                     N/A\n",
       "1      AAL   16.17                   -1.15                     N/A\n",
       "2      AAP  158.43                   23.96                     N/A\n",
       "3     AAPL  136.70                   41.23                     N/A\n",
       "4     ABBV  107.50                    23.8                     N/A\n",
       "..     ...     ...                     ...                     ...\n",
       "500    YUM  113.64                    32.7                     N/A\n",
       "501    ZBH  154.70                  -210.8                     N/A\n",
       "502   ZBRA  397.49                   45.17                     N/A\n",
       "503   ZION   45.10                   18.74                     N/A\n",
       "504    ZTS  168.00                   51.16                     N/A\n",
       "\n",
       "[505 rows x 4 columns]"
      ],
      "text/html": "<div>\n<style scoped>\n    .dataframe tbody tr th:only-of-type {\n        vertical-align: middle;\n    }\n\n    .dataframe tbody tr th {\n        vertical-align: top;\n    }\n\n    .dataframe thead th {\n        text-align: right;\n    }\n</style>\n<table border=\"1\" class=\"dataframe\">\n  <thead>\n    <tr style=\"text-align: right;\">\n      <th></th>\n      <th>Ticker</th>\n      <th>Price</th>\n      <th>Price-to-Earnings Ratio</th>\n      <th>Number of Shares to Buy</th>\n    </tr>\n  </thead>\n  <tbody>\n    <tr>\n      <th>0</th>\n      <td>A</td>\n      <td>120.35</td>\n      <td>54.63</td>\n      <td>N/A</td>\n    </tr>\n    <tr>\n      <th>1</th>\n      <td>AAL</td>\n      <td>16.17</td>\n      <td>-1.15</td>\n      <td>N/A</td>\n    </tr>\n    <tr>\n      <th>2</th>\n      <td>AAP</td>\n      <td>158.43</td>\n      <td>23.96</td>\n      <td>N/A</td>\n    </tr>\n    <tr>\n      <th>3</th>\n      <td>AAPL</td>\n      <td>136.70</td>\n      <td>41.23</td>\n      <td>N/A</td>\n    </tr>\n    <tr>\n      <th>4</th>\n      <td>ABBV</td>\n      <td>107.50</td>\n      <td>23.8</td>\n      <td>N/A</td>\n    </tr>\n    <tr>\n      <th>...</th>\n      <td>...</td>\n      <td>...</td>\n      <td>...</td>\n      <td>...</td>\n    </tr>\n    <tr>\n      <th>500</th>\n      <td>YUM</td>\n      <td>113.64</td>\n      <td>32.7</td>\n      <td>N/A</td>\n    </tr>\n    <tr>\n      <th>501</th>\n      <td>ZBH</td>\n      <td>154.70</td>\n      <td>-210.8</td>\n      <td>N/A</td>\n    </tr>\n    <tr>\n      <th>502</th>\n      <td>ZBRA</td>\n      <td>397.49</td>\n      <td>45.17</td>\n      <td>N/A</td>\n    </tr>\n    <tr>\n      <th>503</th>\n      <td>ZION</td>\n      <td>45.10</td>\n      <td>18.74</td>\n      <td>N/A</td>\n    </tr>\n    <tr>\n      <th>504</th>\n      <td>ZTS</td>\n      <td>168.00</td>\n      <td>51.16</td>\n      <td>N/A</td>\n    </tr>\n  </tbody>\n</table>\n<p>505 rows × 4 columns</p>\n</div>"
     },
     "metadata": {},
     "execution_count": 15
    }
   ],
   "source": [
    "final_dataframe = pd.DataFrame(columns=my_columns)\n",
    "\n",
    "for symbol_string in symbol_strings:\n",
    "    batch_api_call_url = f\"https://sandbox.iexapis.com/stable/stock/market/batch?symbols={symbol_string}&types=quote&token={IEX_CLOUD_API_TOKEN}\"\n",
    "    data = requests.get(batch_api_call_url).json()\n",
    "    for symbol in symbol_string.split(','):\n",
    "        final_dataframe = final_dataframe.append(pd.Series([symbol,data[symbol]['quote']['latestPrice'],data[symbol]['quote']['peRatio'], 'N/A'], index=my_columns), ignore_index=True)\n",
    "\n",
    "final_dataframe"
   ]
  },
  {
   "cell_type": "markdown",
   "metadata": {},
   "source": [
    "## Removing Glamour Stocks\n",
    "\n",
    "The opposite of a \"value stock\" is a \"glamour stock\". \n",
    "\n",
    "Since the goal of this strategy is to identify the 50 best value stocks from our universe, our next step is to remove glamour stocks from the DataFrame.\n",
    "\n",
    "We'll sort the DataFrame by the stocks' price-to-earnings ratio, and drop all stocks outside the top 50."
   ]
  },
  {
   "cell_type": "code",
   "execution_count": 16,
   "metadata": {},
   "outputs": [],
   "source": [
    "final_dataframe.sort_values('Price-to-Earnings Ratio', inplace=True, ascending=False)\n",
    "final_dataframe = final_dataframe[final_dataframe['Price-to-Earnings Ratio'] > 0]\n",
    "final_dataframe = final_dataframe[:50]\n",
    "final_dataframe.reset_index(drop=True, inplace=True)"
   ]
  },
  {
   "cell_type": "code",
   "execution_count": 17,
   "metadata": {},
   "outputs": [
    {
     "output_type": "execute_result",
     "data": {
      "text/plain": [
       "   Ticker    Price Price-to-Earnings Ratio Number of Shares to Buy\n",
       "0     HPE    12.33                 14886.7                     N/A\n",
       "1     FIS   145.27                    2904                     N/A\n",
       "2     GLW    38.00                  304.13                     N/A\n",
       "3     KMI    13.68                  298.64                     N/A\n",
       "4     MAR   136.87                  248.93                     N/A\n",
       "5     IQV   181.99                  199.64                     N/A\n",
       "6     REG    45.85                  171.91                     N/A\n",
       "7     CMG  1415.96                  171.75                     N/A\n",
       "8      EL   266.29                   167.3                     N/A\n",
       "9     GPN   216.76                  161.18                     N/A\n",
       "10   ADSK   312.95                  159.04                     N/A\n",
       "11    NOW   569.99                  156.56                     N/A\n",
       "12   DXCM   384.42                  156.11                     N/A\n",
       "13   PAYC   464.76                  150.97                     N/A\n",
       "14   ROST   124.10                  148.28                     N/A\n",
       "15   EQIX   743.80                  141.02                     N/A\n",
       "16    VNO    37.64                  138.79                     N/A\n",
       "17    AMD    91.94                  130.74                     N/A\n",
       "18    ALK    53.00                  116.54                     N/A\n",
       "19   IPGP   225.88                   115.6                     N/A\n",
       "20    WMB    20.18                   115.6                     N/A\n",
       "21    CCI   162.37                   115.5                     N/A\n",
       "22    PXD   115.66                  113.05                     N/A\n",
       "23    TJX    71.52                  110.24                     N/A\n",
       "24     MO    41.00                  109.78                     N/A\n",
       "25    TYL   444.49                   99.49                     N/A\n",
       "26   SBUX   110.97                   95.94                     N/A\n",
       "27   AMZN  3258.12                   95.34                     N/A\n",
       "28    UDR    39.80                   95.29                     N/A\n",
       "29   ISRG   837.00                   94.86                     N/A\n",
       "30   IDXX   505.77                   94.55                     N/A\n",
       "31    BDX   253.34                   92.58                     N/A\n",
       "32   FISV   117.38                   90.16                     N/A\n",
       "33   NFLX   562.69                   89.66                     N/A\n",
       "34   PYPL   242.70                    89.3                     N/A\n",
       "35   NVDA   535.50                   89.07                     N/A\n",
       "36   ILMN   384.00                   87.93                     N/A\n",
       "37   AVGO   447.26                    85.4                     N/A\n",
       "38    NKE   147.60                   83.79                     N/A\n",
       "39   ANSS   370.80                   83.21                     N/A\n",
       "40   MKTX   587.25                   81.18                     N/A\n",
       "41    WFC    31.02                   79.33                     N/A\n",
       "42    COO   366.52                   75.62                     N/A\n",
       "43    XYL   106.85                   74.62                     N/A\n",
       "44   ABMD   335.00                    74.4                     N/A\n",
       "45     EW    93.96                    74.1                     N/A\n",
       "46    WST   293.41                   71.33                     N/A\n",
       "47     IT   167.46                   70.06                     N/A\n",
       "48   BKNG  2315.79                   69.17                     N/A\n",
       "49   MSCI   455.07                   67.66                     N/A"
      ],
      "text/html": "<div>\n<style scoped>\n    .dataframe tbody tr th:only-of-type {\n        vertical-align: middle;\n    }\n\n    .dataframe tbody tr th {\n        vertical-align: top;\n    }\n\n    .dataframe thead th {\n        text-align: right;\n    }\n</style>\n<table border=\"1\" class=\"dataframe\">\n  <thead>\n    <tr style=\"text-align: right;\">\n      <th></th>\n      <th>Ticker</th>\n      <th>Price</th>\n      <th>Price-to-Earnings Ratio</th>\n      <th>Number of Shares to Buy</th>\n    </tr>\n  </thead>\n  <tbody>\n    <tr>\n      <th>0</th>\n      <td>HPE</td>\n      <td>12.33</td>\n      <td>14886.7</td>\n      <td>N/A</td>\n    </tr>\n    <tr>\n      <th>1</th>\n      <td>FIS</td>\n      <td>145.27</td>\n      <td>2904</td>\n      <td>N/A</td>\n    </tr>\n    <tr>\n      <th>2</th>\n      <td>GLW</td>\n      <td>38.00</td>\n      <td>304.13</td>\n      <td>N/A</td>\n    </tr>\n    <tr>\n      <th>3</th>\n      <td>KMI</td>\n      <td>13.68</td>\n      <td>298.64</td>\n      <td>N/A</td>\n    </tr>\n    <tr>\n      <th>4</th>\n      <td>MAR</td>\n      <td>136.87</td>\n      <td>248.93</td>\n      <td>N/A</td>\n    </tr>\n    <tr>\n      <th>5</th>\n      <td>IQV</td>\n      <td>181.99</td>\n      <td>199.64</td>\n      <td>N/A</td>\n    </tr>\n    <tr>\n      <th>6</th>\n      <td>REG</td>\n      <td>45.85</td>\n      <td>171.91</td>\n      <td>N/A</td>\n    </tr>\n    <tr>\n      <th>7</th>\n      <td>CMG</td>\n      <td>1415.96</td>\n      <td>171.75</td>\n      <td>N/A</td>\n    </tr>\n    <tr>\n      <th>8</th>\n      <td>EL</td>\n      <td>266.29</td>\n      <td>167.3</td>\n      <td>N/A</td>\n    </tr>\n    <tr>\n      <th>9</th>\n      <td>GPN</td>\n      <td>216.76</td>\n      <td>161.18</td>\n      <td>N/A</td>\n    </tr>\n    <tr>\n      <th>10</th>\n      <td>ADSK</td>\n      <td>312.95</td>\n      <td>159.04</td>\n      <td>N/A</td>\n    </tr>\n    <tr>\n      <th>11</th>\n      <td>NOW</td>\n      <td>569.99</td>\n      <td>156.56</td>\n      <td>N/A</td>\n    </tr>\n    <tr>\n      <th>12</th>\n      <td>DXCM</td>\n      <td>384.42</td>\n      <td>156.11</td>\n      <td>N/A</td>\n    </tr>\n    <tr>\n      <th>13</th>\n      <td>PAYC</td>\n      <td>464.76</td>\n      <td>150.97</td>\n      <td>N/A</td>\n    </tr>\n    <tr>\n      <th>14</th>\n      <td>ROST</td>\n      <td>124.10</td>\n      <td>148.28</td>\n      <td>N/A</td>\n    </tr>\n    <tr>\n      <th>15</th>\n      <td>EQIX</td>\n      <td>743.80</td>\n      <td>141.02</td>\n      <td>N/A</td>\n    </tr>\n    <tr>\n      <th>16</th>\n      <td>VNO</td>\n      <td>37.64</td>\n      <td>138.79</td>\n      <td>N/A</td>\n    </tr>\n    <tr>\n      <th>17</th>\n      <td>AMD</td>\n      <td>91.94</td>\n      <td>130.74</td>\n      <td>N/A</td>\n    </tr>\n    <tr>\n      <th>18</th>\n      <td>ALK</td>\n      <td>53.00</td>\n      <td>116.54</td>\n      <td>N/A</td>\n    </tr>\n    <tr>\n      <th>19</th>\n      <td>IPGP</td>\n      <td>225.88</td>\n      <td>115.6</td>\n      <td>N/A</td>\n    </tr>\n    <tr>\n      <th>20</th>\n      <td>WMB</td>\n      <td>20.18</td>\n      <td>115.6</td>\n      <td>N/A</td>\n    </tr>\n    <tr>\n      <th>21</th>\n      <td>CCI</td>\n      <td>162.37</td>\n      <td>115.5</td>\n      <td>N/A</td>\n    </tr>\n    <tr>\n      <th>22</th>\n      <td>PXD</td>\n      <td>115.66</td>\n      <td>113.05</td>\n      <td>N/A</td>\n    </tr>\n    <tr>\n      <th>23</th>\n      <td>TJX</td>\n      <td>71.52</td>\n      <td>110.24</td>\n      <td>N/A</td>\n    </tr>\n    <tr>\n      <th>24</th>\n      <td>MO</td>\n      <td>41.00</td>\n      <td>109.78</td>\n      <td>N/A</td>\n    </tr>\n    <tr>\n      <th>25</th>\n      <td>TYL</td>\n      <td>444.49</td>\n      <td>99.49</td>\n      <td>N/A</td>\n    </tr>\n    <tr>\n      <th>26</th>\n      <td>SBUX</td>\n      <td>110.97</td>\n      <td>95.94</td>\n      <td>N/A</td>\n    </tr>\n    <tr>\n      <th>27</th>\n      <td>AMZN</td>\n      <td>3258.12</td>\n      <td>95.34</td>\n      <td>N/A</td>\n    </tr>\n    <tr>\n      <th>28</th>\n      <td>UDR</td>\n      <td>39.80</td>\n      <td>95.29</td>\n      <td>N/A</td>\n    </tr>\n    <tr>\n      <th>29</th>\n      <td>ISRG</td>\n      <td>837.00</td>\n      <td>94.86</td>\n      <td>N/A</td>\n    </tr>\n    <tr>\n      <th>30</th>\n      <td>IDXX</td>\n      <td>505.77</td>\n      <td>94.55</td>\n      <td>N/A</td>\n    </tr>\n    <tr>\n      <th>31</th>\n      <td>BDX</td>\n      <td>253.34</td>\n      <td>92.58</td>\n      <td>N/A</td>\n    </tr>\n    <tr>\n      <th>32</th>\n      <td>FISV</td>\n      <td>117.38</td>\n      <td>90.16</td>\n      <td>N/A</td>\n    </tr>\n    <tr>\n      <th>33</th>\n      <td>NFLX</td>\n      <td>562.69</td>\n      <td>89.66</td>\n      <td>N/A</td>\n    </tr>\n    <tr>\n      <th>34</th>\n      <td>PYPL</td>\n      <td>242.70</td>\n      <td>89.3</td>\n      <td>N/A</td>\n    </tr>\n    <tr>\n      <th>35</th>\n      <td>NVDA</td>\n      <td>535.50</td>\n      <td>89.07</td>\n      <td>N/A</td>\n    </tr>\n    <tr>\n      <th>36</th>\n      <td>ILMN</td>\n      <td>384.00</td>\n      <td>87.93</td>\n      <td>N/A</td>\n    </tr>\n    <tr>\n      <th>37</th>\n      <td>AVGO</td>\n      <td>447.26</td>\n      <td>85.4</td>\n      <td>N/A</td>\n    </tr>\n    <tr>\n      <th>38</th>\n      <td>NKE</td>\n      <td>147.60</td>\n      <td>83.79</td>\n      <td>N/A</td>\n    </tr>\n    <tr>\n      <th>39</th>\n      <td>ANSS</td>\n      <td>370.80</td>\n      <td>83.21</td>\n      <td>N/A</td>\n    </tr>\n    <tr>\n      <th>40</th>\n      <td>MKTX</td>\n      <td>587.25</td>\n      <td>81.18</td>\n      <td>N/A</td>\n    </tr>\n    <tr>\n      <th>41</th>\n      <td>WFC</td>\n      <td>31.02</td>\n      <td>79.33</td>\n      <td>N/A</td>\n    </tr>\n    <tr>\n      <th>42</th>\n      <td>COO</td>\n      <td>366.52</td>\n      <td>75.62</td>\n      <td>N/A</td>\n    </tr>\n    <tr>\n      <th>43</th>\n      <td>XYL</td>\n      <td>106.85</td>\n      <td>74.62</td>\n      <td>N/A</td>\n    </tr>\n    <tr>\n      <th>44</th>\n      <td>ABMD</td>\n      <td>335.00</td>\n      <td>74.4</td>\n      <td>N/A</td>\n    </tr>\n    <tr>\n      <th>45</th>\n      <td>EW</td>\n      <td>93.96</td>\n      <td>74.1</td>\n      <td>N/A</td>\n    </tr>\n    <tr>\n      <th>46</th>\n      <td>WST</td>\n      <td>293.41</td>\n      <td>71.33</td>\n      <td>N/A</td>\n    </tr>\n    <tr>\n      <th>47</th>\n      <td>IT</td>\n      <td>167.46</td>\n      <td>70.06</td>\n      <td>N/A</td>\n    </tr>\n    <tr>\n      <th>48</th>\n      <td>BKNG</td>\n      <td>2315.79</td>\n      <td>69.17</td>\n      <td>N/A</td>\n    </tr>\n    <tr>\n      <th>49</th>\n      <td>MSCI</td>\n      <td>455.07</td>\n      <td>67.66</td>\n      <td>N/A</td>\n    </tr>\n  </tbody>\n</table>\n</div>"
     },
     "metadata": {},
     "execution_count": 17
    }
   ],
   "source": [
    "final_dataframe"
   ]
  },
  {
   "cell_type": "markdown",
   "metadata": {},
   "source": [
    "## Calculating the Number of Shares to Buy\n",
    "We now need to calculate the number of shares we need to buy. \n",
    "\n",
    "To do this, we will use the `portfolio_input` function that we created in our momentum project.\n",
    "\n",
    "I have included this function below."
   ]
  },
  {
   "cell_type": "code",
   "execution_count": 18,
   "metadata": {},
   "outputs": [],
   "source": [
    "def portfolio_input():\n",
    "    global portfolio_size\n",
    "    portfolio_size = input(\"Enter the value of your portfolio:\")\n",
    "\n",
    "    try:\n",
    "        val = float(portfolio_size)\n",
    "    except ValueError:\n",
    "        print(\"That's not a number! \\n Try again:\")\n",
    "        portfolio_size = input(\"Enter the value of your portfolio:\")"
   ]
  },
  {
   "cell_type": "markdown",
   "metadata": {},
   "source": [
    "Use the `portfolio_input` function to accept a `portfolio_size` variable from the user of this script."
   ]
  },
  {
   "cell_type": "code",
   "execution_count": 19,
   "metadata": {},
   "outputs": [],
   "source": [
    "portfolio_input()"
   ]
  },
  {
   "cell_type": "markdown",
   "metadata": {},
   "source": [
    "You can now use the global `portfolio_size` variable to calculate the number of shares that our strategy should purchase."
   ]
  },
  {
   "cell_type": "code",
   "execution_count": 22,
   "metadata": {},
   "outputs": [
    {
     "output_type": "execute_result",
     "data": {
      "text/plain": [
       "   Ticker    Price Price-to-Earnings Ratio  Number of Shares to Buy\n",
       "0     HPE    12.33                 14886.7                     1622\n",
       "1     FIS   145.27                    2904                      137\n",
       "2     GLW    38.00                  304.13                      526\n",
       "3     KMI    13.68                  298.64                     1461\n",
       "4     MAR   136.87                  248.93                      146\n",
       "5     IQV   181.99                  199.64                      109\n",
       "6     REG    45.85                  171.91                      436\n",
       "7     CMG  1415.96                  171.75                       14\n",
       "8      EL   266.29                   167.3                       75\n",
       "9     GPN   216.76                  161.18                       92\n",
       "10   ADSK   312.95                  159.04                       63\n",
       "11    NOW   569.99                  156.56                       35\n",
       "12   DXCM   384.42                  156.11                       52\n",
       "13   PAYC   464.76                  150.97                       43\n",
       "14   ROST   124.10                  148.28                      161\n",
       "15   EQIX   743.80                  141.02                       26\n",
       "16    VNO    37.64                  138.79                      531\n",
       "17    AMD    91.94                  130.74                      217\n",
       "18    ALK    53.00                  116.54                      377\n",
       "19   IPGP   225.88                   115.6                       88\n",
       "20    WMB    20.18                   115.6                      991\n",
       "21    CCI   162.37                   115.5                      123\n",
       "22    PXD   115.66                  113.05                      172\n",
       "23    TJX    71.52                  110.24                      279\n",
       "24     MO    41.00                  109.78                      487\n",
       "25    TYL   444.49                   99.49                       44\n",
       "26   SBUX   110.97                   95.94                      180\n",
       "27   AMZN  3258.12                   95.34                        6\n",
       "28    UDR    39.80                   95.29                      502\n",
       "29   ISRG   837.00                   94.86                       23\n",
       "30   IDXX   505.77                   94.55                       39\n",
       "31    BDX   253.34                   92.58                       78\n",
       "32   FISV   117.38                   90.16                      170\n",
       "33   NFLX   562.69                   89.66                       35\n",
       "34   PYPL   242.70                    89.3                       82\n",
       "35   NVDA   535.50                   89.07                       37\n",
       "36   ILMN   384.00                   87.93                       52\n",
       "37   AVGO   447.26                    85.4                       44\n",
       "38    NKE   147.60                   83.79                      135\n",
       "39   ANSS   370.80                   83.21                       53\n",
       "40   MKTX   587.25                   81.18                       34\n",
       "41    WFC    31.02                   79.33                      644\n",
       "42    COO   366.52                   75.62                       54\n",
       "43    XYL   106.85                   74.62                      187\n",
       "44   ABMD   335.00                    74.4                       59\n",
       "45     EW    93.96                    74.1                      212\n",
       "46    WST   293.41                   71.33                       68\n",
       "47     IT   167.46                   70.06                      119\n",
       "48   BKNG  2315.79                   69.17                        8\n",
       "49   MSCI   455.07                   67.66                       43"
      ],
      "text/html": "<div>\n<style scoped>\n    .dataframe tbody tr th:only-of-type {\n        vertical-align: middle;\n    }\n\n    .dataframe tbody tr th {\n        vertical-align: top;\n    }\n\n    .dataframe thead th {\n        text-align: right;\n    }\n</style>\n<table border=\"1\" class=\"dataframe\">\n  <thead>\n    <tr style=\"text-align: right;\">\n      <th></th>\n      <th>Ticker</th>\n      <th>Price</th>\n      <th>Price-to-Earnings Ratio</th>\n      <th>Number of Shares to Buy</th>\n    </tr>\n  </thead>\n  <tbody>\n    <tr>\n      <th>0</th>\n      <td>HPE</td>\n      <td>12.33</td>\n      <td>14886.7</td>\n      <td>1622</td>\n    </tr>\n    <tr>\n      <th>1</th>\n      <td>FIS</td>\n      <td>145.27</td>\n      <td>2904</td>\n      <td>137</td>\n    </tr>\n    <tr>\n      <th>2</th>\n      <td>GLW</td>\n      <td>38.00</td>\n      <td>304.13</td>\n      <td>526</td>\n    </tr>\n    <tr>\n      <th>3</th>\n      <td>KMI</td>\n      <td>13.68</td>\n      <td>298.64</td>\n      <td>1461</td>\n    </tr>\n    <tr>\n      <th>4</th>\n      <td>MAR</td>\n      <td>136.87</td>\n      <td>248.93</td>\n      <td>146</td>\n    </tr>\n    <tr>\n      <th>5</th>\n      <td>IQV</td>\n      <td>181.99</td>\n      <td>199.64</td>\n      <td>109</td>\n    </tr>\n    <tr>\n      <th>6</th>\n      <td>REG</td>\n      <td>45.85</td>\n      <td>171.91</td>\n      <td>436</td>\n    </tr>\n    <tr>\n      <th>7</th>\n      <td>CMG</td>\n      <td>1415.96</td>\n      <td>171.75</td>\n      <td>14</td>\n    </tr>\n    <tr>\n      <th>8</th>\n      <td>EL</td>\n      <td>266.29</td>\n      <td>167.3</td>\n      <td>75</td>\n    </tr>\n    <tr>\n      <th>9</th>\n      <td>GPN</td>\n      <td>216.76</td>\n      <td>161.18</td>\n      <td>92</td>\n    </tr>\n    <tr>\n      <th>10</th>\n      <td>ADSK</td>\n      <td>312.95</td>\n      <td>159.04</td>\n      <td>63</td>\n    </tr>\n    <tr>\n      <th>11</th>\n      <td>NOW</td>\n      <td>569.99</td>\n      <td>156.56</td>\n      <td>35</td>\n    </tr>\n    <tr>\n      <th>12</th>\n      <td>DXCM</td>\n      <td>384.42</td>\n      <td>156.11</td>\n      <td>52</td>\n    </tr>\n    <tr>\n      <th>13</th>\n      <td>PAYC</td>\n      <td>464.76</td>\n      <td>150.97</td>\n      <td>43</td>\n    </tr>\n    <tr>\n      <th>14</th>\n      <td>ROST</td>\n      <td>124.10</td>\n      <td>148.28</td>\n      <td>161</td>\n    </tr>\n    <tr>\n      <th>15</th>\n      <td>EQIX</td>\n      <td>743.80</td>\n      <td>141.02</td>\n      <td>26</td>\n    </tr>\n    <tr>\n      <th>16</th>\n      <td>VNO</td>\n      <td>37.64</td>\n      <td>138.79</td>\n      <td>531</td>\n    </tr>\n    <tr>\n      <th>17</th>\n      <td>AMD</td>\n      <td>91.94</td>\n      <td>130.74</td>\n      <td>217</td>\n    </tr>\n    <tr>\n      <th>18</th>\n      <td>ALK</td>\n      <td>53.00</td>\n      <td>116.54</td>\n      <td>377</td>\n    </tr>\n    <tr>\n      <th>19</th>\n      <td>IPGP</td>\n      <td>225.88</td>\n      <td>115.6</td>\n      <td>88</td>\n    </tr>\n    <tr>\n      <th>20</th>\n      <td>WMB</td>\n      <td>20.18</td>\n      <td>115.6</td>\n      <td>991</td>\n    </tr>\n    <tr>\n      <th>21</th>\n      <td>CCI</td>\n      <td>162.37</td>\n      <td>115.5</td>\n      <td>123</td>\n    </tr>\n    <tr>\n      <th>22</th>\n      <td>PXD</td>\n      <td>115.66</td>\n      <td>113.05</td>\n      <td>172</td>\n    </tr>\n    <tr>\n      <th>23</th>\n      <td>TJX</td>\n      <td>71.52</td>\n      <td>110.24</td>\n      <td>279</td>\n    </tr>\n    <tr>\n      <th>24</th>\n      <td>MO</td>\n      <td>41.00</td>\n      <td>109.78</td>\n      <td>487</td>\n    </tr>\n    <tr>\n      <th>25</th>\n      <td>TYL</td>\n      <td>444.49</td>\n      <td>99.49</td>\n      <td>44</td>\n    </tr>\n    <tr>\n      <th>26</th>\n      <td>SBUX</td>\n      <td>110.97</td>\n      <td>95.94</td>\n      <td>180</td>\n    </tr>\n    <tr>\n      <th>27</th>\n      <td>AMZN</td>\n      <td>3258.12</td>\n      <td>95.34</td>\n      <td>6</td>\n    </tr>\n    <tr>\n      <th>28</th>\n      <td>UDR</td>\n      <td>39.80</td>\n      <td>95.29</td>\n      <td>502</td>\n    </tr>\n    <tr>\n      <th>29</th>\n      <td>ISRG</td>\n      <td>837.00</td>\n      <td>94.86</td>\n      <td>23</td>\n    </tr>\n    <tr>\n      <th>30</th>\n      <td>IDXX</td>\n      <td>505.77</td>\n      <td>94.55</td>\n      <td>39</td>\n    </tr>\n    <tr>\n      <th>31</th>\n      <td>BDX</td>\n      <td>253.34</td>\n      <td>92.58</td>\n      <td>78</td>\n    </tr>\n    <tr>\n      <th>32</th>\n      <td>FISV</td>\n      <td>117.38</td>\n      <td>90.16</td>\n      <td>170</td>\n    </tr>\n    <tr>\n      <th>33</th>\n      <td>NFLX</td>\n      <td>562.69</td>\n      <td>89.66</td>\n      <td>35</td>\n    </tr>\n    <tr>\n      <th>34</th>\n      <td>PYPL</td>\n      <td>242.70</td>\n      <td>89.3</td>\n      <td>82</td>\n    </tr>\n    <tr>\n      <th>35</th>\n      <td>NVDA</td>\n      <td>535.50</td>\n      <td>89.07</td>\n      <td>37</td>\n    </tr>\n    <tr>\n      <th>36</th>\n      <td>ILMN</td>\n      <td>384.00</td>\n      <td>87.93</td>\n      <td>52</td>\n    </tr>\n    <tr>\n      <th>37</th>\n      <td>AVGO</td>\n      <td>447.26</td>\n      <td>85.4</td>\n      <td>44</td>\n    </tr>\n    <tr>\n      <th>38</th>\n      <td>NKE</td>\n      <td>147.60</td>\n      <td>83.79</td>\n      <td>135</td>\n    </tr>\n    <tr>\n      <th>39</th>\n      <td>ANSS</td>\n      <td>370.80</td>\n      <td>83.21</td>\n      <td>53</td>\n    </tr>\n    <tr>\n      <th>40</th>\n      <td>MKTX</td>\n      <td>587.25</td>\n      <td>81.18</td>\n      <td>34</td>\n    </tr>\n    <tr>\n      <th>41</th>\n      <td>WFC</td>\n      <td>31.02</td>\n      <td>79.33</td>\n      <td>644</td>\n    </tr>\n    <tr>\n      <th>42</th>\n      <td>COO</td>\n      <td>366.52</td>\n      <td>75.62</td>\n      <td>54</td>\n    </tr>\n    <tr>\n      <th>43</th>\n      <td>XYL</td>\n      <td>106.85</td>\n      <td>74.62</td>\n      <td>187</td>\n    </tr>\n    <tr>\n      <th>44</th>\n      <td>ABMD</td>\n      <td>335.00</td>\n      <td>74.4</td>\n      <td>59</td>\n    </tr>\n    <tr>\n      <th>45</th>\n      <td>EW</td>\n      <td>93.96</td>\n      <td>74.1</td>\n      <td>212</td>\n    </tr>\n    <tr>\n      <th>46</th>\n      <td>WST</td>\n      <td>293.41</td>\n      <td>71.33</td>\n      <td>68</td>\n    </tr>\n    <tr>\n      <th>47</th>\n      <td>IT</td>\n      <td>167.46</td>\n      <td>70.06</td>\n      <td>119</td>\n    </tr>\n    <tr>\n      <th>48</th>\n      <td>BKNG</td>\n      <td>2315.79</td>\n      <td>69.17</td>\n      <td>8</td>\n    </tr>\n    <tr>\n      <th>49</th>\n      <td>MSCI</td>\n      <td>455.07</td>\n      <td>67.66</td>\n      <td>43</td>\n    </tr>\n  </tbody>\n</table>\n</div>"
     },
     "metadata": {},
     "execution_count": 22
    }
   ],
   "source": [
    "position_size = float(portfolio_size)/len(final_dataframe.index)\n",
    "for row in final_dataframe.index:\n",
    "    final_dataframe.loc[row, 'Number of Shares to Buy'] = math.floor(position_size/final_dataframe.loc[row, 'Price'])\n",
    "final_dataframe"
   ]
  },
  {
   "cell_type": "markdown",
   "metadata": {},
   "source": [
    "## Building a Better (and More Realistic) Value Strategy\n",
    "Every valuation metric has certain flaws.\n",
    "\n",
    "For example, the price-to-earnings ratio doesn't work well with stocks with negative earnings.\n",
    "\n",
    "Similarly, stocks that buyback their own shares are difficult to value using the price-to-book ratio.\n",
    "\n",
    "Investors typically use a `composite` basket of valuation metrics to build robust quantitative value strategies. In this section, we will filter for stocks with the lowest percentiles on the following metrics:\n",
    "\n",
    "* Price-to-earnings ratio\n",
    "* Price-to-book ratio\n",
    "* Price-to-sales ratio\n",
    "* Enterprise Value divided by Earnings Before Interest, Taxes, Depreciation, and Amortization (EV/EBITDA)\n",
    "* Enterprise Value divided by Gross Profit (EV/GP)\n",
    "\n",
    "Some of these metrics aren't provided directly by the IEX Cloud API, and must be computed after pulling raw data. We'll start by calculating each data point from scratch."
   ]
  },
  {
   "cell_type": "code",
   "execution_count": 26,
   "metadata": {},
   "outputs": [
    {
     "output_type": "stream",
     "name": "stdout",
     "text": [
      "42.02 34.56 8.24 28.9195477229065 21.23095776954761\n"
     ]
    }
   ],
   "source": [
    "symbol = \"AAPL\"\n",
    "batch_api_call_url = f\"https://sandbox.iexapis.com/stable/stock/market/batch?symbols={symbol}&types=quote,advanced-stats&token={IEX_CLOUD_API_TOKEN}\"\n",
    "data = requests.get(batch_api_call_url).json()\n",
    "\n",
    "# Price-to-earnings ratio\n",
    "pe_ratio = data[symbol]['quote']['peRatio']\n",
    "# Price-to-book ratio\n",
    "pb_ratio = data[symbol]['advanced-stats']['priceToBook']\n",
    "# Price-to-sales ratio\n",
    "ps_ratio = data[symbol]['advanced-stats']['priceToSales']\n",
    "\n",
    "enterprise_val = data[symbol]['advanced-stats']['enterpriseValue']\n",
    "\n",
    "# Enterprise Value divided by Earnings Before Interest, Taxes, Depreciation, and Amortization (EV/EBITDA)\n",
    "ev_to_ebitda_ratio = enterprise_val / data[symbol]['advanced-stats']['EBITDA']\n",
    "\n",
    "# Enterprise Value divided by Gross Profit (EV/GP)\n",
    "ev_to_gp = enterprise_val / data[symbol]['advanced-stats']['grossProfit']\n",
    "\n",
    "print(pe_ratio, pb_ratio, ps_ratio, ev_to_ebitda_ratio, ev_to_gp)"
   ]
  },
  {
   "cell_type": "markdown",
   "metadata": {},
   "source": [
    "Let's move on to building our DataFrame. You'll notice that I use the abbreviation `rv` often. It stands for `robust value`, which is what we'll call this sophisticated strategy moving forward."
   ]
  },
  {
   "cell_type": "code",
   "execution_count": 27,
   "metadata": {},
   "outputs": [],
   "source": [
    "rv_columns = [\n",
    "    'Ticker',\n",
    "    'Price',\n",
    "    'Number of Shares to Buy', \n",
    "    'Price-to-Earnings Ratio',\n",
    "    'PE Percentile',\n",
    "    'Price-to-Book Ratio',\n",
    "    'PB Percentile',\n",
    "    'Price-to-Sales Ratio',\n",
    "    'PS Percentile',\n",
    "    'EV/EBITDA',\n",
    "    'EV/EBITDA Percentile',\n",
    "    'EV/GP',\n",
    "    'EV/GP Percentile',\n",
    "    'RV Score'\n",
    "]\n",
    "\n",
    "rv_dataframe = pd.DataFrame(columns = rv_columns)\n",
    "\n",
    "for symbol_string in symbol_strings:\n",
    "    batch_api_call_url = f'https://sandbox.iexapis.com/stable/stock/market/batch?symbols={symbol_string}&types=quote,advanced-stats&token={IEX_CLOUD_API_TOKEN}'\n",
    "    data = requests.get(batch_api_call_url).json()\n",
    "    for symbol in symbol_string.split(','):\n",
    "        enterprise_value = data[symbol]['advanced-stats']['enterpriseValue']\n",
    "        ebitda = data[symbol]['advanced-stats']['EBITDA']\n",
    "        gross_profit = data[symbol]['advanced-stats']['grossProfit']\n",
    "\n",
    "        try:\n",
    "            ev_to_ebitda = enterprise_value/ebitda\n",
    "        except TypeError:\n",
    "            ev_to_ebitda = np.NaN\n",
    "        \n",
    "        try:\n",
    "            ev_to_gross_profit = enterprise_value/gross_profit\n",
    "        except TypeError:\n",
    "            ev_to_gross_profit = np.NaN\n",
    "            \n",
    "        rv_dataframe = rv_dataframe.append(\n",
    "            pd.Series([\n",
    "                symbol,\n",
    "                data[symbol]['quote']['latestPrice'],\n",
    "                'N/A',\n",
    "                data[symbol]['quote']['peRatio'],\n",
    "                'N/A',\n",
    "                data[symbol]['advanced-stats']['priceToBook'],\n",
    "                'N/A',\n",
    "                data[symbol]['advanced-stats']['priceToSales'],\n",
    "                'N/A',\n",
    "                ev_to_ebitda,\n",
    "                'N/A',\n",
    "                ev_to_gross_profit,\n",
    "                'N/A',\n",
    "                'N/A'\n",
    "        ],\n",
    "        index = rv_columns),\n",
    "            ignore_index = True\n",
    "        )\n"
   ]
  },
  {
   "cell_type": "code",
   "execution_count": 28,
   "metadata": {},
   "outputs": [
    {
     "output_type": "execute_result",
     "data": {
      "text/plain": [
       "    Ticker   Price Number of Shares to Buy Price-to-Earnings Ratio  \\\n",
       "0        A  119.97                     N/A                   54.18   \n",
       "1      AAL   15.86                     N/A                   -1.17   \n",
       "2      AAP  160.62                     N/A                   23.54   \n",
       "3     AAPL  138.65                     N/A                    42.1   \n",
       "4     ABBV  108.83                     N/A                    24.4   \n",
       "..     ...     ...                     ...                     ...   \n",
       "500    YUM  111.92                     N/A                    33.9   \n",
       "501    ZBH  158.70                     N/A                 -209.67   \n",
       "502   ZBRA  391.24                     N/A                   44.59   \n",
       "503   ZION   44.24                     N/A                   18.51   \n",
       "504    ZTS  166.50                     N/A                   49.18   \n",
       "\n",
       "    PE Percentile Price-to-Book Ratio PB Percentile Price-to-Sales Ratio  \\\n",
       "0             N/A                 7.6           N/A                 7.16   \n",
       "1             N/A               -1.74           N/A                0.388   \n",
       "2             N/A                2.96           N/A                 1.13   \n",
       "3             N/A               36.08           N/A                 8.51   \n",
       "4             N/A               12.59           N/A                 4.79   \n",
       "..            ...                 ...           ...                  ...   \n",
       "500           N/A               -4.13           N/A                 5.99   \n",
       "501           N/A                2.82           N/A                 4.71   \n",
       "502           N/A               10.67           N/A                 4.76   \n",
       "503           N/A                   1           N/A                 2.45   \n",
       "504           N/A               27.67           N/A                12.64   \n",
       "\n",
       "    PS Percentile  EV/EBITDA EV/EBITDA Percentile      EV/GP EV/GP Percentile  \\\n",
       "0             N/A  33.089033                  N/A  13.026655              N/A   \n",
       "1             N/A  -6.184268                  N/A   1.431727              N/A   \n",
       "2             N/A  11.287689                  N/A   2.471893              N/A   \n",
       "3             N/A  29.289193                  N/A  21.018637              N/A   \n",
       "4             N/A  16.400071                  N/A   9.726260              N/A   \n",
       "..            ...        ...                  ...        ...              ...   \n",
       "500           N/A  24.434218                  N/A  10.831442              N/A   \n",
       "501           N/A  26.235121                  N/A   7.718650              N/A   \n",
       "502           N/A  30.892685                  N/A  11.478661              N/A   \n",
       "503           N/A  10.943340                  N/A   2.768656              N/A   \n",
       "504           N/A  36.046680                  N/A  19.529853              N/A   \n",
       "\n",
       "    RV Score  \n",
       "0        N/A  \n",
       "1        N/A  \n",
       "2        N/A  \n",
       "3        N/A  \n",
       "4        N/A  \n",
       "..       ...  \n",
       "500      N/A  \n",
       "501      N/A  \n",
       "502      N/A  \n",
       "503      N/A  \n",
       "504      N/A  \n",
       "\n",
       "[505 rows x 14 columns]"
      ],
      "text/html": "<div>\n<style scoped>\n    .dataframe tbody tr th:only-of-type {\n        vertical-align: middle;\n    }\n\n    .dataframe tbody tr th {\n        vertical-align: top;\n    }\n\n    .dataframe thead th {\n        text-align: right;\n    }\n</style>\n<table border=\"1\" class=\"dataframe\">\n  <thead>\n    <tr style=\"text-align: right;\">\n      <th></th>\n      <th>Ticker</th>\n      <th>Price</th>\n      <th>Number of Shares to Buy</th>\n      <th>Price-to-Earnings Ratio</th>\n      <th>PE Percentile</th>\n      <th>Price-to-Book Ratio</th>\n      <th>PB Percentile</th>\n      <th>Price-to-Sales Ratio</th>\n      <th>PS Percentile</th>\n      <th>EV/EBITDA</th>\n      <th>EV/EBITDA Percentile</th>\n      <th>EV/GP</th>\n      <th>EV/GP Percentile</th>\n      <th>RV Score</th>\n    </tr>\n  </thead>\n  <tbody>\n    <tr>\n      <th>0</th>\n      <td>A</td>\n      <td>119.97</td>\n      <td>N/A</td>\n      <td>54.18</td>\n      <td>N/A</td>\n      <td>7.6</td>\n      <td>N/A</td>\n      <td>7.16</td>\n      <td>N/A</td>\n      <td>33.089033</td>\n      <td>N/A</td>\n      <td>13.026655</td>\n      <td>N/A</td>\n      <td>N/A</td>\n    </tr>\n    <tr>\n      <th>1</th>\n      <td>AAL</td>\n      <td>15.86</td>\n      <td>N/A</td>\n      <td>-1.17</td>\n      <td>N/A</td>\n      <td>-1.74</td>\n      <td>N/A</td>\n      <td>0.388</td>\n      <td>N/A</td>\n      <td>-6.184268</td>\n      <td>N/A</td>\n      <td>1.431727</td>\n      <td>N/A</td>\n      <td>N/A</td>\n    </tr>\n    <tr>\n      <th>2</th>\n      <td>AAP</td>\n      <td>160.62</td>\n      <td>N/A</td>\n      <td>23.54</td>\n      <td>N/A</td>\n      <td>2.96</td>\n      <td>N/A</td>\n      <td>1.13</td>\n      <td>N/A</td>\n      <td>11.287689</td>\n      <td>N/A</td>\n      <td>2.471893</td>\n      <td>N/A</td>\n      <td>N/A</td>\n    </tr>\n    <tr>\n      <th>3</th>\n      <td>AAPL</td>\n      <td>138.65</td>\n      <td>N/A</td>\n      <td>42.1</td>\n      <td>N/A</td>\n      <td>36.08</td>\n      <td>N/A</td>\n      <td>8.51</td>\n      <td>N/A</td>\n      <td>29.289193</td>\n      <td>N/A</td>\n      <td>21.018637</td>\n      <td>N/A</td>\n      <td>N/A</td>\n    </tr>\n    <tr>\n      <th>4</th>\n      <td>ABBV</td>\n      <td>108.83</td>\n      <td>N/A</td>\n      <td>24.4</td>\n      <td>N/A</td>\n      <td>12.59</td>\n      <td>N/A</td>\n      <td>4.79</td>\n      <td>N/A</td>\n      <td>16.400071</td>\n      <td>N/A</td>\n      <td>9.726260</td>\n      <td>N/A</td>\n      <td>N/A</td>\n    </tr>\n    <tr>\n      <th>...</th>\n      <td>...</td>\n      <td>...</td>\n      <td>...</td>\n      <td>...</td>\n      <td>...</td>\n      <td>...</td>\n      <td>...</td>\n      <td>...</td>\n      <td>...</td>\n      <td>...</td>\n      <td>...</td>\n      <td>...</td>\n      <td>...</td>\n      <td>...</td>\n    </tr>\n    <tr>\n      <th>500</th>\n      <td>YUM</td>\n      <td>111.92</td>\n      <td>N/A</td>\n      <td>33.9</td>\n      <td>N/A</td>\n      <td>-4.13</td>\n      <td>N/A</td>\n      <td>5.99</td>\n      <td>N/A</td>\n      <td>24.434218</td>\n      <td>N/A</td>\n      <td>10.831442</td>\n      <td>N/A</td>\n      <td>N/A</td>\n    </tr>\n    <tr>\n      <th>501</th>\n      <td>ZBH</td>\n      <td>158.70</td>\n      <td>N/A</td>\n      <td>-209.67</td>\n      <td>N/A</td>\n      <td>2.82</td>\n      <td>N/A</td>\n      <td>4.71</td>\n      <td>N/A</td>\n      <td>26.235121</td>\n      <td>N/A</td>\n      <td>7.718650</td>\n      <td>N/A</td>\n      <td>N/A</td>\n    </tr>\n    <tr>\n      <th>502</th>\n      <td>ZBRA</td>\n      <td>391.24</td>\n      <td>N/A</td>\n      <td>44.59</td>\n      <td>N/A</td>\n      <td>10.67</td>\n      <td>N/A</td>\n      <td>4.76</td>\n      <td>N/A</td>\n      <td>30.892685</td>\n      <td>N/A</td>\n      <td>11.478661</td>\n      <td>N/A</td>\n      <td>N/A</td>\n    </tr>\n    <tr>\n      <th>503</th>\n      <td>ZION</td>\n      <td>44.24</td>\n      <td>N/A</td>\n      <td>18.51</td>\n      <td>N/A</td>\n      <td>1</td>\n      <td>N/A</td>\n      <td>2.45</td>\n      <td>N/A</td>\n      <td>10.943340</td>\n      <td>N/A</td>\n      <td>2.768656</td>\n      <td>N/A</td>\n      <td>N/A</td>\n    </tr>\n    <tr>\n      <th>504</th>\n      <td>ZTS</td>\n      <td>166.50</td>\n      <td>N/A</td>\n      <td>49.18</td>\n      <td>N/A</td>\n      <td>27.67</td>\n      <td>N/A</td>\n      <td>12.64</td>\n      <td>N/A</td>\n      <td>36.046680</td>\n      <td>N/A</td>\n      <td>19.529853</td>\n      <td>N/A</td>\n      <td>N/A</td>\n    </tr>\n  </tbody>\n</table>\n<p>505 rows × 14 columns</p>\n</div>"
     },
     "metadata": {},
     "execution_count": 28
    }
   ],
   "source": [
    "rv_dataframe"
   ]
  },
  {
   "cell_type": "markdown",
   "metadata": {},
   "source": [
    "## Dealing With Missing Data in Our DataFrame\n",
    "\n",
    "Our DataFrame contains some missing data because all of the metrics we require are not available through the API we're using. \n",
    "\n",
    "You can use pandas' `isnull` method to identify missing data:"
   ]
  },
  {
   "cell_type": "code",
   "execution_count": 30,
   "metadata": {},
   "outputs": [
    {
     "output_type": "execute_result",
     "data": {
      "text/plain": [
       "    Ticker     Price Number of Shares to Buy Price-to-Earnings Ratio  \\\n",
       "40     AON   213.630                     N/A                    None   \n",
       "71   BRK.B   234.570                     N/A                    None   \n",
       "118    CTL    11.000                     N/A                    9.73   \n",
       "136  DISCK    27.120                     N/A                    None   \n",
       "165   ETFC    49.260                     N/A                    14.3   \n",
       "168   EVRG    57.160                     N/A                    None   \n",
       "190    FOX    29.730                     N/A                    None   \n",
       "192    FRC   151.030                     N/A                    None   \n",
       "194    FTI     9.400                     N/A                    None   \n",
       "204   GOOG  1816.460                     N/A                    None   \n",
       "326    MYL    16.148                     N/A                   31.46   \n",
       "327    NBL     8.860                     N/A                   -0.74   \n",
       "348    NWS    18.400                     N/A                    None   \n",
       "363    PEG    60.700                     N/A                    None   \n",
       "442   TROW   158.700                     N/A                    None   \n",
       "452     UA    15.500                     N/A                    None   \n",
       "454    UAL    43.570                     N/A                    None   \n",
       "498    XRX    23.560                     N/A                    None   \n",
       "\n",
       "    PE Percentile Price-to-Book Ratio PB Percentile Price-to-Sales Ratio  \\\n",
       "40            N/A                None           N/A                 None   \n",
       "71            N/A                None           N/A                 None   \n",
       "118           N/A                None           N/A                 None   \n",
       "136           N/A                None           N/A                 None   \n",
       "165           N/A                None           N/A                 None   \n",
       "168           N/A                None           N/A                 None   \n",
       "190           N/A                None           N/A                 None   \n",
       "192           N/A                None           N/A                 None   \n",
       "194           N/A                None           N/A                 None   \n",
       "204           N/A                None           N/A                 None   \n",
       "326           N/A                None           N/A                 None   \n",
       "327           N/A                None           N/A                 None   \n",
       "348           N/A                None           N/A                 None   \n",
       "363           N/A                None           N/A                 None   \n",
       "442           N/A                None           N/A                 None   \n",
       "452           N/A                None           N/A                 None   \n",
       "454           N/A                None           N/A                 None   \n",
       "498           N/A                None           N/A                 None   \n",
       "\n",
       "    PS Percentile  EV/EBITDA EV/EBITDA Percentile  EV/GP EV/GP Percentile  \\\n",
       "40            N/A        NaN                  N/A    NaN              N/A   \n",
       "71            N/A        NaN                  N/A    NaN              N/A   \n",
       "118           N/A        NaN                  N/A    NaN              N/A   \n",
       "136           N/A        NaN                  N/A    NaN              N/A   \n",
       "165           N/A        NaN                  N/A    NaN              N/A   \n",
       "168           N/A        NaN                  N/A    NaN              N/A   \n",
       "190           N/A        NaN                  N/A    NaN              N/A   \n",
       "192           N/A        NaN                  N/A    NaN              N/A   \n",
       "194           N/A        NaN                  N/A    NaN              N/A   \n",
       "204           N/A        NaN                  N/A    NaN              N/A   \n",
       "326           N/A        NaN                  N/A    NaN              N/A   \n",
       "327           N/A        NaN                  N/A    NaN              N/A   \n",
       "348           N/A        NaN                  N/A    NaN              N/A   \n",
       "363           N/A        NaN                  N/A    NaN              N/A   \n",
       "442           N/A        NaN                  N/A    NaN              N/A   \n",
       "452           N/A        NaN                  N/A    NaN              N/A   \n",
       "454           N/A        NaN                  N/A    NaN              N/A   \n",
       "498           N/A        NaN                  N/A    NaN              N/A   \n",
       "\n",
       "    RV Score  \n",
       "40       N/A  \n",
       "71       N/A  \n",
       "118      N/A  \n",
       "136      N/A  \n",
       "165      N/A  \n",
       "168      N/A  \n",
       "190      N/A  \n",
       "192      N/A  \n",
       "194      N/A  \n",
       "204      N/A  \n",
       "326      N/A  \n",
       "327      N/A  \n",
       "348      N/A  \n",
       "363      N/A  \n",
       "442      N/A  \n",
       "452      N/A  \n",
       "454      N/A  \n",
       "498      N/A  "
      ],
      "text/html": "<div>\n<style scoped>\n    .dataframe tbody tr th:only-of-type {\n        vertical-align: middle;\n    }\n\n    .dataframe tbody tr th {\n        vertical-align: top;\n    }\n\n    .dataframe thead th {\n        text-align: right;\n    }\n</style>\n<table border=\"1\" class=\"dataframe\">\n  <thead>\n    <tr style=\"text-align: right;\">\n      <th></th>\n      <th>Ticker</th>\n      <th>Price</th>\n      <th>Number of Shares to Buy</th>\n      <th>Price-to-Earnings Ratio</th>\n      <th>PE Percentile</th>\n      <th>Price-to-Book Ratio</th>\n      <th>PB Percentile</th>\n      <th>Price-to-Sales Ratio</th>\n      <th>PS Percentile</th>\n      <th>EV/EBITDA</th>\n      <th>EV/EBITDA Percentile</th>\n      <th>EV/GP</th>\n      <th>EV/GP Percentile</th>\n      <th>RV Score</th>\n    </tr>\n  </thead>\n  <tbody>\n    <tr>\n      <th>40</th>\n      <td>AON</td>\n      <td>213.630</td>\n      <td>N/A</td>\n      <td>None</td>\n      <td>N/A</td>\n      <td>None</td>\n      <td>N/A</td>\n      <td>None</td>\n      <td>N/A</td>\n      <td>NaN</td>\n      <td>N/A</td>\n      <td>NaN</td>\n      <td>N/A</td>\n      <td>N/A</td>\n    </tr>\n    <tr>\n      <th>71</th>\n      <td>BRK.B</td>\n      <td>234.570</td>\n      <td>N/A</td>\n      <td>None</td>\n      <td>N/A</td>\n      <td>None</td>\n      <td>N/A</td>\n      <td>None</td>\n      <td>N/A</td>\n      <td>NaN</td>\n      <td>N/A</td>\n      <td>NaN</td>\n      <td>N/A</td>\n      <td>N/A</td>\n    </tr>\n    <tr>\n      <th>118</th>\n      <td>CTL</td>\n      <td>11.000</td>\n      <td>N/A</td>\n      <td>9.73</td>\n      <td>N/A</td>\n      <td>None</td>\n      <td>N/A</td>\n      <td>None</td>\n      <td>N/A</td>\n      <td>NaN</td>\n      <td>N/A</td>\n      <td>NaN</td>\n      <td>N/A</td>\n      <td>N/A</td>\n    </tr>\n    <tr>\n      <th>136</th>\n      <td>DISCK</td>\n      <td>27.120</td>\n      <td>N/A</td>\n      <td>None</td>\n      <td>N/A</td>\n      <td>None</td>\n      <td>N/A</td>\n      <td>None</td>\n      <td>N/A</td>\n      <td>NaN</td>\n      <td>N/A</td>\n      <td>NaN</td>\n      <td>N/A</td>\n      <td>N/A</td>\n    </tr>\n    <tr>\n      <th>165</th>\n      <td>ETFC</td>\n      <td>49.260</td>\n      <td>N/A</td>\n      <td>14.3</td>\n      <td>N/A</td>\n      <td>None</td>\n      <td>N/A</td>\n      <td>None</td>\n      <td>N/A</td>\n      <td>NaN</td>\n      <td>N/A</td>\n      <td>NaN</td>\n      <td>N/A</td>\n      <td>N/A</td>\n    </tr>\n    <tr>\n      <th>168</th>\n      <td>EVRG</td>\n      <td>57.160</td>\n      <td>N/A</td>\n      <td>None</td>\n      <td>N/A</td>\n      <td>None</td>\n      <td>N/A</td>\n      <td>None</td>\n      <td>N/A</td>\n      <td>NaN</td>\n      <td>N/A</td>\n      <td>NaN</td>\n      <td>N/A</td>\n      <td>N/A</td>\n    </tr>\n    <tr>\n      <th>190</th>\n      <td>FOX</td>\n      <td>29.730</td>\n      <td>N/A</td>\n      <td>None</td>\n      <td>N/A</td>\n      <td>None</td>\n      <td>N/A</td>\n      <td>None</td>\n      <td>N/A</td>\n      <td>NaN</td>\n      <td>N/A</td>\n      <td>NaN</td>\n      <td>N/A</td>\n      <td>N/A</td>\n    </tr>\n    <tr>\n      <th>192</th>\n      <td>FRC</td>\n      <td>151.030</td>\n      <td>N/A</td>\n      <td>None</td>\n      <td>N/A</td>\n      <td>None</td>\n      <td>N/A</td>\n      <td>None</td>\n      <td>N/A</td>\n      <td>NaN</td>\n      <td>N/A</td>\n      <td>NaN</td>\n      <td>N/A</td>\n      <td>N/A</td>\n    </tr>\n    <tr>\n      <th>194</th>\n      <td>FTI</td>\n      <td>9.400</td>\n      <td>N/A</td>\n      <td>None</td>\n      <td>N/A</td>\n      <td>None</td>\n      <td>N/A</td>\n      <td>None</td>\n      <td>N/A</td>\n      <td>NaN</td>\n      <td>N/A</td>\n      <td>NaN</td>\n      <td>N/A</td>\n      <td>N/A</td>\n    </tr>\n    <tr>\n      <th>204</th>\n      <td>GOOG</td>\n      <td>1816.460</td>\n      <td>N/A</td>\n      <td>None</td>\n      <td>N/A</td>\n      <td>None</td>\n      <td>N/A</td>\n      <td>None</td>\n      <td>N/A</td>\n      <td>NaN</td>\n      <td>N/A</td>\n      <td>NaN</td>\n      <td>N/A</td>\n      <td>N/A</td>\n    </tr>\n    <tr>\n      <th>326</th>\n      <td>MYL</td>\n      <td>16.148</td>\n      <td>N/A</td>\n      <td>31.46</td>\n      <td>N/A</td>\n      <td>None</td>\n      <td>N/A</td>\n      <td>None</td>\n      <td>N/A</td>\n      <td>NaN</td>\n      <td>N/A</td>\n      <td>NaN</td>\n      <td>N/A</td>\n      <td>N/A</td>\n    </tr>\n    <tr>\n      <th>327</th>\n      <td>NBL</td>\n      <td>8.860</td>\n      <td>N/A</td>\n      <td>-0.74</td>\n      <td>N/A</td>\n      <td>None</td>\n      <td>N/A</td>\n      <td>None</td>\n      <td>N/A</td>\n      <td>NaN</td>\n      <td>N/A</td>\n      <td>NaN</td>\n      <td>N/A</td>\n      <td>N/A</td>\n    </tr>\n    <tr>\n      <th>348</th>\n      <td>NWS</td>\n      <td>18.400</td>\n      <td>N/A</td>\n      <td>None</td>\n      <td>N/A</td>\n      <td>None</td>\n      <td>N/A</td>\n      <td>None</td>\n      <td>N/A</td>\n      <td>NaN</td>\n      <td>N/A</td>\n      <td>NaN</td>\n      <td>N/A</td>\n      <td>N/A</td>\n    </tr>\n    <tr>\n      <th>363</th>\n      <td>PEG</td>\n      <td>60.700</td>\n      <td>N/A</td>\n      <td>None</td>\n      <td>N/A</td>\n      <td>None</td>\n      <td>N/A</td>\n      <td>None</td>\n      <td>N/A</td>\n      <td>NaN</td>\n      <td>N/A</td>\n      <td>NaN</td>\n      <td>N/A</td>\n      <td>N/A</td>\n    </tr>\n    <tr>\n      <th>442</th>\n      <td>TROW</td>\n      <td>158.700</td>\n      <td>N/A</td>\n      <td>None</td>\n      <td>N/A</td>\n      <td>None</td>\n      <td>N/A</td>\n      <td>None</td>\n      <td>N/A</td>\n      <td>NaN</td>\n      <td>N/A</td>\n      <td>NaN</td>\n      <td>N/A</td>\n      <td>N/A</td>\n    </tr>\n    <tr>\n      <th>452</th>\n      <td>UA</td>\n      <td>15.500</td>\n      <td>N/A</td>\n      <td>None</td>\n      <td>N/A</td>\n      <td>None</td>\n      <td>N/A</td>\n      <td>None</td>\n      <td>N/A</td>\n      <td>NaN</td>\n      <td>N/A</td>\n      <td>NaN</td>\n      <td>N/A</td>\n      <td>N/A</td>\n    </tr>\n    <tr>\n      <th>454</th>\n      <td>UAL</td>\n      <td>43.570</td>\n      <td>N/A</td>\n      <td>None</td>\n      <td>N/A</td>\n      <td>None</td>\n      <td>N/A</td>\n      <td>None</td>\n      <td>N/A</td>\n      <td>NaN</td>\n      <td>N/A</td>\n      <td>NaN</td>\n      <td>N/A</td>\n      <td>N/A</td>\n    </tr>\n    <tr>\n      <th>498</th>\n      <td>XRX</td>\n      <td>23.560</td>\n      <td>N/A</td>\n      <td>None</td>\n      <td>N/A</td>\n      <td>None</td>\n      <td>N/A</td>\n      <td>None</td>\n      <td>N/A</td>\n      <td>NaN</td>\n      <td>N/A</td>\n      <td>NaN</td>\n      <td>N/A</td>\n      <td>N/A</td>\n    </tr>\n  </tbody>\n</table>\n</div>"
     },
     "metadata": {},
     "execution_count": 30
    }
   ],
   "source": [
    "rv_dataframe[rv_dataframe.isnull().any(axis=1)]"
   ]
  },
  {
   "cell_type": "markdown",
   "metadata": {},
   "source": [
    "Dealing with missing data is an important topic in data science.\n",
    "\n",
    "There are two main approaches:\n",
    "\n",
    "* Drop missing data from the data set (pandas' `dropna` method is useful here)\n",
    "* Replace missing data with a new value (pandas' `fillna` method is useful here)\n",
    "\n",
    "In this tutorial, we will replace missing data with the average non-`NaN` data point from that column. \n",
    "\n",
    "Here is the code to do this:"
   ]
  },
  {
   "cell_type": "code",
   "execution_count": 31,
   "metadata": {},
   "outputs": [],
   "source": [
    "for column in ['Price-to-Earnings Ratio', 'Price-to-Book Ratio','Price-to-Sales Ratio',  'EV/EBITDA','EV/GP']:\n",
    "    rv_dataframe[column].fillna(rv_dataframe[column].mean(), inplace = True)"
   ]
  },
  {
   "cell_type": "markdown",
   "metadata": {},
   "source": [
    "Now, if we run the statement from earlier to print rows that contain missing data, nothing should be returned:"
   ]
  },
  {
   "cell_type": "code",
   "execution_count": 32,
   "metadata": {},
   "outputs": [
    {
     "output_type": "execute_result",
     "data": {
      "text/plain": [
       "Empty DataFrame\n",
       "Columns: [Ticker, Price, Number of Shares to Buy, Price-to-Earnings Ratio, PE Percentile, Price-to-Book Ratio, PB Percentile, Price-to-Sales Ratio, PS Percentile, EV/EBITDA, EV/EBITDA Percentile, EV/GP, EV/GP Percentile, RV Score]\n",
       "Index: []"
      ],
      "text/html": "<div>\n<style scoped>\n    .dataframe tbody tr th:only-of-type {\n        vertical-align: middle;\n    }\n\n    .dataframe tbody tr th {\n        vertical-align: top;\n    }\n\n    .dataframe thead th {\n        text-align: right;\n    }\n</style>\n<table border=\"1\" class=\"dataframe\">\n  <thead>\n    <tr style=\"text-align: right;\">\n      <th></th>\n      <th>Ticker</th>\n      <th>Price</th>\n      <th>Number of Shares to Buy</th>\n      <th>Price-to-Earnings Ratio</th>\n      <th>PE Percentile</th>\n      <th>Price-to-Book Ratio</th>\n      <th>PB Percentile</th>\n      <th>Price-to-Sales Ratio</th>\n      <th>PS Percentile</th>\n      <th>EV/EBITDA</th>\n      <th>EV/EBITDA Percentile</th>\n      <th>EV/GP</th>\n      <th>EV/GP Percentile</th>\n      <th>RV Score</th>\n    </tr>\n  </thead>\n  <tbody>\n  </tbody>\n</table>\n</div>"
     },
     "metadata": {},
     "execution_count": 32
    }
   ],
   "source": [
    "rv_dataframe[rv_dataframe.isnull().any(axis=1)]"
   ]
  },
  {
   "cell_type": "markdown",
   "metadata": {},
   "source": [
    "## Calculating Value Percentiles\n",
    "\n",
    "We now need to calculate value score percentiles for every stock in the universe. More specifically, we need to calculate percentile scores for the following metrics for every stock:\n",
    "\n",
    "* Price-to-earnings ratio\n",
    "* Price-to-book ratio\n",
    "* Price-to-sales ratio\n",
    "* EV/EBITDA\n",
    "* EV/GP\n",
    "\n",
    "Here's how we'll do this:"
   ]
  },
  {
   "cell_type": "code",
   "execution_count": 33,
   "metadata": {},
   "outputs": [
    {
     "output_type": "stream",
     "name": "stdout",
     "text": [
      "0      0.859406\n1      0.140594\n2      0.451485\n3      0.754455\n4      0.463366\n         ...   \n500    0.665347\n501    0.019802\n502    0.774257\n503    0.362376\n504    0.825743\nName: PE Percentile, Length: 505, dtype: object\n0       0.730693\n1      0.0455446\n2       0.415842\n3       0.964356\n4       0.849505\n         ...    \n500    0.0415842\n501     0.388119\n502     0.821782\n503    0.0980198\n504     0.946535\nName: PB Percentile, Length: 505, dtype: object\n0        0.80198\n1      0.0277228\n2       0.165347\n3       0.849505\n4       0.685149\n         ...    \n500     0.752475\n501     0.675248\n502     0.681188\n503      0.40297\n504     0.934653\nName: PS Percentile, Length: 505, dtype: object\n0       0.843564\n1      0.0277228\n2       0.281188\n3       0.809901\n4        0.50297\n         ...    \n500     0.744554\n501     0.772277\n502     0.829703\n503     0.255446\n504     0.855446\nName: EV/EBITDA Percentile, Length: 505, dtype: object\n0       0.794059\n1      0.0613861\n2       0.124752\n3       0.938614\n4       0.655446\n         ...    \n500      0.70099\n501     0.489109\n502     0.720792\n503     0.144554\n504     0.926733\nName: EV/GP Percentile, Length: 505, dtype: object\n"
     ]
    },
    {
     "output_type": "execute_result",
     "data": {
      "text/plain": [
       "    Ticker   Price Number of Shares to Buy  Price-to-Earnings Ratio  \\\n",
       "0        A  119.97                     N/A                    54.18   \n",
       "1      AAL   15.86                     N/A                    -1.17   \n",
       "2      AAP  160.62                     N/A                    23.54   \n",
       "3     AAPL  138.65                     N/A                    42.10   \n",
       "4     ABBV  108.83                     N/A                    24.40   \n",
       "..     ...     ...                     ...                      ...   \n",
       "500    YUM  111.92                     N/A                    33.90   \n",
       "501    ZBH  158.70                     N/A                  -209.67   \n",
       "502   ZBRA  391.24                     N/A                    44.59   \n",
       "503   ZION   44.24                     N/A                    18.51   \n",
       "504    ZTS  166.50                     N/A                    49.18   \n",
       "\n",
       "    PE Percentile  Price-to-Book Ratio PB Percentile  Price-to-Sales Ratio  \\\n",
       "0        0.859406                 7.60      0.730693                 7.160   \n",
       "1        0.140594                -1.74     0.0455446                 0.388   \n",
       "2        0.451485                 2.96      0.415842                 1.130   \n",
       "3        0.754455                36.08      0.964356                 8.510   \n",
       "4        0.463366                12.59      0.849505                 4.790   \n",
       "..            ...                  ...           ...                   ...   \n",
       "500      0.665347                -4.13     0.0415842                 5.990   \n",
       "501      0.019802                 2.82      0.388119                 4.710   \n",
       "502      0.774257                10.67      0.821782                 4.760   \n",
       "503      0.362376                 1.00     0.0980198                 2.450   \n",
       "504      0.825743                27.67      0.946535                12.640   \n",
       "\n",
       "    PS Percentile  EV/EBITDA EV/EBITDA Percentile      EV/GP EV/GP Percentile  \\\n",
       "0         0.80198  33.089033             0.843564  13.026655         0.794059   \n",
       "1       0.0277228  -6.184268            0.0277228   1.431727        0.0613861   \n",
       "2        0.165347  11.287689             0.281188   2.471893         0.124752   \n",
       "3        0.849505  29.289193             0.809901  21.018637         0.938614   \n",
       "4        0.685149  16.400071              0.50297   9.726260         0.655446   \n",
       "..            ...        ...                  ...        ...              ...   \n",
       "500      0.752475  24.434218             0.744554  10.831442          0.70099   \n",
       "501      0.675248  26.235121             0.772277   7.718650         0.489109   \n",
       "502      0.681188  30.892685             0.829703  11.478661         0.720792   \n",
       "503       0.40297  10.943340             0.255446   2.768656         0.144554   \n",
       "504      0.934653  36.046680             0.855446  19.529853         0.926733   \n",
       "\n",
       "    RV Score  \n",
       "0        N/A  \n",
       "1        N/A  \n",
       "2        N/A  \n",
       "3        N/A  \n",
       "4        N/A  \n",
       "..       ...  \n",
       "500      N/A  \n",
       "501      N/A  \n",
       "502      N/A  \n",
       "503      N/A  \n",
       "504      N/A  \n",
       "\n",
       "[505 rows x 14 columns]"
      ],
      "text/html": "<div>\n<style scoped>\n    .dataframe tbody tr th:only-of-type {\n        vertical-align: middle;\n    }\n\n    .dataframe tbody tr th {\n        vertical-align: top;\n    }\n\n    .dataframe thead th {\n        text-align: right;\n    }\n</style>\n<table border=\"1\" class=\"dataframe\">\n  <thead>\n    <tr style=\"text-align: right;\">\n      <th></th>\n      <th>Ticker</th>\n      <th>Price</th>\n      <th>Number of Shares to Buy</th>\n      <th>Price-to-Earnings Ratio</th>\n      <th>PE Percentile</th>\n      <th>Price-to-Book Ratio</th>\n      <th>PB Percentile</th>\n      <th>Price-to-Sales Ratio</th>\n      <th>PS Percentile</th>\n      <th>EV/EBITDA</th>\n      <th>EV/EBITDA Percentile</th>\n      <th>EV/GP</th>\n      <th>EV/GP Percentile</th>\n      <th>RV Score</th>\n    </tr>\n  </thead>\n  <tbody>\n    <tr>\n      <th>0</th>\n      <td>A</td>\n      <td>119.97</td>\n      <td>N/A</td>\n      <td>54.18</td>\n      <td>0.859406</td>\n      <td>7.60</td>\n      <td>0.730693</td>\n      <td>7.160</td>\n      <td>0.80198</td>\n      <td>33.089033</td>\n      <td>0.843564</td>\n      <td>13.026655</td>\n      <td>0.794059</td>\n      <td>N/A</td>\n    </tr>\n    <tr>\n      <th>1</th>\n      <td>AAL</td>\n      <td>15.86</td>\n      <td>N/A</td>\n      <td>-1.17</td>\n      <td>0.140594</td>\n      <td>-1.74</td>\n      <td>0.0455446</td>\n      <td>0.388</td>\n      <td>0.0277228</td>\n      <td>-6.184268</td>\n      <td>0.0277228</td>\n      <td>1.431727</td>\n      <td>0.0613861</td>\n      <td>N/A</td>\n    </tr>\n    <tr>\n      <th>2</th>\n      <td>AAP</td>\n      <td>160.62</td>\n      <td>N/A</td>\n      <td>23.54</td>\n      <td>0.451485</td>\n      <td>2.96</td>\n      <td>0.415842</td>\n      <td>1.130</td>\n      <td>0.165347</td>\n      <td>11.287689</td>\n      <td>0.281188</td>\n      <td>2.471893</td>\n      <td>0.124752</td>\n      <td>N/A</td>\n    </tr>\n    <tr>\n      <th>3</th>\n      <td>AAPL</td>\n      <td>138.65</td>\n      <td>N/A</td>\n      <td>42.10</td>\n      <td>0.754455</td>\n      <td>36.08</td>\n      <td>0.964356</td>\n      <td>8.510</td>\n      <td>0.849505</td>\n      <td>29.289193</td>\n      <td>0.809901</td>\n      <td>21.018637</td>\n      <td>0.938614</td>\n      <td>N/A</td>\n    </tr>\n    <tr>\n      <th>4</th>\n      <td>ABBV</td>\n      <td>108.83</td>\n      <td>N/A</td>\n      <td>24.40</td>\n      <td>0.463366</td>\n      <td>12.59</td>\n      <td>0.849505</td>\n      <td>4.790</td>\n      <td>0.685149</td>\n      <td>16.400071</td>\n      <td>0.50297</td>\n      <td>9.726260</td>\n      <td>0.655446</td>\n      <td>N/A</td>\n    </tr>\n    <tr>\n      <th>...</th>\n      <td>...</td>\n      <td>...</td>\n      <td>...</td>\n      <td>...</td>\n      <td>...</td>\n      <td>...</td>\n      <td>...</td>\n      <td>...</td>\n      <td>...</td>\n      <td>...</td>\n      <td>...</td>\n      <td>...</td>\n      <td>...</td>\n      <td>...</td>\n    </tr>\n    <tr>\n      <th>500</th>\n      <td>YUM</td>\n      <td>111.92</td>\n      <td>N/A</td>\n      <td>33.90</td>\n      <td>0.665347</td>\n      <td>-4.13</td>\n      <td>0.0415842</td>\n      <td>5.990</td>\n      <td>0.752475</td>\n      <td>24.434218</td>\n      <td>0.744554</td>\n      <td>10.831442</td>\n      <td>0.70099</td>\n      <td>N/A</td>\n    </tr>\n    <tr>\n      <th>501</th>\n      <td>ZBH</td>\n      <td>158.70</td>\n      <td>N/A</td>\n      <td>-209.67</td>\n      <td>0.019802</td>\n      <td>2.82</td>\n      <td>0.388119</td>\n      <td>4.710</td>\n      <td>0.675248</td>\n      <td>26.235121</td>\n      <td>0.772277</td>\n      <td>7.718650</td>\n      <td>0.489109</td>\n      <td>N/A</td>\n    </tr>\n    <tr>\n      <th>502</th>\n      <td>ZBRA</td>\n      <td>391.24</td>\n      <td>N/A</td>\n      <td>44.59</td>\n      <td>0.774257</td>\n      <td>10.67</td>\n      <td>0.821782</td>\n      <td>4.760</td>\n      <td>0.681188</td>\n      <td>30.892685</td>\n      <td>0.829703</td>\n      <td>11.478661</td>\n      <td>0.720792</td>\n      <td>N/A</td>\n    </tr>\n    <tr>\n      <th>503</th>\n      <td>ZION</td>\n      <td>44.24</td>\n      <td>N/A</td>\n      <td>18.51</td>\n      <td>0.362376</td>\n      <td>1.00</td>\n      <td>0.0980198</td>\n      <td>2.450</td>\n      <td>0.40297</td>\n      <td>10.943340</td>\n      <td>0.255446</td>\n      <td>2.768656</td>\n      <td>0.144554</td>\n      <td>N/A</td>\n    </tr>\n    <tr>\n      <th>504</th>\n      <td>ZTS</td>\n      <td>166.50</td>\n      <td>N/A</td>\n      <td>49.18</td>\n      <td>0.825743</td>\n      <td>27.67</td>\n      <td>0.946535</td>\n      <td>12.640</td>\n      <td>0.934653</td>\n      <td>36.046680</td>\n      <td>0.855446</td>\n      <td>19.529853</td>\n      <td>0.926733</td>\n      <td>N/A</td>\n    </tr>\n  </tbody>\n</table>\n<p>505 rows × 14 columns</p>\n</div>"
     },
     "metadata": {},
     "execution_count": 33
    }
   ],
   "source": [
    "metrics = {\n",
    "            'Price-to-Earnings Ratio': 'PE Percentile',\n",
    "            'Price-to-Book Ratio':'PB Percentile',\n",
    "            'Price-to-Sales Ratio': 'PS Percentile',\n",
    "            'EV/EBITDA':'EV/EBITDA Percentile',\n",
    "            'EV/GP':'EV/GP Percentile'\n",
    "}\n",
    "\n",
    "for row in rv_dataframe.index:\n",
    "    for metric in metrics.keys():\n",
    "        rv_dataframe.loc[row, metrics[metric]] = stats.percentileofscore(rv_dataframe[metric], rv_dataframe.loc[row, metric])/100\n",
    "\n",
    "# Print each percentile score to make sure it was calculated properly\n",
    "for metric in metrics.values():\n",
    "    print(rv_dataframe[metric])\n",
    "\n",
    "#Print the entire DataFrame    \n",
    "rv_dataframe"
   ]
  },
  {
   "cell_type": "markdown",
   "metadata": {},
   "source": [
    "## Calculating the RV Score\n",
    "We'll now calculate our RV Score (which stands for Robust Value), which is the value score that we'll use to filter for stocks in this investing strategy.\n",
    "\n",
    "The RV Score will be the arithmetic mean of the 4 percentile scores that we calculated in the last section.\n",
    "\n",
    "To calculate arithmetic mean, we will use the mean function from Python's built-in statistics module."
   ]
  },
  {
   "cell_type": "code",
   "execution_count": 34,
   "metadata": {},
   "outputs": [
    {
     "output_type": "execute_result",
     "data": {
      "text/plain": [
       "    Ticker   Price Number of Shares to Buy  Price-to-Earnings Ratio  \\\n",
       "0        A  119.97                     N/A                    54.18   \n",
       "1      AAL   15.86                     N/A                    -1.17   \n",
       "2      AAP  160.62                     N/A                    23.54   \n",
       "3     AAPL  138.65                     N/A                    42.10   \n",
       "4     ABBV  108.83                     N/A                    24.40   \n",
       "..     ...     ...                     ...                      ...   \n",
       "500    YUM  111.92                     N/A                    33.90   \n",
       "501    ZBH  158.70                     N/A                  -209.67   \n",
       "502   ZBRA  391.24                     N/A                    44.59   \n",
       "503   ZION   44.24                     N/A                    18.51   \n",
       "504    ZTS  166.50                     N/A                    49.18   \n",
       "\n",
       "    PE Percentile  Price-to-Book Ratio PB Percentile  Price-to-Sales Ratio  \\\n",
       "0        0.859406                 7.60      0.730693                 7.160   \n",
       "1        0.140594                -1.74     0.0455446                 0.388   \n",
       "2        0.451485                 2.96      0.415842                 1.130   \n",
       "3        0.754455                36.08      0.964356                 8.510   \n",
       "4        0.463366                12.59      0.849505                 4.790   \n",
       "..            ...                  ...           ...                   ...   \n",
       "500      0.665347                -4.13     0.0415842                 5.990   \n",
       "501      0.019802                 2.82      0.388119                 4.710   \n",
       "502      0.774257                10.67      0.821782                 4.760   \n",
       "503      0.362376                 1.00     0.0980198                 2.450   \n",
       "504      0.825743                27.67      0.946535                12.640   \n",
       "\n",
       "    PS Percentile  EV/EBITDA EV/EBITDA Percentile      EV/GP EV/GP Percentile  \\\n",
       "0         0.80198  33.089033             0.843564  13.026655         0.794059   \n",
       "1       0.0277228  -6.184268            0.0277228   1.431727        0.0613861   \n",
       "2        0.165347  11.287689             0.281188   2.471893         0.124752   \n",
       "3        0.849505  29.289193             0.809901  21.018637         0.938614   \n",
       "4        0.685149  16.400071              0.50297   9.726260         0.655446   \n",
       "..            ...        ...                  ...        ...              ...   \n",
       "500      0.752475  24.434218             0.744554  10.831442          0.70099   \n",
       "501      0.675248  26.235121             0.772277   7.718650         0.489109   \n",
       "502      0.681188  30.892685             0.829703  11.478661         0.720792   \n",
       "503       0.40297  10.943340             0.255446   2.768656         0.144554   \n",
       "504      0.934653  36.046680             0.855446  19.529853         0.926733   \n",
       "\n",
       "      RV Score  \n",
       "0     0.805941  \n",
       "1    0.0605941  \n",
       "2     0.287723  \n",
       "3     0.863366  \n",
       "4     0.631287  \n",
       "..         ...  \n",
       "500    0.58099  \n",
       "501   0.468911  \n",
       "502   0.765545  \n",
       "503   0.252673  \n",
       "504   0.897822  \n",
       "\n",
       "[505 rows x 14 columns]"
      ],
      "text/html": "<div>\n<style scoped>\n    .dataframe tbody tr th:only-of-type {\n        vertical-align: middle;\n    }\n\n    .dataframe tbody tr th {\n        vertical-align: top;\n    }\n\n    .dataframe thead th {\n        text-align: right;\n    }\n</style>\n<table border=\"1\" class=\"dataframe\">\n  <thead>\n    <tr style=\"text-align: right;\">\n      <th></th>\n      <th>Ticker</th>\n      <th>Price</th>\n      <th>Number of Shares to Buy</th>\n      <th>Price-to-Earnings Ratio</th>\n      <th>PE Percentile</th>\n      <th>Price-to-Book Ratio</th>\n      <th>PB Percentile</th>\n      <th>Price-to-Sales Ratio</th>\n      <th>PS Percentile</th>\n      <th>EV/EBITDA</th>\n      <th>EV/EBITDA Percentile</th>\n      <th>EV/GP</th>\n      <th>EV/GP Percentile</th>\n      <th>RV Score</th>\n    </tr>\n  </thead>\n  <tbody>\n    <tr>\n      <th>0</th>\n      <td>A</td>\n      <td>119.97</td>\n      <td>N/A</td>\n      <td>54.18</td>\n      <td>0.859406</td>\n      <td>7.60</td>\n      <td>0.730693</td>\n      <td>7.160</td>\n      <td>0.80198</td>\n      <td>33.089033</td>\n      <td>0.843564</td>\n      <td>13.026655</td>\n      <td>0.794059</td>\n      <td>0.805941</td>\n    </tr>\n    <tr>\n      <th>1</th>\n      <td>AAL</td>\n      <td>15.86</td>\n      <td>N/A</td>\n      <td>-1.17</td>\n      <td>0.140594</td>\n      <td>-1.74</td>\n      <td>0.0455446</td>\n      <td>0.388</td>\n      <td>0.0277228</td>\n      <td>-6.184268</td>\n      <td>0.0277228</td>\n      <td>1.431727</td>\n      <td>0.0613861</td>\n      <td>0.0605941</td>\n    </tr>\n    <tr>\n      <th>2</th>\n      <td>AAP</td>\n      <td>160.62</td>\n      <td>N/A</td>\n      <td>23.54</td>\n      <td>0.451485</td>\n      <td>2.96</td>\n      <td>0.415842</td>\n      <td>1.130</td>\n      <td>0.165347</td>\n      <td>11.287689</td>\n      <td>0.281188</td>\n      <td>2.471893</td>\n      <td>0.124752</td>\n      <td>0.287723</td>\n    </tr>\n    <tr>\n      <th>3</th>\n      <td>AAPL</td>\n      <td>138.65</td>\n      <td>N/A</td>\n      <td>42.10</td>\n      <td>0.754455</td>\n      <td>36.08</td>\n      <td>0.964356</td>\n      <td>8.510</td>\n      <td>0.849505</td>\n      <td>29.289193</td>\n      <td>0.809901</td>\n      <td>21.018637</td>\n      <td>0.938614</td>\n      <td>0.863366</td>\n    </tr>\n    <tr>\n      <th>4</th>\n      <td>ABBV</td>\n      <td>108.83</td>\n      <td>N/A</td>\n      <td>24.40</td>\n      <td>0.463366</td>\n      <td>12.59</td>\n      <td>0.849505</td>\n      <td>4.790</td>\n      <td>0.685149</td>\n      <td>16.400071</td>\n      <td>0.50297</td>\n      <td>9.726260</td>\n      <td>0.655446</td>\n      <td>0.631287</td>\n    </tr>\n    <tr>\n      <th>...</th>\n      <td>...</td>\n      <td>...</td>\n      <td>...</td>\n      <td>...</td>\n      <td>...</td>\n      <td>...</td>\n      <td>...</td>\n      <td>...</td>\n      <td>...</td>\n      <td>...</td>\n      <td>...</td>\n      <td>...</td>\n      <td>...</td>\n      <td>...</td>\n    </tr>\n    <tr>\n      <th>500</th>\n      <td>YUM</td>\n      <td>111.92</td>\n      <td>N/A</td>\n      <td>33.90</td>\n      <td>0.665347</td>\n      <td>-4.13</td>\n      <td>0.0415842</td>\n      <td>5.990</td>\n      <td>0.752475</td>\n      <td>24.434218</td>\n      <td>0.744554</td>\n      <td>10.831442</td>\n      <td>0.70099</td>\n      <td>0.58099</td>\n    </tr>\n    <tr>\n      <th>501</th>\n      <td>ZBH</td>\n      <td>158.70</td>\n      <td>N/A</td>\n      <td>-209.67</td>\n      <td>0.019802</td>\n      <td>2.82</td>\n      <td>0.388119</td>\n      <td>4.710</td>\n      <td>0.675248</td>\n      <td>26.235121</td>\n      <td>0.772277</td>\n      <td>7.718650</td>\n      <td>0.489109</td>\n      <td>0.468911</td>\n    </tr>\n    <tr>\n      <th>502</th>\n      <td>ZBRA</td>\n      <td>391.24</td>\n      <td>N/A</td>\n      <td>44.59</td>\n      <td>0.774257</td>\n      <td>10.67</td>\n      <td>0.821782</td>\n      <td>4.760</td>\n      <td>0.681188</td>\n      <td>30.892685</td>\n      <td>0.829703</td>\n      <td>11.478661</td>\n      <td>0.720792</td>\n      <td>0.765545</td>\n    </tr>\n    <tr>\n      <th>503</th>\n      <td>ZION</td>\n      <td>44.24</td>\n      <td>N/A</td>\n      <td>18.51</td>\n      <td>0.362376</td>\n      <td>1.00</td>\n      <td>0.0980198</td>\n      <td>2.450</td>\n      <td>0.40297</td>\n      <td>10.943340</td>\n      <td>0.255446</td>\n      <td>2.768656</td>\n      <td>0.144554</td>\n      <td>0.252673</td>\n    </tr>\n    <tr>\n      <th>504</th>\n      <td>ZTS</td>\n      <td>166.50</td>\n      <td>N/A</td>\n      <td>49.18</td>\n      <td>0.825743</td>\n      <td>27.67</td>\n      <td>0.946535</td>\n      <td>12.640</td>\n      <td>0.934653</td>\n      <td>36.046680</td>\n      <td>0.855446</td>\n      <td>19.529853</td>\n      <td>0.926733</td>\n      <td>0.897822</td>\n    </tr>\n  </tbody>\n</table>\n<p>505 rows × 14 columns</p>\n</div>"
     },
     "metadata": {},
     "execution_count": 34
    }
   ],
   "source": [
    "from statistics import mean\n",
    "\n",
    "for row in rv_dataframe.index:\n",
    "    value_percentiles = []\n",
    "    for metric in metrics.keys():\n",
    "        value_percentiles.append(rv_dataframe.loc[row, metrics[metric]])\n",
    "    rv_dataframe.loc[row, 'RV Score'] = mean(value_percentiles)\n",
    "    \n",
    "rv_dataframe"
   ]
  },
  {
   "cell_type": "markdown",
   "metadata": {},
   "source": [
    "## Selecting the 50 Best Value Stocks¶\n",
    "\n",
    "As before, we can identify the 50 best value stocks in our universe by sorting the DataFrame on the RV Score column and dropping all but the top 50 entries."
   ]
  },
  {
   "cell_type": "code",
   "execution_count": 35,
   "metadata": {},
   "outputs": [],
   "source": [
    "rv_dataframe.sort_values(by = 'RV Score', inplace = True)\n",
    "rv_dataframe = rv_dataframe[:50]\n",
    "rv_dataframe.reset_index(drop = True, inplace = True)"
   ]
  },
  {
   "cell_type": "markdown",
   "metadata": {},
   "source": [
    "## Calculating the Number of Shares to Buy\n",
    "We'll use the `portfolio_input` function that we created earlier to accept our portfolio size. Then we will use similar logic in a for loop to calculate the number of shares to buy for each stock in our investment universe."
   ]
  },
  {
   "cell_type": "code",
   "execution_count": 36,
   "metadata": {},
   "outputs": [],
   "source": [
    "portfolio_input()"
   ]
  },
  {
   "cell_type": "code",
   "execution_count": 37,
   "metadata": {},
   "outputs": [
    {
     "output_type": "execute_result",
     "data": {
      "text/plain": [
       "   Ticker   Price Number of Shares to Buy  Price-to-Earnings Ratio  \\\n",
       "0     UNM   23.47                     852                     5.12   \n",
       "1     AIG   39.74                     503                    -6.94   \n",
       "2     AAL   15.86                    1261                    -1.17   \n",
       "3     HFC   26.48                     755                   -27.20   \n",
       "4     MET   47.27                     423                     8.10   \n",
       "5       F    9.16                    2183                   -17.08   \n",
       "6     HIG   50.14                     398                    10.37   \n",
       "7     ALL  110.96                     180                     8.00   \n",
       "8      BA  224.13                      89                   -27.37   \n",
       "9     KSS   41.43                     482                   -61.20   \n",
       "10    LNC   51.40                     389                    13.11   \n",
       "11    CVS   69.90                     286                    11.34   \n",
       "12    PFG   51.90                     385                    11.53   \n",
       "13     LB   37.34                     535                   -50.03   \n",
       "14      L   47.02                     425                   -11.80   \n",
       "15    APA   14.33                    1395                    -0.70   \n",
       "16    MRO    6.77                    2954                    -8.33   \n",
       "17    TAP   46.34                     431                   -62.63   \n",
       "18   VIAC   38.77                     515                    11.60   \n",
       "19    HPQ   25.64                     780                    14.28   \n",
       "20     KR   32.69                     611                     8.59   \n",
       "21    DXC   26.59                     752                    -1.69   \n",
       "22      C   63.70                     313                    12.14   \n",
       "23    VLO   57.67                     346                 -2154.24   \n",
       "24    PRU   81.33                     245                  -190.67   \n",
       "25    GPS   20.93                     955                    -7.04   \n",
       "26    OXY   17.66                    1132                    -1.00   \n",
       "27    AFL   45.58                     438                    11.58   \n",
       "28    HRB   15.88                    1259                    15.70   \n",
       "29    AIZ  142.95                     139                    21.08   \n",
       "30    TRV  145.93                     137                    16.00   \n",
       "31    HCA  170.50                     117                    17.40   \n",
       "32   NWSA   18.25                    1095                   -10.74   \n",
       "33     GM   42.35                     472                    19.70   \n",
       "34    WRK   45.26                     441                   -16.80   \n",
       "35     BK   43.20                     462                     9.41   \n",
       "36    EOG   51.15                     391                   -94.87   \n",
       "37    AIV    5.31                    3766                     5.13   \n",
       "38    CVX   85.33                     234                   -18.40   \n",
       "39    UHS  141.30                     141                    13.55   \n",
       "40    DVN   16.36                    1222                    -1.87   \n",
       "41   FANG   50.30                     397                    -2.88   \n",
       "42    CNC   60.98                     327                    16.35   \n",
       "43   COTY    7.36                    2717                    -6.70   \n",
       "44    CCL   21.74                     919                    -2.10   \n",
       "45    IVZ   17.87                    1119                    16.31   \n",
       "46    STT   73.03                     273                    12.14   \n",
       "47   PBCT   13.41                    1491                    11.51   \n",
       "48    TSN   67.13                     297                    11.00   \n",
       "49    NWL   22.20                     N/A                   -90.30   \n",
       "\n",
       "   PE Percentile  Price-to-Book Ratio PB Percentile  Price-to-Sales Ratio  \\\n",
       "0       0.156436               0.4364      0.049505                0.3918   \n",
       "1        0.10495               0.5159     0.0574257                0.7469   \n",
       "2       0.140594              -1.7400     0.0455446                0.3880   \n",
       "3      0.0673267               0.8124     0.0792079                0.3015   \n",
       "4       0.168317               0.6037     0.0613861                0.6460   \n",
       "5      0.0811881               1.1400      0.126733                0.2694   \n",
       "6       0.194059               1.0000     0.0980198                0.8585   \n",
       "7       0.166337               1.3400      0.166337                0.7614   \n",
       "8      0.0653465             -10.3700     0.0316832                2.0800   \n",
       "9      0.0475248               1.3500      0.171287                0.3860   \n",
       "10      0.228713               0.4553     0.0514851                0.5629   \n",
       "11       0.20396               1.3000      0.160396                0.3400   \n",
       "12      0.209901               0.9127     0.0851485                0.9334   \n",
       "13     0.0534653              -6.9000     0.0376238                0.9059   \n",
       "14     0.0910891               0.7300     0.0653465                0.9174   \n",
       "15      0.148515              -3.3600     0.0435644                1.0200   \n",
       "16           0.1               0.4858     0.0534653                1.3600   \n",
       "17     0.0435644               0.7396     0.0693069                0.9633   \n",
       "18      0.213861               1.6500      0.230693                0.6673   \n",
       "19      0.255446             -16.6300     0.0237624                0.5671   \n",
       "20      0.174257               2.5000      0.361386                0.1851   \n",
       "21      0.136634               1.5400      0.207921                0.3543   \n",
       "22      0.220792               0.7604     0.0732673                1.3500   \n",
       "23     0.0019802               1.2000      0.136634                0.3096   \n",
       "24     0.0217822               0.4888     0.0554455                0.5347   \n",
       "25       0.10297               3.2200      0.445545                0.5384   \n",
       "26      0.144554               1.7000      0.246535                0.8303   \n",
       "27      0.211881               1.0800      0.117822                1.4500   \n",
       "28       0.29505             -10.6800      0.029703                0.9759   \n",
       "29      0.413861               1.3500      0.171287                0.8150   \n",
       "30       0.30495               1.3400      0.166337                1.1500   \n",
       "31      0.335644             -32.3800     0.0118812                1.1400   \n",
       "32     0.0970297               1.4100      0.186139                1.2000   \n",
       "33      0.388119               1.4300      0.192079                0.5280   \n",
       "34     0.0831683               1.1300      0.123762                0.6576   \n",
       "35      0.182178               0.9400     0.0871287                2.0100   \n",
       "36     0.0316832               1.4900       0.19901                2.4500   \n",
       "37      0.158416               0.4018     0.0475248                0.9328   \n",
       "38     0.0752475               1.2300      0.143564                1.4300   \n",
       "39      0.241584               2.0300      0.293069                1.0700   \n",
       "40      0.134653               2.0000      0.287129                1.3900   \n",
       "41      0.121782               0.7296     0.0633663                2.3600   \n",
       "42      0.310891               1.3900      0.179208                0.3458   \n",
       "43      0.108911               1.3400      0.166337                1.4500   \n",
       "44      0.130693               1.2500      0.148515                2.3200   \n",
       "45      0.308911               0.5810     0.0594059                1.3300   \n",
       "46      0.220792               1.1500      0.128713                2.1200   \n",
       "47      0.207921               0.7370     0.0673267                2.3900   \n",
       "48           0.2               1.5200      0.205941                0.5588   \n",
       "49     0.0336634               2.4300      0.344554                0.8954   \n",
       "\n",
       "   PS Percentile  EV/EBITDA EV/EBITDA Percentile       EV/GP EV/GP Percentile  \\\n",
       "0       0.029703   2.610494            0.0336634    0.386009        0.0039604   \n",
       "1      0.0653465   4.278409            0.0376238    0.712462        0.0138614   \n",
       "2      0.0277228  -6.184268            0.0277228    1.431727        0.0613861   \n",
       "3      0.0138614   6.225501            0.0653465    2.153933         0.110891   \n",
       "4      0.0554455   4.458363            0.0415842    0.651160        0.0118812   \n",
       "5      0.0118812   4.648893            0.0435644    2.074420          0.10297   \n",
       "6      0.0910891   4.351823             0.039604    0.846171        0.0217822   \n",
       "7      0.0693069   2.516215            0.0316832    0.725711        0.0158416   \n",
       "8       0.353465 -29.125299            0.0138614 -205.818396        0.0019802   \n",
       "9      0.0257426   9.684562             0.194059    1.431336        0.0594059   \n",
       "10     0.0455446   9.449587             0.180198    0.539802       0.00990099   \n",
       "11      0.019802   7.579998              0.10099    1.393221        0.0534653   \n",
       "12      0.110891   7.820335             0.108911    0.921927        0.0277228   \n",
       "13       0.10297   8.604673             0.140594    3.537255         0.209901   \n",
       "14       0.10495  11.099501             0.261386    0.865255        0.0237624   \n",
       "15      0.139604   7.498582            0.0950495    2.679048         0.138614   \n",
       "16      0.213861   4.805266            0.0475248    3.058591         0.174257   \n",
       "17      0.116832   7.689127              0.10495    4.492406         0.263366   \n",
       "18     0.0594059   6.065744            0.0613861    1.093244        0.0336634   \n",
       "19     0.0475248   7.963142             0.114851    3.134941         0.180198   \n",
       "20    0.00792079   5.708637            0.0514851    1.149522        0.0376238   \n",
       "21     0.0237624   6.754862            0.0732673    3.344848         0.192079   \n",
       "22      0.210891   7.029170            0.0811881    1.673150        0.0772277   \n",
       "23     0.0158416  11.247792             0.275248    4.062280         0.239604   \n",
       "24      0.039604  17.971434             0.548515    0.514678       0.00594059   \n",
       "25     0.0415842  -9.863482            0.0257426    1.505675        0.0633663   \n",
       "26     0.0811881   5.919363            0.0554455    2.829009         0.152475   \n",
       "27      0.237624   6.019520            0.0594059    1.397314        0.0554455   \n",
       "28      0.118812   5.937229            0.0574257    3.285842         0.186139   \n",
       "29     0.0792079   1.863901             0.029703    0.785247        0.0178218   \n",
       "30      0.172277   4.682410            0.0455446    1.130071        0.0356436   \n",
       "31      0.169307   8.919148             0.154455    1.645842        0.0693069   \n",
       "32      0.181188  10.571221             0.235644    1.203764        0.0475248   \n",
       "33     0.0376238   3.779605            0.0356436    2.192662         0.112871   \n",
       "34     0.0574257   7.988552             0.116832    6.523865         0.394059   \n",
       "35      0.340594   6.953371            0.0792079    2.043603        0.0990099   \n",
       "36       0.40297   5.682809             0.049505    2.578322         0.134653   \n",
       "37      0.108911   9.451945             0.182178    5.528389         0.336634   \n",
       "38      0.229703   9.434998             0.178218    3.690488         0.215842   \n",
       "39      0.153465   7.841786             0.112871    1.253956         0.049505   \n",
       "40      0.218812   8.074881             0.122772    1.940650        0.0910891   \n",
       "41      0.389109   5.827774            0.0534653    3.968960         0.233663   \n",
       "42     0.0217822  12.866752             0.350495    0.521455       0.00792079   \n",
       "43      0.237624 -28.619711            0.0158416    5.881225         0.366337   \n",
       "44      0.381188 -17.178683            0.0178218    3.762392         0.219802   \n",
       "45      0.206931   9.845043              0.20396    2.497943         0.126733   \n",
       "46      0.360396   7.835397             0.110891    2.046897          0.10099   \n",
       "47      0.394059   8.166960             0.124752    2.518889         0.128713   \n",
       "48     0.0435644   7.514961            0.0970297    6.271767         0.378218   \n",
       "49     0.0990099   9.988575             0.207921    4.191888         0.245545   \n",
       "\n",
       "     RV Score  \n",
       "0   0.0546535  \n",
       "1   0.0558416  \n",
       "2   0.0605941  \n",
       "3   0.0673267  \n",
       "4   0.0677228  \n",
       "5   0.0732673  \n",
       "6   0.0889109  \n",
       "7    0.089901  \n",
       "8   0.0932673  \n",
       "9    0.099604  \n",
       "10   0.103168  \n",
       "11   0.107723  \n",
       "12   0.108515  \n",
       "13   0.108911  \n",
       "14   0.109307  \n",
       "15   0.113069  \n",
       "16   0.117822  \n",
       "17   0.119604  \n",
       "18   0.119802  \n",
       "19   0.124356  \n",
       "20   0.126535  \n",
       "21   0.126733  \n",
       "22   0.132673  \n",
       "23   0.133861  \n",
       "24   0.134257  \n",
       "25   0.135842  \n",
       "26    0.13604  \n",
       "27   0.136436  \n",
       "28   0.137426  \n",
       "29   0.142376  \n",
       "30    0.14495  \n",
       "31   0.148119  \n",
       "32   0.149505  \n",
       "33   0.153267  \n",
       "34    0.15505  \n",
       "35   0.157624  \n",
       "36   0.163564  \n",
       "37   0.166733  \n",
       "38   0.168515  \n",
       "39   0.170099  \n",
       "40   0.170891  \n",
       "41   0.172277  \n",
       "42   0.174059  \n",
       "43    0.17901  \n",
       "44   0.179604  \n",
       "45   0.181188  \n",
       "46   0.184356  \n",
       "47   0.184554  \n",
       "48    0.18495  \n",
       "49   0.186139  "
      ],
      "text/html": "<div>\n<style scoped>\n    .dataframe tbody tr th:only-of-type {\n        vertical-align: middle;\n    }\n\n    .dataframe tbody tr th {\n        vertical-align: top;\n    }\n\n    .dataframe thead th {\n        text-align: right;\n    }\n</style>\n<table border=\"1\" class=\"dataframe\">\n  <thead>\n    <tr style=\"text-align: right;\">\n      <th></th>\n      <th>Ticker</th>\n      <th>Price</th>\n      <th>Number of Shares to Buy</th>\n      <th>Price-to-Earnings Ratio</th>\n      <th>PE Percentile</th>\n      <th>Price-to-Book Ratio</th>\n      <th>PB Percentile</th>\n      <th>Price-to-Sales Ratio</th>\n      <th>PS Percentile</th>\n      <th>EV/EBITDA</th>\n      <th>EV/EBITDA Percentile</th>\n      <th>EV/GP</th>\n      <th>EV/GP Percentile</th>\n      <th>RV Score</th>\n    </tr>\n  </thead>\n  <tbody>\n    <tr>\n      <th>0</th>\n      <td>UNM</td>\n      <td>23.47</td>\n      <td>852</td>\n      <td>5.12</td>\n      <td>0.156436</td>\n      <td>0.4364</td>\n      <td>0.049505</td>\n      <td>0.3918</td>\n      <td>0.029703</td>\n      <td>2.610494</td>\n      <td>0.0336634</td>\n      <td>0.386009</td>\n      <td>0.0039604</td>\n      <td>0.0546535</td>\n    </tr>\n    <tr>\n      <th>1</th>\n      <td>AIG</td>\n      <td>39.74</td>\n      <td>503</td>\n      <td>-6.94</td>\n      <td>0.10495</td>\n      <td>0.5159</td>\n      <td>0.0574257</td>\n      <td>0.7469</td>\n      <td>0.0653465</td>\n      <td>4.278409</td>\n      <td>0.0376238</td>\n      <td>0.712462</td>\n      <td>0.0138614</td>\n      <td>0.0558416</td>\n    </tr>\n    <tr>\n      <th>2</th>\n      <td>AAL</td>\n      <td>15.86</td>\n      <td>1261</td>\n      <td>-1.17</td>\n      <td>0.140594</td>\n      <td>-1.7400</td>\n      <td>0.0455446</td>\n      <td>0.3880</td>\n      <td>0.0277228</td>\n      <td>-6.184268</td>\n      <td>0.0277228</td>\n      <td>1.431727</td>\n      <td>0.0613861</td>\n      <td>0.0605941</td>\n    </tr>\n    <tr>\n      <th>3</th>\n      <td>HFC</td>\n      <td>26.48</td>\n      <td>755</td>\n      <td>-27.20</td>\n      <td>0.0673267</td>\n      <td>0.8124</td>\n      <td>0.0792079</td>\n      <td>0.3015</td>\n      <td>0.0138614</td>\n      <td>6.225501</td>\n      <td>0.0653465</td>\n      <td>2.153933</td>\n      <td>0.110891</td>\n      <td>0.0673267</td>\n    </tr>\n    <tr>\n      <th>4</th>\n      <td>MET</td>\n      <td>47.27</td>\n      <td>423</td>\n      <td>8.10</td>\n      <td>0.168317</td>\n      <td>0.6037</td>\n      <td>0.0613861</td>\n      <td>0.6460</td>\n      <td>0.0554455</td>\n      <td>4.458363</td>\n      <td>0.0415842</td>\n      <td>0.651160</td>\n      <td>0.0118812</td>\n      <td>0.0677228</td>\n    </tr>\n    <tr>\n      <th>5</th>\n      <td>F</td>\n      <td>9.16</td>\n      <td>2183</td>\n      <td>-17.08</td>\n      <td>0.0811881</td>\n      <td>1.1400</td>\n      <td>0.126733</td>\n      <td>0.2694</td>\n      <td>0.0118812</td>\n      <td>4.648893</td>\n      <td>0.0435644</td>\n      <td>2.074420</td>\n      <td>0.10297</td>\n      <td>0.0732673</td>\n    </tr>\n    <tr>\n      <th>6</th>\n      <td>HIG</td>\n      <td>50.14</td>\n      <td>398</td>\n      <td>10.37</td>\n      <td>0.194059</td>\n      <td>1.0000</td>\n      <td>0.0980198</td>\n      <td>0.8585</td>\n      <td>0.0910891</td>\n      <td>4.351823</td>\n      <td>0.039604</td>\n      <td>0.846171</td>\n      <td>0.0217822</td>\n      <td>0.0889109</td>\n    </tr>\n    <tr>\n      <th>7</th>\n      <td>ALL</td>\n      <td>110.96</td>\n      <td>180</td>\n      <td>8.00</td>\n      <td>0.166337</td>\n      <td>1.3400</td>\n      <td>0.166337</td>\n      <td>0.7614</td>\n      <td>0.0693069</td>\n      <td>2.516215</td>\n      <td>0.0316832</td>\n      <td>0.725711</td>\n      <td>0.0158416</td>\n      <td>0.089901</td>\n    </tr>\n    <tr>\n      <th>8</th>\n      <td>BA</td>\n      <td>224.13</td>\n      <td>89</td>\n      <td>-27.37</td>\n      <td>0.0653465</td>\n      <td>-10.3700</td>\n      <td>0.0316832</td>\n      <td>2.0800</td>\n      <td>0.353465</td>\n      <td>-29.125299</td>\n      <td>0.0138614</td>\n      <td>-205.818396</td>\n      <td>0.0019802</td>\n      <td>0.0932673</td>\n    </tr>\n    <tr>\n      <th>9</th>\n      <td>KSS</td>\n      <td>41.43</td>\n      <td>482</td>\n      <td>-61.20</td>\n      <td>0.0475248</td>\n      <td>1.3500</td>\n      <td>0.171287</td>\n      <td>0.3860</td>\n      <td>0.0257426</td>\n      <td>9.684562</td>\n      <td>0.194059</td>\n      <td>1.431336</td>\n      <td>0.0594059</td>\n      <td>0.099604</td>\n    </tr>\n    <tr>\n      <th>10</th>\n      <td>LNC</td>\n      <td>51.40</td>\n      <td>389</td>\n      <td>13.11</td>\n      <td>0.228713</td>\n      <td>0.4553</td>\n      <td>0.0514851</td>\n      <td>0.5629</td>\n      <td>0.0455446</td>\n      <td>9.449587</td>\n      <td>0.180198</td>\n      <td>0.539802</td>\n      <td>0.00990099</td>\n      <td>0.103168</td>\n    </tr>\n    <tr>\n      <th>11</th>\n      <td>CVS</td>\n      <td>69.90</td>\n      <td>286</td>\n      <td>11.34</td>\n      <td>0.20396</td>\n      <td>1.3000</td>\n      <td>0.160396</td>\n      <td>0.3400</td>\n      <td>0.019802</td>\n      <td>7.579998</td>\n      <td>0.10099</td>\n      <td>1.393221</td>\n      <td>0.0534653</td>\n      <td>0.107723</td>\n    </tr>\n    <tr>\n      <th>12</th>\n      <td>PFG</td>\n      <td>51.90</td>\n      <td>385</td>\n      <td>11.53</td>\n      <td>0.209901</td>\n      <td>0.9127</td>\n      <td>0.0851485</td>\n      <td>0.9334</td>\n      <td>0.110891</td>\n      <td>7.820335</td>\n      <td>0.108911</td>\n      <td>0.921927</td>\n      <td>0.0277228</td>\n      <td>0.108515</td>\n    </tr>\n    <tr>\n      <th>13</th>\n      <td>LB</td>\n      <td>37.34</td>\n      <td>535</td>\n      <td>-50.03</td>\n      <td>0.0534653</td>\n      <td>-6.9000</td>\n      <td>0.0376238</td>\n      <td>0.9059</td>\n      <td>0.10297</td>\n      <td>8.604673</td>\n      <td>0.140594</td>\n      <td>3.537255</td>\n      <td>0.209901</td>\n      <td>0.108911</td>\n    </tr>\n    <tr>\n      <th>14</th>\n      <td>L</td>\n      <td>47.02</td>\n      <td>425</td>\n      <td>-11.80</td>\n      <td>0.0910891</td>\n      <td>0.7300</td>\n      <td>0.0653465</td>\n      <td>0.9174</td>\n      <td>0.10495</td>\n      <td>11.099501</td>\n      <td>0.261386</td>\n      <td>0.865255</td>\n      <td>0.0237624</td>\n      <td>0.109307</td>\n    </tr>\n    <tr>\n      <th>15</th>\n      <td>APA</td>\n      <td>14.33</td>\n      <td>1395</td>\n      <td>-0.70</td>\n      <td>0.148515</td>\n      <td>-3.3600</td>\n      <td>0.0435644</td>\n      <td>1.0200</td>\n      <td>0.139604</td>\n      <td>7.498582</td>\n      <td>0.0950495</td>\n      <td>2.679048</td>\n      <td>0.138614</td>\n      <td>0.113069</td>\n    </tr>\n    <tr>\n      <th>16</th>\n      <td>MRO</td>\n      <td>6.77</td>\n      <td>2954</td>\n      <td>-8.33</td>\n      <td>0.1</td>\n      <td>0.4858</td>\n      <td>0.0534653</td>\n      <td>1.3600</td>\n      <td>0.213861</td>\n      <td>4.805266</td>\n      <td>0.0475248</td>\n      <td>3.058591</td>\n      <td>0.174257</td>\n      <td>0.117822</td>\n    </tr>\n    <tr>\n      <th>17</th>\n      <td>TAP</td>\n      <td>46.34</td>\n      <td>431</td>\n      <td>-62.63</td>\n      <td>0.0435644</td>\n      <td>0.7396</td>\n      <td>0.0693069</td>\n      <td>0.9633</td>\n      <td>0.116832</td>\n      <td>7.689127</td>\n      <td>0.10495</td>\n      <td>4.492406</td>\n      <td>0.263366</td>\n      <td>0.119604</td>\n    </tr>\n    <tr>\n      <th>18</th>\n      <td>VIAC</td>\n      <td>38.77</td>\n      <td>515</td>\n      <td>11.60</td>\n      <td>0.213861</td>\n      <td>1.6500</td>\n      <td>0.230693</td>\n      <td>0.6673</td>\n      <td>0.0594059</td>\n      <td>6.065744</td>\n      <td>0.0613861</td>\n      <td>1.093244</td>\n      <td>0.0336634</td>\n      <td>0.119802</td>\n    </tr>\n    <tr>\n      <th>19</th>\n      <td>HPQ</td>\n      <td>25.64</td>\n      <td>780</td>\n      <td>14.28</td>\n      <td>0.255446</td>\n      <td>-16.6300</td>\n      <td>0.0237624</td>\n      <td>0.5671</td>\n      <td>0.0475248</td>\n      <td>7.963142</td>\n      <td>0.114851</td>\n      <td>3.134941</td>\n      <td>0.180198</td>\n      <td>0.124356</td>\n    </tr>\n    <tr>\n      <th>20</th>\n      <td>KR</td>\n      <td>32.69</td>\n      <td>611</td>\n      <td>8.59</td>\n      <td>0.174257</td>\n      <td>2.5000</td>\n      <td>0.361386</td>\n      <td>0.1851</td>\n      <td>0.00792079</td>\n      <td>5.708637</td>\n      <td>0.0514851</td>\n      <td>1.149522</td>\n      <td>0.0376238</td>\n      <td>0.126535</td>\n    </tr>\n    <tr>\n      <th>21</th>\n      <td>DXC</td>\n      <td>26.59</td>\n      <td>752</td>\n      <td>-1.69</td>\n      <td>0.136634</td>\n      <td>1.5400</td>\n      <td>0.207921</td>\n      <td>0.3543</td>\n      <td>0.0237624</td>\n      <td>6.754862</td>\n      <td>0.0732673</td>\n      <td>3.344848</td>\n      <td>0.192079</td>\n      <td>0.126733</td>\n    </tr>\n    <tr>\n      <th>22</th>\n      <td>C</td>\n      <td>63.70</td>\n      <td>313</td>\n      <td>12.14</td>\n      <td>0.220792</td>\n      <td>0.7604</td>\n      <td>0.0732673</td>\n      <td>1.3500</td>\n      <td>0.210891</td>\n      <td>7.029170</td>\n      <td>0.0811881</td>\n      <td>1.673150</td>\n      <td>0.0772277</td>\n      <td>0.132673</td>\n    </tr>\n    <tr>\n      <th>23</th>\n      <td>VLO</td>\n      <td>57.67</td>\n      <td>346</td>\n      <td>-2154.24</td>\n      <td>0.0019802</td>\n      <td>1.2000</td>\n      <td>0.136634</td>\n      <td>0.3096</td>\n      <td>0.0158416</td>\n      <td>11.247792</td>\n      <td>0.275248</td>\n      <td>4.062280</td>\n      <td>0.239604</td>\n      <td>0.133861</td>\n    </tr>\n    <tr>\n      <th>24</th>\n      <td>PRU</td>\n      <td>81.33</td>\n      <td>245</td>\n      <td>-190.67</td>\n      <td>0.0217822</td>\n      <td>0.4888</td>\n      <td>0.0554455</td>\n      <td>0.5347</td>\n      <td>0.039604</td>\n      <td>17.971434</td>\n      <td>0.548515</td>\n      <td>0.514678</td>\n      <td>0.00594059</td>\n      <td>0.134257</td>\n    </tr>\n    <tr>\n      <th>25</th>\n      <td>GPS</td>\n      <td>20.93</td>\n      <td>955</td>\n      <td>-7.04</td>\n      <td>0.10297</td>\n      <td>3.2200</td>\n      <td>0.445545</td>\n      <td>0.5384</td>\n      <td>0.0415842</td>\n      <td>-9.863482</td>\n      <td>0.0257426</td>\n      <td>1.505675</td>\n      <td>0.0633663</td>\n      <td>0.135842</td>\n    </tr>\n    <tr>\n      <th>26</th>\n      <td>OXY</td>\n      <td>17.66</td>\n      <td>1132</td>\n      <td>-1.00</td>\n      <td>0.144554</td>\n      <td>1.7000</td>\n      <td>0.246535</td>\n      <td>0.8303</td>\n      <td>0.0811881</td>\n      <td>5.919363</td>\n      <td>0.0554455</td>\n      <td>2.829009</td>\n      <td>0.152475</td>\n      <td>0.13604</td>\n    </tr>\n    <tr>\n      <th>27</th>\n      <td>AFL</td>\n      <td>45.58</td>\n      <td>438</td>\n      <td>11.58</td>\n      <td>0.211881</td>\n      <td>1.0800</td>\n      <td>0.117822</td>\n      <td>1.4500</td>\n      <td>0.237624</td>\n      <td>6.019520</td>\n      <td>0.0594059</td>\n      <td>1.397314</td>\n      <td>0.0554455</td>\n      <td>0.136436</td>\n    </tr>\n    <tr>\n      <th>28</th>\n      <td>HRB</td>\n      <td>15.88</td>\n      <td>1259</td>\n      <td>15.70</td>\n      <td>0.29505</td>\n      <td>-10.6800</td>\n      <td>0.029703</td>\n      <td>0.9759</td>\n      <td>0.118812</td>\n      <td>5.937229</td>\n      <td>0.0574257</td>\n      <td>3.285842</td>\n      <td>0.186139</td>\n      <td>0.137426</td>\n    </tr>\n    <tr>\n      <th>29</th>\n      <td>AIZ</td>\n      <td>142.95</td>\n      <td>139</td>\n      <td>21.08</td>\n      <td>0.413861</td>\n      <td>1.3500</td>\n      <td>0.171287</td>\n      <td>0.8150</td>\n      <td>0.0792079</td>\n      <td>1.863901</td>\n      <td>0.029703</td>\n      <td>0.785247</td>\n      <td>0.0178218</td>\n      <td>0.142376</td>\n    </tr>\n    <tr>\n      <th>30</th>\n      <td>TRV</td>\n      <td>145.93</td>\n      <td>137</td>\n      <td>16.00</td>\n      <td>0.30495</td>\n      <td>1.3400</td>\n      <td>0.166337</td>\n      <td>1.1500</td>\n      <td>0.172277</td>\n      <td>4.682410</td>\n      <td>0.0455446</td>\n      <td>1.130071</td>\n      <td>0.0356436</td>\n      <td>0.14495</td>\n    </tr>\n    <tr>\n      <th>31</th>\n      <td>HCA</td>\n      <td>170.50</td>\n      <td>117</td>\n      <td>17.40</td>\n      <td>0.335644</td>\n      <td>-32.3800</td>\n      <td>0.0118812</td>\n      <td>1.1400</td>\n      <td>0.169307</td>\n      <td>8.919148</td>\n      <td>0.154455</td>\n      <td>1.645842</td>\n      <td>0.0693069</td>\n      <td>0.148119</td>\n    </tr>\n    <tr>\n      <th>32</th>\n      <td>NWSA</td>\n      <td>18.25</td>\n      <td>1095</td>\n      <td>-10.74</td>\n      <td>0.0970297</td>\n      <td>1.4100</td>\n      <td>0.186139</td>\n      <td>1.2000</td>\n      <td>0.181188</td>\n      <td>10.571221</td>\n      <td>0.235644</td>\n      <td>1.203764</td>\n      <td>0.0475248</td>\n      <td>0.149505</td>\n    </tr>\n    <tr>\n      <th>33</th>\n      <td>GM</td>\n      <td>42.35</td>\n      <td>472</td>\n      <td>19.70</td>\n      <td>0.388119</td>\n      <td>1.4300</td>\n      <td>0.192079</td>\n      <td>0.5280</td>\n      <td>0.0376238</td>\n      <td>3.779605</td>\n      <td>0.0356436</td>\n      <td>2.192662</td>\n      <td>0.112871</td>\n      <td>0.153267</td>\n    </tr>\n    <tr>\n      <th>34</th>\n      <td>WRK</td>\n      <td>45.26</td>\n      <td>441</td>\n      <td>-16.80</td>\n      <td>0.0831683</td>\n      <td>1.1300</td>\n      <td>0.123762</td>\n      <td>0.6576</td>\n      <td>0.0574257</td>\n      <td>7.988552</td>\n      <td>0.116832</td>\n      <td>6.523865</td>\n      <td>0.394059</td>\n      <td>0.15505</td>\n    </tr>\n    <tr>\n      <th>35</th>\n      <td>BK</td>\n      <td>43.20</td>\n      <td>462</td>\n      <td>9.41</td>\n      <td>0.182178</td>\n      <td>0.9400</td>\n      <td>0.0871287</td>\n      <td>2.0100</td>\n      <td>0.340594</td>\n      <td>6.953371</td>\n      <td>0.0792079</td>\n      <td>2.043603</td>\n      <td>0.0990099</td>\n      <td>0.157624</td>\n    </tr>\n    <tr>\n      <th>36</th>\n      <td>EOG</td>\n      <td>51.15</td>\n      <td>391</td>\n      <td>-94.87</td>\n      <td>0.0316832</td>\n      <td>1.4900</td>\n      <td>0.19901</td>\n      <td>2.4500</td>\n      <td>0.40297</td>\n      <td>5.682809</td>\n      <td>0.049505</td>\n      <td>2.578322</td>\n      <td>0.134653</td>\n      <td>0.163564</td>\n    </tr>\n    <tr>\n      <th>37</th>\n      <td>AIV</td>\n      <td>5.31</td>\n      <td>3766</td>\n      <td>5.13</td>\n      <td>0.158416</td>\n      <td>0.4018</td>\n      <td>0.0475248</td>\n      <td>0.9328</td>\n      <td>0.108911</td>\n      <td>9.451945</td>\n      <td>0.182178</td>\n      <td>5.528389</td>\n      <td>0.336634</td>\n      <td>0.166733</td>\n    </tr>\n    <tr>\n      <th>38</th>\n      <td>CVX</td>\n      <td>85.33</td>\n      <td>234</td>\n      <td>-18.40</td>\n      <td>0.0752475</td>\n      <td>1.2300</td>\n      <td>0.143564</td>\n      <td>1.4300</td>\n      <td>0.229703</td>\n      <td>9.434998</td>\n      <td>0.178218</td>\n      <td>3.690488</td>\n      <td>0.215842</td>\n      <td>0.168515</td>\n    </tr>\n    <tr>\n      <th>39</th>\n      <td>UHS</td>\n      <td>141.30</td>\n      <td>141</td>\n      <td>13.55</td>\n      <td>0.241584</td>\n      <td>2.0300</td>\n      <td>0.293069</td>\n      <td>1.0700</td>\n      <td>0.153465</td>\n      <td>7.841786</td>\n      <td>0.112871</td>\n      <td>1.253956</td>\n      <td>0.049505</td>\n      <td>0.170099</td>\n    </tr>\n    <tr>\n      <th>40</th>\n      <td>DVN</td>\n      <td>16.36</td>\n      <td>1222</td>\n      <td>-1.87</td>\n      <td>0.134653</td>\n      <td>2.0000</td>\n      <td>0.287129</td>\n      <td>1.3900</td>\n      <td>0.218812</td>\n      <td>8.074881</td>\n      <td>0.122772</td>\n      <td>1.940650</td>\n      <td>0.0910891</td>\n      <td>0.170891</td>\n    </tr>\n    <tr>\n      <th>41</th>\n      <td>FANG</td>\n      <td>50.30</td>\n      <td>397</td>\n      <td>-2.88</td>\n      <td>0.121782</td>\n      <td>0.7296</td>\n      <td>0.0633663</td>\n      <td>2.3600</td>\n      <td>0.389109</td>\n      <td>5.827774</td>\n      <td>0.0534653</td>\n      <td>3.968960</td>\n      <td>0.233663</td>\n      <td>0.172277</td>\n    </tr>\n    <tr>\n      <th>42</th>\n      <td>CNC</td>\n      <td>60.98</td>\n      <td>327</td>\n      <td>16.35</td>\n      <td>0.310891</td>\n      <td>1.3900</td>\n      <td>0.179208</td>\n      <td>0.3458</td>\n      <td>0.0217822</td>\n      <td>12.866752</td>\n      <td>0.350495</td>\n      <td>0.521455</td>\n      <td>0.00792079</td>\n      <td>0.174059</td>\n    </tr>\n    <tr>\n      <th>43</th>\n      <td>COTY</td>\n      <td>7.36</td>\n      <td>2717</td>\n      <td>-6.70</td>\n      <td>0.108911</td>\n      <td>1.3400</td>\n      <td>0.166337</td>\n      <td>1.4500</td>\n      <td>0.237624</td>\n      <td>-28.619711</td>\n      <td>0.0158416</td>\n      <td>5.881225</td>\n      <td>0.366337</td>\n      <td>0.17901</td>\n    </tr>\n    <tr>\n      <th>44</th>\n      <td>CCL</td>\n      <td>21.74</td>\n      <td>919</td>\n      <td>-2.10</td>\n      <td>0.130693</td>\n      <td>1.2500</td>\n      <td>0.148515</td>\n      <td>2.3200</td>\n      <td>0.381188</td>\n      <td>-17.178683</td>\n      <td>0.0178218</td>\n      <td>3.762392</td>\n      <td>0.219802</td>\n      <td>0.179604</td>\n    </tr>\n    <tr>\n      <th>45</th>\n      <td>IVZ</td>\n      <td>17.87</td>\n      <td>1119</td>\n      <td>16.31</td>\n      <td>0.308911</td>\n      <td>0.5810</td>\n      <td>0.0594059</td>\n      <td>1.3300</td>\n      <td>0.206931</td>\n      <td>9.845043</td>\n      <td>0.20396</td>\n      <td>2.497943</td>\n      <td>0.126733</td>\n      <td>0.181188</td>\n    </tr>\n    <tr>\n      <th>46</th>\n      <td>STT</td>\n      <td>73.03</td>\n      <td>273</td>\n      <td>12.14</td>\n      <td>0.220792</td>\n      <td>1.1500</td>\n      <td>0.128713</td>\n      <td>2.1200</td>\n      <td>0.360396</td>\n      <td>7.835397</td>\n      <td>0.110891</td>\n      <td>2.046897</td>\n      <td>0.10099</td>\n      <td>0.184356</td>\n    </tr>\n    <tr>\n      <th>47</th>\n      <td>PBCT</td>\n      <td>13.41</td>\n      <td>1491</td>\n      <td>11.51</td>\n      <td>0.207921</td>\n      <td>0.7370</td>\n      <td>0.0673267</td>\n      <td>2.3900</td>\n      <td>0.394059</td>\n      <td>8.166960</td>\n      <td>0.124752</td>\n      <td>2.518889</td>\n      <td>0.128713</td>\n      <td>0.184554</td>\n    </tr>\n    <tr>\n      <th>48</th>\n      <td>TSN</td>\n      <td>67.13</td>\n      <td>297</td>\n      <td>11.00</td>\n      <td>0.2</td>\n      <td>1.5200</td>\n      <td>0.205941</td>\n      <td>0.5588</td>\n      <td>0.0435644</td>\n      <td>7.514961</td>\n      <td>0.0970297</td>\n      <td>6.271767</td>\n      <td>0.378218</td>\n      <td>0.18495</td>\n    </tr>\n    <tr>\n      <th>49</th>\n      <td>NWL</td>\n      <td>22.20</td>\n      <td>N/A</td>\n      <td>-90.30</td>\n      <td>0.0336634</td>\n      <td>2.4300</td>\n      <td>0.344554</td>\n      <td>0.8954</td>\n      <td>0.0990099</td>\n      <td>9.988575</td>\n      <td>0.207921</td>\n      <td>4.191888</td>\n      <td>0.245545</td>\n      <td>0.186139</td>\n    </tr>\n  </tbody>\n</table>\n</div>"
     },
     "metadata": {},
     "execution_count": 37
    }
   ],
   "source": [
    "position_size = float(portfolio_size) / len(rv_dataframe.index)\n",
    "for i in range(0, len(rv_dataframe['Ticker'])-1):\n",
    "    rv_dataframe.loc[i, 'Number of Shares to Buy'] = math.floor(position_size / rv_dataframe['Price'][i])\n",
    "rv_dataframe"
   ]
  },
  {
   "cell_type": "markdown",
   "metadata": {},
   "source": [
    "## Formatting Our Excel Output\n",
    "\n",
    "We will be using the XlsxWriter library for Python to create nicely-formatted Excel files.\n",
    "\n",
    "XlsxWriter is an excellent package and offers tons of customization. However, the tradeoff for this is that the library can seem very complicated to new users. Accordingly, this section will be fairly long because I want to do a good job of explaining how XlsxWriter works."
   ]
  },
  {
   "cell_type": "code",
   "execution_count": 38,
   "metadata": {},
   "outputs": [],
   "source": [
    "writer = pd.ExcelWriter('value_strategy.xlsx', engine='xlsxwriter')\n",
    "rv_dataframe.to_excel(writer, sheet_name='Value Strategy', index = False)"
   ]
  },
  {
   "cell_type": "markdown",
   "metadata": {},
   "source": [
    "## Creating the Formats We'll Need For Our .xlsx File\n",
    "You'll recall from our first project that formats include colors, fonts, and also symbols like % and $. We'll need four main formats for our Excel document:\n",
    "\n",
    "* String format for tickers\n",
    "* \\$XX.XX format for stock prices\n",
    "* \\$XX,XXX format for market capitalization\n",
    "* Integer format for the number of shares to purchase\n",
    "* Float formats with 1 decimal for each valuation metric\n",
    "\n",
    "Since we already built some formats in past sections of this course, I've included them below for you. Run this code cell before proceeding."
   ]
  },
  {
   "cell_type": "code",
   "execution_count": 39,
   "metadata": {},
   "outputs": [],
   "source": [
    "background_color = '#0a0a23'\n",
    "font_color = '#ffffff'\n",
    "\n",
    "string_template = writer.book.add_format(\n",
    "        {\n",
    "            'font_color': font_color,\n",
    "            'bg_color': background_color,\n",
    "            'border': 1\n",
    "        }\n",
    "    )\n",
    "\n",
    "dollar_template = writer.book.add_format(\n",
    "        {\n",
    "            'num_format':'$0.00',\n",
    "            'font_color': font_color,\n",
    "            'bg_color': background_color,\n",
    "            'border': 1\n",
    "        }\n",
    "    )\n",
    "\n",
    "integer_template = writer.book.add_format(\n",
    "        {\n",
    "            'num_format':'0',\n",
    "            'font_color': font_color,\n",
    "            'bg_color': background_color,\n",
    "            'border': 1\n",
    "        }\n",
    "    )\n",
    "\n",
    "float_template = writer.book.add_format(\n",
    "        {\n",
    "            'num_format':'0',\n",
    "            'font_color': font_color,\n",
    "            'bg_color': background_color,\n",
    "            'border': 1\n",
    "        }\n",
    "    )\n",
    "\n",
    "percent_template = writer.book.add_format(\n",
    "        {\n",
    "            'num_format':'0.0%',\n",
    "            'font_color': font_color,\n",
    "            'bg_color': background_color,\n",
    "            'border': 1\n",
    "        }\n",
    "    )"
   ]
  },
  {
   "cell_type": "code",
   "execution_count": 40,
   "metadata": {},
   "outputs": [],
   "source": [
    "column_formats = {\n",
    "                    'A': ['Ticker', string_template],\n",
    "                    'B': ['Price', dollar_template],\n",
    "                    'C': ['Number of Shares to Buy', integer_template],\n",
    "                    'D': ['Price-to-Earnings Ratio', float_template],\n",
    "                    'E': ['PE Percentile', percent_template],\n",
    "                    'F': ['Price-to-Book Ratio', float_template],\n",
    "                    'G': ['PB Percentile',percent_template],\n",
    "                    'H': ['Price-to-Sales Ratio', float_template],\n",
    "                    'I': ['PS Percentile', percent_template],\n",
    "                    'J': ['EV/EBITDA', float_template],\n",
    "                    'K': ['EV/EBITDA Percentile', percent_template],\n",
    "                    'L': ['EV/GP', float_template],\n",
    "                    'M': ['EV/GP Percentile', percent_template],\n",
    "                    'N': ['RV Score', percent_template]\n",
    "                 }\n",
    "\n",
    "for column in column_formats.keys():\n",
    "    writer.sheets['Value Strategy'].set_column(f'{column}:{column}', 25, column_formats[column][1])\n",
    "    writer.sheets['Value Strategy'].write(f'{column}1', column_formats[column][0], column_formats[column][1])"
   ]
  },
  {
   "cell_type": "markdown",
   "metadata": {},
   "source": [
    "## Saving Our Excel Output\n",
    "As before, saving our Excel output is very easy:"
   ]
  },
  {
   "cell_type": "code",
   "execution_count": 41,
   "metadata": {},
   "outputs": [],
   "source": [
    "writer.save()"
   ]
  },
  {
   "cell_type": "code",
   "execution_count": null,
   "metadata": {},
   "outputs": [],
   "source": []
  }
 ],
 "metadata": {
  "kernelspec": {
   "name": "python3",
   "display_name": "Python 3.8.6 64-bit",
   "metadata": {
    "interpreter": {
     "hash": "082e9a3bcad0a290d0001e938aa60b99250c6c2ef33a923c00b70f9826caf4b7"
    }
   }
  },
  "language_info": {
   "codemirror_mode": {
    "name": "ipython",
    "version": 3
   },
   "file_extension": ".py",
   "mimetype": "text/x-python",
   "name": "python",
   "nbconvert_exporter": "python",
   "pygments_lexer": "ipython3",
   "version": "3.8.6-final"
  }
 },
 "nbformat": 4,
 "nbformat_minor": 4
}